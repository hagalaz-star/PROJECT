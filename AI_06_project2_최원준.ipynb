{
  "nbformat": 4,
  "nbformat_minor": 0,
  "metadata": {
    "colab": {
      "name": "AI_06_project2_최원준.ipynb",
      "provenance": [],
      "collapsed_sections": []
    },
    "kernelspec": {
      "name": "python3",
      "display_name": "Python 3"
    },
    "language_info": {
      "name": "python"
    }
  },
  "cells": [
    {
      "cell_type": "code",
      "metadata": {
        "colab": {
          "base_uri": "https://localhost:8080/"
        },
        "id": "yOUzQBX5j00w",
        "outputId": "75f66257-9185-4bcb-afe4-9236a8df7a16"
      },
      "source": [
        "from google.colab import drive\n",
        "drive.mount('/content/drive')"
      ],
      "execution_count": 1,
      "outputs": [
        {
          "output_type": "stream",
          "name": "stdout",
          "text": [
            "Drive already mounted at /content/drive; to attempt to forcibly remount, call drive.mount(\"/content/drive\", force_remount=True).\n"
          ]
        }
      ]
    },
    {
      "cell_type": "code",
      "metadata": {
        "colab": {
          "base_uri": "https://localhost:8080/",
          "height": 225
        },
        "id": "pfmsXrupj7oN",
        "outputId": "d10c4048-e717-4419-83f1-5355215430d5"
      },
      "source": [
        "#  다음 전설포켓몬 예측 \n",
        "import pandas as pd\n",
        "df = pd.read_csv(\"/content/drive/MyDrive/kaglee/pokemon_alopez247.csv\")\n",
        "df.head()"
      ],
      "execution_count": 1,
      "outputs": [
        {
          "output_type": "execute_result",
          "data": {
            "text/html": [
              "<div>\n",
              "<style scoped>\n",
              "    .dataframe tbody tr th:only-of-type {\n",
              "        vertical-align: middle;\n",
              "    }\n",
              "\n",
              "    .dataframe tbody tr th {\n",
              "        vertical-align: top;\n",
              "    }\n",
              "\n",
              "    .dataframe thead th {\n",
              "        text-align: right;\n",
              "    }\n",
              "</style>\n",
              "<table border=\"1\" class=\"dataframe\">\n",
              "  <thead>\n",
              "    <tr style=\"text-align: right;\">\n",
              "      <th></th>\n",
              "      <th>Number</th>\n",
              "      <th>Name</th>\n",
              "      <th>Type_1</th>\n",
              "      <th>Type_2</th>\n",
              "      <th>Total</th>\n",
              "      <th>HP</th>\n",
              "      <th>Attack</th>\n",
              "      <th>Defense</th>\n",
              "      <th>Sp_Atk</th>\n",
              "      <th>Sp_Def</th>\n",
              "      <th>Speed</th>\n",
              "      <th>Generation</th>\n",
              "      <th>isLegendary</th>\n",
              "      <th>Color</th>\n",
              "      <th>hasGender</th>\n",
              "      <th>Pr_Male</th>\n",
              "      <th>Egg_Group_1</th>\n",
              "      <th>Egg_Group_2</th>\n",
              "      <th>hasMegaEvolution</th>\n",
              "      <th>Height_m</th>\n",
              "      <th>Weight_kg</th>\n",
              "      <th>Catch_Rate</th>\n",
              "      <th>Body_Style</th>\n",
              "    </tr>\n",
              "  </thead>\n",
              "  <tbody>\n",
              "    <tr>\n",
              "      <th>0</th>\n",
              "      <td>1</td>\n",
              "      <td>Bulbasaur</td>\n",
              "      <td>Grass</td>\n",
              "      <td>Poison</td>\n",
              "      <td>318</td>\n",
              "      <td>45</td>\n",
              "      <td>49</td>\n",
              "      <td>49</td>\n",
              "      <td>65</td>\n",
              "      <td>65</td>\n",
              "      <td>45</td>\n",
              "      <td>1</td>\n",
              "      <td>False</td>\n",
              "      <td>Green</td>\n",
              "      <td>True</td>\n",
              "      <td>0.875</td>\n",
              "      <td>Monster</td>\n",
              "      <td>Grass</td>\n",
              "      <td>False</td>\n",
              "      <td>0.71</td>\n",
              "      <td>6.9</td>\n",
              "      <td>45</td>\n",
              "      <td>quadruped</td>\n",
              "    </tr>\n",
              "    <tr>\n",
              "      <th>1</th>\n",
              "      <td>2</td>\n",
              "      <td>Ivysaur</td>\n",
              "      <td>Grass</td>\n",
              "      <td>Poison</td>\n",
              "      <td>405</td>\n",
              "      <td>60</td>\n",
              "      <td>62</td>\n",
              "      <td>63</td>\n",
              "      <td>80</td>\n",
              "      <td>80</td>\n",
              "      <td>60</td>\n",
              "      <td>1</td>\n",
              "      <td>False</td>\n",
              "      <td>Green</td>\n",
              "      <td>True</td>\n",
              "      <td>0.875</td>\n",
              "      <td>Monster</td>\n",
              "      <td>Grass</td>\n",
              "      <td>False</td>\n",
              "      <td>0.99</td>\n",
              "      <td>13.0</td>\n",
              "      <td>45</td>\n",
              "      <td>quadruped</td>\n",
              "    </tr>\n",
              "    <tr>\n",
              "      <th>2</th>\n",
              "      <td>3</td>\n",
              "      <td>Venusaur</td>\n",
              "      <td>Grass</td>\n",
              "      <td>Poison</td>\n",
              "      <td>525</td>\n",
              "      <td>80</td>\n",
              "      <td>82</td>\n",
              "      <td>83</td>\n",
              "      <td>100</td>\n",
              "      <td>100</td>\n",
              "      <td>80</td>\n",
              "      <td>1</td>\n",
              "      <td>False</td>\n",
              "      <td>Green</td>\n",
              "      <td>True</td>\n",
              "      <td>0.875</td>\n",
              "      <td>Monster</td>\n",
              "      <td>Grass</td>\n",
              "      <td>True</td>\n",
              "      <td>2.01</td>\n",
              "      <td>100.0</td>\n",
              "      <td>45</td>\n",
              "      <td>quadruped</td>\n",
              "    </tr>\n",
              "    <tr>\n",
              "      <th>3</th>\n",
              "      <td>4</td>\n",
              "      <td>Charmander</td>\n",
              "      <td>Fire</td>\n",
              "      <td>NaN</td>\n",
              "      <td>309</td>\n",
              "      <td>39</td>\n",
              "      <td>52</td>\n",
              "      <td>43</td>\n",
              "      <td>60</td>\n",
              "      <td>50</td>\n",
              "      <td>65</td>\n",
              "      <td>1</td>\n",
              "      <td>False</td>\n",
              "      <td>Red</td>\n",
              "      <td>True</td>\n",
              "      <td>0.875</td>\n",
              "      <td>Monster</td>\n",
              "      <td>Dragon</td>\n",
              "      <td>False</td>\n",
              "      <td>0.61</td>\n",
              "      <td>8.5</td>\n",
              "      <td>45</td>\n",
              "      <td>bipedal_tailed</td>\n",
              "    </tr>\n",
              "    <tr>\n",
              "      <th>4</th>\n",
              "      <td>5</td>\n",
              "      <td>Charmeleon</td>\n",
              "      <td>Fire</td>\n",
              "      <td>NaN</td>\n",
              "      <td>405</td>\n",
              "      <td>58</td>\n",
              "      <td>64</td>\n",
              "      <td>58</td>\n",
              "      <td>80</td>\n",
              "      <td>65</td>\n",
              "      <td>80</td>\n",
              "      <td>1</td>\n",
              "      <td>False</td>\n",
              "      <td>Red</td>\n",
              "      <td>True</td>\n",
              "      <td>0.875</td>\n",
              "      <td>Monster</td>\n",
              "      <td>Dragon</td>\n",
              "      <td>False</td>\n",
              "      <td>1.09</td>\n",
              "      <td>19.0</td>\n",
              "      <td>45</td>\n",
              "      <td>bipedal_tailed</td>\n",
              "    </tr>\n",
              "  </tbody>\n",
              "</table>\n",
              "</div>"
            ],
            "text/plain": [
              "   Number        Name Type_1  ... Weight_kg  Catch_Rate      Body_Style\n",
              "0       1   Bulbasaur  Grass  ...       6.9          45       quadruped\n",
              "1       2     Ivysaur  Grass  ...      13.0          45       quadruped\n",
              "2       3    Venusaur  Grass  ...     100.0          45       quadruped\n",
              "3       4  Charmander   Fire  ...       8.5          45  bipedal_tailed\n",
              "4       5  Charmeleon   Fire  ...      19.0          45  bipedal_tailed\n",
              "\n",
              "[5 rows x 23 columns]"
            ]
          },
          "metadata": {},
          "execution_count": 1
        }
      ]
    },
    {
      "cell_type": "code",
      "metadata": {
        "colab": {
          "base_uri": "https://localhost:8080/",
          "height": 225
        },
        "id": "LyvECUV3ZPSI",
        "outputId": "22fb834c-512c-4480-8940-c073b67532d2"
      },
      "source": [
        "df.tail()"
      ],
      "execution_count": 2,
      "outputs": [
        {
          "output_type": "execute_result",
          "data": {
            "text/html": [
              "<div>\n",
              "<style scoped>\n",
              "    .dataframe tbody tr th:only-of-type {\n",
              "        vertical-align: middle;\n",
              "    }\n",
              "\n",
              "    .dataframe tbody tr th {\n",
              "        vertical-align: top;\n",
              "    }\n",
              "\n",
              "    .dataframe thead th {\n",
              "        text-align: right;\n",
              "    }\n",
              "</style>\n",
              "<table border=\"1\" class=\"dataframe\">\n",
              "  <thead>\n",
              "    <tr style=\"text-align: right;\">\n",
              "      <th></th>\n",
              "      <th>Number</th>\n",
              "      <th>Name</th>\n",
              "      <th>Type_1</th>\n",
              "      <th>Type_2</th>\n",
              "      <th>Total</th>\n",
              "      <th>HP</th>\n",
              "      <th>Attack</th>\n",
              "      <th>Defense</th>\n",
              "      <th>Sp_Atk</th>\n",
              "      <th>Sp_Def</th>\n",
              "      <th>Speed</th>\n",
              "      <th>Generation</th>\n",
              "      <th>isLegendary</th>\n",
              "      <th>Color</th>\n",
              "      <th>hasGender</th>\n",
              "      <th>Pr_Male</th>\n",
              "      <th>Egg_Group_1</th>\n",
              "      <th>Egg_Group_2</th>\n",
              "      <th>hasMegaEvolution</th>\n",
              "      <th>Height_m</th>\n",
              "      <th>Weight_kg</th>\n",
              "      <th>Catch_Rate</th>\n",
              "      <th>Body_Style</th>\n",
              "    </tr>\n",
              "  </thead>\n",
              "  <tbody>\n",
              "    <tr>\n",
              "      <th>716</th>\n",
              "      <td>717</td>\n",
              "      <td>Yveltal</td>\n",
              "      <td>Dark</td>\n",
              "      <td>Flying</td>\n",
              "      <td>680</td>\n",
              "      <td>126</td>\n",
              "      <td>131</td>\n",
              "      <td>95</td>\n",
              "      <td>131</td>\n",
              "      <td>98</td>\n",
              "      <td>99</td>\n",
              "      <td>6</td>\n",
              "      <td>True</td>\n",
              "      <td>Red</td>\n",
              "      <td>False</td>\n",
              "      <td>NaN</td>\n",
              "      <td>Undiscovered</td>\n",
              "      <td>NaN</td>\n",
              "      <td>False</td>\n",
              "      <td>5.79</td>\n",
              "      <td>203.0</td>\n",
              "      <td>45</td>\n",
              "      <td>two_wings</td>\n",
              "    </tr>\n",
              "    <tr>\n",
              "      <th>717</th>\n",
              "      <td>718</td>\n",
              "      <td>Zygarde</td>\n",
              "      <td>Dragon</td>\n",
              "      <td>Ground</td>\n",
              "      <td>600</td>\n",
              "      <td>108</td>\n",
              "      <td>100</td>\n",
              "      <td>121</td>\n",
              "      <td>81</td>\n",
              "      <td>95</td>\n",
              "      <td>95</td>\n",
              "      <td>6</td>\n",
              "      <td>True</td>\n",
              "      <td>Green</td>\n",
              "      <td>False</td>\n",
              "      <td>NaN</td>\n",
              "      <td>Undiscovered</td>\n",
              "      <td>NaN</td>\n",
              "      <td>False</td>\n",
              "      <td>5.00</td>\n",
              "      <td>305.0</td>\n",
              "      <td>3</td>\n",
              "      <td>serpentine_body</td>\n",
              "    </tr>\n",
              "    <tr>\n",
              "      <th>718</th>\n",
              "      <td>719</td>\n",
              "      <td>Diancie</td>\n",
              "      <td>Rock</td>\n",
              "      <td>Fairy</td>\n",
              "      <td>600</td>\n",
              "      <td>50</td>\n",
              "      <td>100</td>\n",
              "      <td>150</td>\n",
              "      <td>100</td>\n",
              "      <td>150</td>\n",
              "      <td>50</td>\n",
              "      <td>6</td>\n",
              "      <td>True</td>\n",
              "      <td>Pink</td>\n",
              "      <td>False</td>\n",
              "      <td>NaN</td>\n",
              "      <td>Undiscovered</td>\n",
              "      <td>NaN</td>\n",
              "      <td>True</td>\n",
              "      <td>0.71</td>\n",
              "      <td>8.8</td>\n",
              "      <td>3</td>\n",
              "      <td>head_arms</td>\n",
              "    </tr>\n",
              "    <tr>\n",
              "      <th>719</th>\n",
              "      <td>720</td>\n",
              "      <td>Hoopa</td>\n",
              "      <td>Psychic</td>\n",
              "      <td>Ghost</td>\n",
              "      <td>600</td>\n",
              "      <td>80</td>\n",
              "      <td>110</td>\n",
              "      <td>60</td>\n",
              "      <td>150</td>\n",
              "      <td>130</td>\n",
              "      <td>70</td>\n",
              "      <td>6</td>\n",
              "      <td>True</td>\n",
              "      <td>Purple</td>\n",
              "      <td>False</td>\n",
              "      <td>NaN</td>\n",
              "      <td>Undiscovered</td>\n",
              "      <td>NaN</td>\n",
              "      <td>False</td>\n",
              "      <td>0.51</td>\n",
              "      <td>9.0</td>\n",
              "      <td>3</td>\n",
              "      <td>head_only</td>\n",
              "    </tr>\n",
              "    <tr>\n",
              "      <th>720</th>\n",
              "      <td>721</td>\n",
              "      <td>Volcanion</td>\n",
              "      <td>Fire</td>\n",
              "      <td>Water</td>\n",
              "      <td>600</td>\n",
              "      <td>80</td>\n",
              "      <td>110</td>\n",
              "      <td>120</td>\n",
              "      <td>130</td>\n",
              "      <td>90</td>\n",
              "      <td>70</td>\n",
              "      <td>6</td>\n",
              "      <td>True</td>\n",
              "      <td>Brown</td>\n",
              "      <td>False</td>\n",
              "      <td>NaN</td>\n",
              "      <td>Undiscovered</td>\n",
              "      <td>NaN</td>\n",
              "      <td>False</td>\n",
              "      <td>1.70</td>\n",
              "      <td>195.0</td>\n",
              "      <td>3</td>\n",
              "      <td>quadruped</td>\n",
              "    </tr>\n",
              "  </tbody>\n",
              "</table>\n",
              "</div>"
            ],
            "text/plain": [
              "     Number       Name   Type_1  ... Weight_kg  Catch_Rate       Body_Style\n",
              "716     717    Yveltal     Dark  ...     203.0          45        two_wings\n",
              "717     718    Zygarde   Dragon  ...     305.0           3  serpentine_body\n",
              "718     719    Diancie     Rock  ...       8.8           3        head_arms\n",
              "719     720      Hoopa  Psychic  ...       9.0           3        head_only\n",
              "720     721  Volcanion     Fire  ...     195.0           3        quadruped\n",
              "\n",
              "[5 rows x 23 columns]"
            ]
          },
          "metadata": {},
          "execution_count": 2
        }
      ]
    },
    {
      "cell_type": "code",
      "metadata": {
        "colab": {
          "base_uri": "https://localhost:8080/",
          "height": 299
        },
        "id": "5iBqy5usnMjm",
        "outputId": "aaf0a2d0-362e-460d-9590-bdd2ad25ecbc"
      },
      "source": [
        "df.describe()"
      ],
      "execution_count": 3,
      "outputs": [
        {
          "output_type": "execute_result",
          "data": {
            "text/html": [
              "<div>\n",
              "<style scoped>\n",
              "    .dataframe tbody tr th:only-of-type {\n",
              "        vertical-align: middle;\n",
              "    }\n",
              "\n",
              "    .dataframe tbody tr th {\n",
              "        vertical-align: top;\n",
              "    }\n",
              "\n",
              "    .dataframe thead th {\n",
              "        text-align: right;\n",
              "    }\n",
              "</style>\n",
              "<table border=\"1\" class=\"dataframe\">\n",
              "  <thead>\n",
              "    <tr style=\"text-align: right;\">\n",
              "      <th></th>\n",
              "      <th>Number</th>\n",
              "      <th>Total</th>\n",
              "      <th>HP</th>\n",
              "      <th>Attack</th>\n",
              "      <th>Defense</th>\n",
              "      <th>Sp_Atk</th>\n",
              "      <th>Sp_Def</th>\n",
              "      <th>Speed</th>\n",
              "      <th>Generation</th>\n",
              "      <th>Pr_Male</th>\n",
              "      <th>Height_m</th>\n",
              "      <th>Weight_kg</th>\n",
              "      <th>Catch_Rate</th>\n",
              "    </tr>\n",
              "  </thead>\n",
              "  <tbody>\n",
              "    <tr>\n",
              "      <th>count</th>\n",
              "      <td>721.00000</td>\n",
              "      <td>721.000000</td>\n",
              "      <td>721.000000</td>\n",
              "      <td>721.000000</td>\n",
              "      <td>721.000000</td>\n",
              "      <td>721.000000</td>\n",
              "      <td>721.000000</td>\n",
              "      <td>721.000000</td>\n",
              "      <td>721.000000</td>\n",
              "      <td>644.000000</td>\n",
              "      <td>721.000000</td>\n",
              "      <td>721.000000</td>\n",
              "      <td>721.000000</td>\n",
              "    </tr>\n",
              "    <tr>\n",
              "      <th>mean</th>\n",
              "      <td>361.00000</td>\n",
              "      <td>417.945908</td>\n",
              "      <td>68.380028</td>\n",
              "      <td>75.013870</td>\n",
              "      <td>70.808599</td>\n",
              "      <td>68.737864</td>\n",
              "      <td>69.291262</td>\n",
              "      <td>65.714286</td>\n",
              "      <td>3.323162</td>\n",
              "      <td>0.553377</td>\n",
              "      <td>1.144979</td>\n",
              "      <td>56.773370</td>\n",
              "      <td>100.246879</td>\n",
              "    </tr>\n",
              "    <tr>\n",
              "      <th>std</th>\n",
              "      <td>208.27906</td>\n",
              "      <td>109.663671</td>\n",
              "      <td>25.848272</td>\n",
              "      <td>28.984475</td>\n",
              "      <td>29.296558</td>\n",
              "      <td>28.788005</td>\n",
              "      <td>27.015860</td>\n",
              "      <td>27.277920</td>\n",
              "      <td>1.669873</td>\n",
              "      <td>0.199969</td>\n",
              "      <td>1.044369</td>\n",
              "      <td>89.095667</td>\n",
              "      <td>76.573513</td>\n",
              "    </tr>\n",
              "    <tr>\n",
              "      <th>min</th>\n",
              "      <td>1.00000</td>\n",
              "      <td>180.000000</td>\n",
              "      <td>1.000000</td>\n",
              "      <td>5.000000</td>\n",
              "      <td>5.000000</td>\n",
              "      <td>10.000000</td>\n",
              "      <td>20.000000</td>\n",
              "      <td>5.000000</td>\n",
              "      <td>1.000000</td>\n",
              "      <td>0.000000</td>\n",
              "      <td>0.100000</td>\n",
              "      <td>0.100000</td>\n",
              "      <td>3.000000</td>\n",
              "    </tr>\n",
              "    <tr>\n",
              "      <th>25%</th>\n",
              "      <td>181.00000</td>\n",
              "      <td>320.000000</td>\n",
              "      <td>50.000000</td>\n",
              "      <td>53.000000</td>\n",
              "      <td>50.000000</td>\n",
              "      <td>45.000000</td>\n",
              "      <td>50.000000</td>\n",
              "      <td>45.000000</td>\n",
              "      <td>2.000000</td>\n",
              "      <td>0.500000</td>\n",
              "      <td>0.610000</td>\n",
              "      <td>9.400000</td>\n",
              "      <td>45.000000</td>\n",
              "    </tr>\n",
              "    <tr>\n",
              "      <th>50%</th>\n",
              "      <td>361.00000</td>\n",
              "      <td>424.000000</td>\n",
              "      <td>65.000000</td>\n",
              "      <td>74.000000</td>\n",
              "      <td>65.000000</td>\n",
              "      <td>65.000000</td>\n",
              "      <td>65.000000</td>\n",
              "      <td>65.000000</td>\n",
              "      <td>3.000000</td>\n",
              "      <td>0.500000</td>\n",
              "      <td>0.990000</td>\n",
              "      <td>28.000000</td>\n",
              "      <td>65.000000</td>\n",
              "    </tr>\n",
              "    <tr>\n",
              "      <th>75%</th>\n",
              "      <td>541.00000</td>\n",
              "      <td>499.000000</td>\n",
              "      <td>80.000000</td>\n",
              "      <td>95.000000</td>\n",
              "      <td>85.000000</td>\n",
              "      <td>90.000000</td>\n",
              "      <td>85.000000</td>\n",
              "      <td>85.000000</td>\n",
              "      <td>5.000000</td>\n",
              "      <td>0.500000</td>\n",
              "      <td>1.400000</td>\n",
              "      <td>61.000000</td>\n",
              "      <td>180.000000</td>\n",
              "    </tr>\n",
              "    <tr>\n",
              "      <th>max</th>\n",
              "      <td>721.00000</td>\n",
              "      <td>720.000000</td>\n",
              "      <td>255.000000</td>\n",
              "      <td>165.000000</td>\n",
              "      <td>230.000000</td>\n",
              "      <td>154.000000</td>\n",
              "      <td>230.000000</td>\n",
              "      <td>160.000000</td>\n",
              "      <td>6.000000</td>\n",
              "      <td>1.000000</td>\n",
              "      <td>14.500000</td>\n",
              "      <td>950.000000</td>\n",
              "      <td>255.000000</td>\n",
              "    </tr>\n",
              "  </tbody>\n",
              "</table>\n",
              "</div>"
            ],
            "text/plain": [
              "          Number       Total          HP  ...    Height_m   Weight_kg  Catch_Rate\n",
              "count  721.00000  721.000000  721.000000  ...  721.000000  721.000000  721.000000\n",
              "mean   361.00000  417.945908   68.380028  ...    1.144979   56.773370  100.246879\n",
              "std    208.27906  109.663671   25.848272  ...    1.044369   89.095667   76.573513\n",
              "min      1.00000  180.000000    1.000000  ...    0.100000    0.100000    3.000000\n",
              "25%    181.00000  320.000000   50.000000  ...    0.610000    9.400000   45.000000\n",
              "50%    361.00000  424.000000   65.000000  ...    0.990000   28.000000   65.000000\n",
              "75%    541.00000  499.000000   80.000000  ...    1.400000   61.000000  180.000000\n",
              "max    721.00000  720.000000  255.000000  ...   14.500000  950.000000  255.000000\n",
              "\n",
              "[8 rows x 13 columns]"
            ]
          },
          "metadata": {},
          "execution_count": 3
        }
      ]
    },
    {
      "cell_type": "code",
      "metadata": {
        "colab": {
          "base_uri": "https://localhost:8080/"
        },
        "id": "ylRLD0L5nRaG",
        "outputId": "34d2d662-554c-421b-e6cc-91dd629f1105"
      },
      "source": [
        "df.dtypes"
      ],
      "execution_count": 4,
      "outputs": [
        {
          "output_type": "execute_result",
          "data": {
            "text/plain": [
              "Number                int64\n",
              "Name                 object\n",
              "Type_1               object\n",
              "Type_2               object\n",
              "Total                 int64\n",
              "HP                    int64\n",
              "Attack                int64\n",
              "Defense               int64\n",
              "Sp_Atk                int64\n",
              "Sp_Def                int64\n",
              "Speed                 int64\n",
              "Generation            int64\n",
              "isLegendary            bool\n",
              "Color                object\n",
              "hasGender              bool\n",
              "Pr_Male             float64\n",
              "Egg_Group_1          object\n",
              "Egg_Group_2          object\n",
              "hasMegaEvolution       bool\n",
              "Height_m            float64\n",
              "Weight_kg           float64\n",
              "Catch_Rate            int64\n",
              "Body_Style           object\n",
              "dtype: object"
            ]
          },
          "metadata": {},
          "execution_count": 4
        }
      ]
    },
    {
      "cell_type": "code",
      "metadata": {
        "colab": {
          "base_uri": "https://localhost:8080/"
        },
        "id": "qTlShpe1Vlf0",
        "outputId": "74acdf56-e782-4133-d053-c784ebb80037"
      },
      "source": [
        "df.isnull().sum()"
      ],
      "execution_count": 5,
      "outputs": [
        {
          "output_type": "execute_result",
          "data": {
            "text/plain": [
              "Number                0\n",
              "Name                  0\n",
              "Type_1                0\n",
              "Type_2              371\n",
              "Total                 0\n",
              "HP                    0\n",
              "Attack                0\n",
              "Defense               0\n",
              "Sp_Atk                0\n",
              "Sp_Def                0\n",
              "Speed                 0\n",
              "Generation            0\n",
              "isLegendary           0\n",
              "Color                 0\n",
              "hasGender             0\n",
              "Pr_Male              77\n",
              "Egg_Group_1           0\n",
              "Egg_Group_2         530\n",
              "hasMegaEvolution      0\n",
              "Height_m              0\n",
              "Weight_kg             0\n",
              "Catch_Rate            0\n",
              "Body_Style            0\n",
              "dtype: int64"
            ]
          },
          "metadata": {},
          "execution_count": 5
        }
      ]
    },
    {
      "cell_type": "code",
      "metadata": {
        "colab": {
          "base_uri": "https://localhost:8080/"
        },
        "id": "nEogQ9JGnbZQ",
        "outputId": "28b6a053-1649-4600-fcf2-19bb2145ac9a"
      },
      "source": [
        "df['isLegendary'].value_counts()"
      ],
      "execution_count": 6,
      "outputs": [
        {
          "output_type": "execute_result",
          "data": {
            "text/plain": [
              "False    675\n",
              "True      46\n",
              "Name: isLegendary, dtype: int64"
            ]
          },
          "metadata": {},
          "execution_count": 6
        }
      ]
    },
    {
      "cell_type": "code",
      "metadata": {
        "colab": {
          "base_uri": "https://localhost:8080/",
          "height": 390
        },
        "id": "ju8AJadgOq73",
        "outputId": "6ed62ec8-1dcb-4375-e3f4-5cde1e10ca0f"
      },
      "source": [
        "import matplotlib.pyplot as plt\n",
        "import seaborn as sns\n",
        "\n",
        "plt.figure(figsize=(10, 5))\n",
        "sns.countplot(df['isLegendary'])\n",
        "plt.show()"
      ],
      "execution_count": 7,
      "outputs": [
        {
          "output_type": "stream",
          "name": "stderr",
          "text": [
            "/usr/local/lib/python3.7/dist-packages/seaborn/_decorators.py:43: FutureWarning: Pass the following variable as a keyword arg: x. From version 0.12, the only valid positional argument will be `data`, and passing other arguments without an explicit keyword will result in an error or misinterpretation.\n",
            "  FutureWarning\n"
          ]
        },
        {
          "output_type": "display_data",
          "data": {
            "image/png": "[encoded data removed]",
            "text/plain": [
              "<Figure size 720x360 with 1 Axes>"
            ]
          },
          "metadata": {
            "needs_background": "light"
          }
        }
      ]
    },
    {
      "cell_type": "code",
      "metadata": {
        "colab": {
          "base_uri": "https://localhost:8080/",
          "height": 391
        },
        "id": "KdfBAO1XPHAC",
        "outputId": "6cbcf31c-e53e-4226-da6a-c55c1ae3ebed"
      },
      "source": [
        "# type1 type2 데이터 겹칠수 있는지 확인 그래프\n",
        "plt.figure(figsize=(13,5))\n",
        "sns.countplot(df['Type_1'])\n",
        "plt.show()"
      ],
      "execution_count": 8,
      "outputs": [
        {
          "output_type": "stream",
          "name": "stderr",
          "text": [
            "/usr/local/lib/python3.7/dist-packages/seaborn/_decorators.py:43: FutureWarning: Pass the following variable as a keyword arg: x. From version 0.12, the only valid positional argument will be `data`, and passing other arguments without an explicit keyword will result in an error or misinterpretation.\n",
            "  FutureWarning\n"
          ]
        },
        {
          "output_type": "display_data",
          "data": {
            "image/png": "[encoded data removed]",
            "text/plain": [
              "<Figure size 936x360 with 1 Axes>"
            ]
          },
          "metadata": {
            "needs_background": "light"
          }
        }
      ]
    },
    {
      "cell_type": "code",
      "metadata": {
        "colab": {
          "base_uri": "https://localhost:8080/",
          "height": 391
        },
        "id": "G0bit6NVZoUd",
        "outputId": "bd4eda0f-6a53-4af4-97e8-d3ce2ddc2c15"
      },
      "source": [
        "plt.figure(figsize=(13,5))\n",
        "sns.countplot(df['Type_2'])\n",
        "plt.show()"
      ],
      "execution_count": 9,
      "outputs": [
        {
          "output_type": "stream",
          "name": "stderr",
          "text": [
            "/usr/local/lib/python3.7/dist-packages/seaborn/_decorators.py:43: FutureWarning: Pass the following variable as a keyword arg: x. From version 0.12, the only valid positional argument will be `data`, and passing other arguments without an explicit keyword will result in an error or misinterpretation.\n",
            "  FutureWarning\n"
          ]
        },
        {
          "output_type": "display_data",
          "data": {
            "image/png": "[encoded data removed]",
            "text/plain": [
              "<Figure size 936x360 with 1 Axes>"
            ]
          },
          "metadata": {
            "needs_background": "light"
          }
        }
      ]
    },
    {
      "cell_type": "code",
      "metadata": {
        "colab": {
          "base_uri": "https://localhost:8080/",
          "height": 453
        },
        "id": "8iqY0-ErCEa2",
        "outputId": "242a3ed4-3b68-4880-a55b-8496c4da6d04"
      },
      "source": [
        "# type1 type2 과 target 으로 잡은 isLegendary 비교  \n",
        "\n",
        "pd.crosstab(df.Type_1, df.isLegendary).plot(kind='bar', figsize=(12,6))\n",
        "\n",
        "plt.title('Type_1 V/S Legendary Status')\n",
        "plt.xlabel('Group')\n",
        "plt.ylabel('No. of Pokemon')"
      ],
      "execution_count": 10,
      "outputs": [
        {
          "output_type": "execute_result",
          "data": {
            "text/plain": [
              "Text(0, 0.5, 'No. of Pokemon')"
            ]
          },
          "metadata": {},
          "execution_count": 10
        },
        {
          "output_type": "display_data",
          "data": {
            "image/png": "[encoded data removed]",
            "text/plain": [
              "<Figure size 864x432 with 1 Axes>"
            ]
          },
          "metadata": {
            "needs_background": "light"
          }
        }
      ]
    },
    {
      "cell_type": "code",
      "metadata": {
        "colab": {
          "base_uri": "https://localhost:8080/",
          "height": 453
        },
        "id": "GpD-gOjlCMPh",
        "outputId": "a0d8f490-367c-431d-eb80-32da842bda20"
      },
      "source": [
        "pd.crosstab(df.Type_2, df.isLegendary).plot(kind='bar', figsize=(12,6))\n",
        "\n",
        "plt.title('Type_2 V/S Legendary Status')\n",
        "plt.xlabel('Group')\n",
        "plt.ylabel('No. of Pokemon')"
      ],
      "execution_count": 11,
      "outputs": [
        {
          "output_type": "execute_result",
          "data": {
            "text/plain": [
              "Text(0, 0.5, 'No. of Pokemon')"
            ]
          },
          "metadata": {},
          "execution_count": 11
        },
        {
          "output_type": "display_data",
          "data": {
            "image/png": "[encoded data removed]",
            "text/plain": [
              "<Figure size 864x432 with 1 Axes>"
            ]
          },
          "metadata": {
            "needs_background": "light"
          }
        }
      ]
    },
    {
      "cell_type": "code",
      "metadata": {
        "id": "5AnoUiGDKL71"
      },
      "source": [
        "# type1 type2 데이터 합치기 \n",
        "type_1 = pd.get_dummies(df['Type_1'],drop_first=True,prefix = '1')"
      ],
      "execution_count": 12,
      "outputs": []
    },
    {
      "cell_type": "code",
      "metadata": {
        "id": "ZaLlc2otKNDR"
      },
      "source": [
        "type_2 = pd.get_dummies(df['Type_2'],drop_first = True)"
      ],
      "execution_count": 13,
      "outputs": []
    },
    {
      "cell_type": "code",
      "metadata": {
        "id": "ZneN46CaKO8E"
      },
      "source": [
        "data = pd.concat([type_1,type_2],axis=1)"
      ],
      "execution_count": 14,
      "outputs": []
    },
    {
      "cell_type": "code",
      "metadata": {
        "colab": {
          "base_uri": "https://localhost:8080/"
        },
        "id": "py6JhWSJKRMV",
        "outputId": "f60b6051-a29b-49cf-d07f-202e7d9b114d"
      },
      "source": [
        "data.info()"
      ],
      "execution_count": 15,
      "outputs": [
        {
          "output_type": "stream",
          "name": "stdout",
          "text": [
            "<class 'pandas.core.frame.DataFrame'>\n",
            "RangeIndex: 721 entries, 0 to 720\n",
            "Data columns (total 34 columns):\n",
            " #   Column      Non-Null Count  Dtype\n",
            "---  ------      --------------  -----\n",
            " 0   1_Dark      721 non-null    uint8\n",
            " 1   1_Dragon    721 non-null    uint8\n",
            " 2   1_Electric  721 non-null    uint8\n",
            " 3   1_Fairy     721 non-null    uint8\n",
            " 4   1_Fighting  721 non-null    uint8\n",
            " 5   1_Fire      721 non-null    uint8\n",
            " 6   1_Flying    721 non-null    uint8\n",
            " 7   1_Ghost     721 non-null    uint8\n",
            " 8   1_Grass     721 non-null    uint8\n",
            " 9   1_Ground    721 non-null    uint8\n",
            " 10  1_Ice       721 non-null    uint8\n",
            " 11  1_Normal    721 non-null    uint8\n",
            " 12  1_Poison    721 non-null    uint8\n",
            " 13  1_Psychic   721 non-null    uint8\n",
            " 14  1_Rock      721 non-null    uint8\n",
            " 15  1_Steel     721 non-null    uint8\n",
            " 16  1_Water     721 non-null    uint8\n",
            " 17  Dark        721 non-null    uint8\n",
            " 18  Dragon      721 non-null    uint8\n",
            " 19  Electric    721 non-null    uint8\n",
            " 20  Fairy       721 non-null    uint8\n",
            " 21  Fighting    721 non-null    uint8\n",
            " 22  Fire        721 non-null    uint8\n",
            " 23  Flying      721 non-null    uint8\n",
            " 24  Ghost       721 non-null    uint8\n",
            " 25  Grass       721 non-null    uint8\n",
            " 26  Ground      721 non-null    uint8\n",
            " 27  Ice         721 non-null    uint8\n",
            " 28  Normal      721 non-null    uint8\n",
            " 29  Poison      721 non-null    uint8\n",
            " 30  Psychic     721 non-null    uint8\n",
            " 31  Rock        721 non-null    uint8\n",
            " 32  Steel       721 non-null    uint8\n",
            " 33  Water       721 non-null    uint8\n",
            "dtypes: uint8(34)\n",
            "memory usage: 24.1 KB\n"
          ]
        }
      ]
    },
    {
      "cell_type": "code",
      "metadata": {
        "colab": {
          "base_uri": "https://localhost:8080/"
        },
        "id": "m2RuOPTG8PpM",
        "outputId": "795cd51e-8f5b-4c0a-a9f1-bd0d411d4d05"
      },
      "source": [
        "data.columns"
      ],
      "execution_count": 16,
      "outputs": [
        {
          "output_type": "execute_result",
          "data": {
            "text/plain": [
              "Index(['1_Dark', '1_Dragon', '1_Electric', '1_Fairy', '1_Fighting', '1_Fire',\n",
              "       '1_Flying', '1_Ghost', '1_Grass', '1_Ground', '1_Ice', '1_Normal',\n",
              "       '1_Poison', '1_Psychic', '1_Rock', '1_Steel', '1_Water', 'Dark',\n",
              "       'Dragon', 'Electric', 'Fairy', 'Fighting', 'Fire', 'Flying', 'Ghost',\n",
              "       'Grass', 'Ground', 'Ice', 'Normal', 'Poison', 'Psychic', 'Rock',\n",
              "       'Steel', 'Water'],\n",
              "      dtype='object')"
            ]
          },
          "metadata": {},
          "execution_count": 16
        }
      ]
    },
    {
      "cell_type": "code",
      "metadata": {
        "id": "X0G0WiDQKgRN"
      },
      "source": [
        "data.loc[(data['1_Dark']==1) |(data['Dark']==1),\"dark\"]=1 \n",
        "data.loc[(data['1_Dark']!=1) &(data['Dark']!=1),\"dark\"]=0 \n",
        "\n",
        "data.loc[(data['1_Dragon']!=1) |(data['Dragon']!=1),\"dragon\"]=1\n",
        "data.loc[(data['1_Dragon']!=1) &(data['Dragon']!=1),\"dragon\"]=0\n",
        "\n",
        "data.loc[(data['1_Electric']!=1) |(data['Electric']!=1),\"electric\"]=1\n",
        "data.loc[(data['1_Electric']!=1) &(data['Electric']!=1),\"electric\"]=0\n",
        "\n",
        "\n",
        "data.loc[(data['1_Fairy']!=1) |(data['Fairy']!=1),\"fairy\"]=1\n",
        "data.loc[(data['1_Fairy']!=1) &(data['Fairy']!=1),\"fairy\"]=0\n",
        "\n",
        "\n",
        "data.loc[(data['1_Fighting']!=1) |(data['Fighting']!=1),\"fighting\"]=1\n",
        "data.loc[(data['1_Fighting']!=1) &(data['Fighting']!=1),\"fighting\"]=0\n",
        "\n",
        "data.loc[(data['1_Fire']!=1) |(data['Fire']!=1),\"fire\"]=1\n",
        "data.loc[(data['1_Fire']!=1) &(data['Fire']!=1),\"fire\"]=0\n",
        "\n",
        "data.loc[(data['1_Flying']!=1) |(data['Flying']!=1),\"flying\"]=1\n",
        "data.loc[(data['1_Flying']!=1) &(data['Flying']!=1),\"flying\"]=0\n",
        "\n",
        "data.loc[(data['1_Ghost']!=1) |(data['Ghost']!=1),\"ghost\"]=1\n",
        "data.loc[(data['1_Ghost']!=1) &(data['Ghost']!=1),\"ghost\"]=0\n",
        "\n",
        "data.loc[(data['1_Grass']!=1) |(data['Grass']!=1),\"grass\"]=1\n",
        "data.loc[(data['1_Grass']!=1) &(data['Grass']!=1),\"grass\"]=0\n",
        "\n",
        "\n",
        "data.loc[(data['1_Ground']!=1) |(data['Ground']!=1),\"ground\"]=1\n",
        "data.loc[(data['1_Ground']!=1) &(data['Ground']!=1),\"ground\"]=0\n",
        "\n",
        "\n",
        "data.loc[(data['1_Ice']!=1) |(data['Ice']!=1),\"ice\"]=1\n",
        "data.loc[(data['1_Ice']!=1) &(data['Ice']!=1),\"ice\"]=0\n",
        "\n",
        "data.loc[(data['1_Normal']!=1) |(data['Normal']!=1),\"normal\"]=1\n",
        "data.loc[(data['1_Normal']!=1) &(data['Normal']!=1),\"normal\"]=0\n",
        "\n",
        "data.loc[(data['1_Poison']!=1) |(data['Poison']!=1),\"poison\"]=1\n",
        "data.loc[(data['1_Poison']!=1) &(data['Poison']!=1),\"poison\"]=0\n",
        "\n",
        "data.loc[(data['1_Psychic']!=1) |(data['Psychic']!=1),\"psychic\"]=1\n",
        "data.loc[(data['1_Psychic']!=1) &(data['Psychic']!=1),\"psychic\"]=0\n",
        "\n",
        "data.loc[(data['1_Rock']!=1) |(data['Rock']!=1),\"rock\"]=1\n",
        "data.loc[(data['1_Rock']!=1) &(data['Rock']!=1),\"rock\"]=0\n",
        "\n",
        "data.loc[(data['1_Steel']!=1) |(data['Steel']!=1),\"steel\"]=1\n",
        "data.loc[(data['1_Steel']!=1) &(data['Steel']!=1),\"steel\"]=0\n",
        "\n",
        "data.loc[(data['1_Water']!=1) |(data['Water']!=1),\"water\"]=1\n",
        "data.loc[(data['1_Water']!=1) &(data['Water']!=1),\"water\"]=0"
      ],
      "execution_count": 17,
      "outputs": []
    },
    {
      "cell_type": "code",
      "metadata": {
        "colab": {
          "base_uri": "https://localhost:8080/"
        },
        "id": "vX3MKs5_7acK",
        "outputId": "c133ae2e-9353-476e-b39f-1f21d3ebbd28"
      },
      "source": [
        "data.info()"
      ],
      "execution_count": 18,
      "outputs": [
        {
          "output_type": "stream",
          "name": "stdout",
          "text": [
            "<class 'pandas.core.frame.DataFrame'>\n",
            "RangeIndex: 721 entries, 0 to 720\n",
            "Data columns (total 51 columns):\n",
            " #   Column      Non-Null Count  Dtype  \n",
            "---  ------      --------------  -----  \n",
            " 0   1_Dark      721 non-null    uint8  \n",
            " 1   1_Dragon    721 non-null    uint8  \n",
            " 2   1_Electric  721 non-null    uint8  \n",
            " 3   1_Fairy     721 non-null    uint8  \n",
            " 4   1_Fighting  721 non-null    uint8  \n",
            " 5   1_Fire      721 non-null    uint8  \n",
            " 6   1_Flying    721 non-null    uint8  \n",
            " 7   1_Ghost     721 non-null    uint8  \n",
            " 8   1_Grass     721 non-null    uint8  \n",
            " 9   1_Ground    721 non-null    uint8  \n",
            " 10  1_Ice       721 non-null    uint8  \n",
            " 11  1_Normal    721 non-null    uint8  \n",
            " 12  1_Poison    721 non-null    uint8  \n",
            " 13  1_Psychic   721 non-null    uint8  \n",
            " 14  1_Rock      721 non-null    uint8  \n",
            " 15  1_Steel     721 non-null    uint8  \n",
            " 16  1_Water     721 non-null    uint8  \n",
            " 17  Dark        721 non-null    uint8  \n",
            " 18  Dragon      721 non-null    uint8  \n",
            " 19  Electric    721 non-null    uint8  \n",
            " 20  Fairy       721 non-null    uint8  \n",
            " 21  Fighting    721 non-null    uint8  \n",
            " 22  Fire        721 non-null    uint8  \n",
            " 23  Flying      721 non-null    uint8  \n",
            " 24  Ghost       721 non-null    uint8  \n",
            " 25  Grass       721 non-null    uint8  \n",
            " 26  Ground      721 non-null    uint8  \n",
            " 27  Ice         721 non-null    uint8  \n",
            " 28  Normal      721 non-null    uint8  \n",
            " 29  Poison      721 non-null    uint8  \n",
            " 30  Psychic     721 non-null    uint8  \n",
            " 31  Rock        721 non-null    uint8  \n",
            " 32  Steel       721 non-null    uint8  \n",
            " 33  Water       721 non-null    uint8  \n",
            " 34  dark        721 non-null    float64\n",
            " 35  dragon      721 non-null    float64\n",
            " 36  electric    721 non-null    float64\n",
            " 37  fairy       721 non-null    float64\n",
            " 38  fighting    721 non-null    float64\n",
            " 39  fire        721 non-null    float64\n",
            " 40  flying      721 non-null    float64\n",
            " 41  ghost       721 non-null    float64\n",
            " 42  grass       721 non-null    float64\n",
            " 43  ground      721 non-null    float64\n",
            " 44  ice         721 non-null    float64\n",
            " 45  normal      721 non-null    float64\n",
            " 46  poison      721 non-null    float64\n",
            " 47  psychic     721 non-null    float64\n",
            " 48  rock        721 non-null    float64\n",
            " 49  steel       721 non-null    float64\n",
            " 50  water       721 non-null    float64\n",
            "dtypes: float64(17), uint8(34)\n",
            "memory usage: 119.8 KB\n"
          ]
        }
      ]
    },
    {
      "cell_type": "code",
      "metadata": {
        "id": "q03nRBb78CRm"
      },
      "source": [
        "data.drop(['1_Dark', '1_Dragon', '1_Electric', '1_Fairy', '1_Fighting', '1_Fire',\n",
        "       '1_Flying', '1_Ghost', '1_Grass', '1_Ground', '1_Ice', '1_Normal',\n",
        "       '1_Poison', '1_Psychic', '1_Rock', '1_Steel', '1_Water', 'Dark',\n",
        "       'Dragon', 'Electric', 'Fairy', 'Fighting', 'Fire', 'Flying', 'Ghost',\n",
        "       'Grass', 'Ground', 'Ice', 'Normal', 'Poison', 'Psychic', 'Rock',\n",
        "       'Steel', 'Water', 'Normal'],inplace = True, axis=1)"
      ],
      "execution_count": 19,
      "outputs": []
    },
    {
      "cell_type": "code",
      "metadata": {
        "colab": {
          "base_uri": "https://localhost:8080/"
        },
        "id": "nyy-zdJRkHlh",
        "outputId": "88bbfa13-f495-495b-b100-340c11b8ec42"
      },
      "source": [
        "data.info()"
      ],
      "execution_count": 20,
      "outputs": [
        {
          "output_type": "stream",
          "name": "stdout",
          "text": [
            "<class 'pandas.core.frame.DataFrame'>\n",
            "RangeIndex: 721 entries, 0 to 720\n",
            "Data columns (total 17 columns):\n",
            " #   Column    Non-Null Count  Dtype  \n",
            "---  ------    --------------  -----  \n",
            " 0   dark      721 non-null    float64\n",
            " 1   dragon    721 non-null    float64\n",
            " 2   electric  721 non-null    float64\n",
            " 3   fairy     721 non-null    float64\n",
            " 4   fighting  721 non-null    float64\n",
            " 5   fire      721 non-null    float64\n",
            " 6   flying    721 non-null    float64\n",
            " 7   ghost     721 non-null    float64\n",
            " 8   grass     721 non-null    float64\n",
            " 9   ground    721 non-null    float64\n",
            " 10  ice       721 non-null    float64\n",
            " 11  normal    721 non-null    float64\n",
            " 12  poison    721 non-null    float64\n",
            " 13  psychic   721 non-null    float64\n",
            " 14  rock      721 non-null    float64\n",
            " 15  steel     721 non-null    float64\n",
            " 16  water     721 non-null    float64\n",
            "dtypes: float64(17)\n",
            "memory usage: 95.9 KB\n"
          ]
        }
      ]
    },
    {
      "cell_type": "code",
      "metadata": {
        "id": "p9ZsSM848e_v"
      },
      "source": [
        "data = data.astype('int')"
      ],
      "execution_count": 21,
      "outputs": []
    },
    {
      "cell_type": "code",
      "metadata": {
        "id": "soPvN-JJhyXD"
      },
      "source": [
        "df = pd.concat([df,data],axis=1)"
      ],
      "execution_count": 22,
      "outputs": []
    },
    {
      "cell_type": "code",
      "metadata": {
        "colab": {
          "base_uri": "https://localhost:8080/"
        },
        "id": "K17LWGp0hySE",
        "outputId": "689638ef-9d4a-4ba9-fd44-435f8e8aa03a"
      },
      "source": [
        "df.info()"
      ],
      "execution_count": 23,
      "outputs": [
        {
          "output_type": "stream",
          "name": "stdout",
          "text": [
            "<class 'pandas.core.frame.DataFrame'>\n",
            "RangeIndex: 721 entries, 0 to 720\n",
            "Data columns (total 40 columns):\n",
            " #   Column            Non-Null Count  Dtype  \n",
            "---  ------            --------------  -----  \n",
            " 0   Number            721 non-null    int64  \n",
            " 1   Name              721 non-null    object \n",
            " 2   Type_1            721 non-null    object \n",
            " 3   Type_2            350 non-null    object \n",
            " 4   Total             721 non-null    int64  \n",
            " 5   HP                721 non-null    int64  \n",
            " 6   Attack            721 non-null    int64  \n",
            " 7   Defense           721 non-null    int64  \n",
            " 8   Sp_Atk            721 non-null    int64  \n",
            " 9   Sp_Def            721 non-null    int64  \n",
            " 10  Speed             721 non-null    int64  \n",
            " 11  Generation        721 non-null    int64  \n",
            " 12  isLegendary       721 non-null    bool   \n",
            " 13  Color             721 non-null    object \n",
            " 14  hasGender         721 non-null    bool   \n",
            " 15  Pr_Male           644 non-null    float64\n",
            " 16  Egg_Group_1       721 non-null    object \n",
            " 17  Egg_Group_2       191 non-null    object \n",
            " 18  hasMegaEvolution  721 non-null    bool   \n",
            " 19  Height_m          721 non-null    float64\n",
            " 20  Weight_kg         721 non-null    float64\n",
            " 21  Catch_Rate        721 non-null    int64  \n",
            " 22  Body_Style        721 non-null    object \n",
            " 23  dark              721 non-null    int64  \n",
            " 24  dragon            721 non-null    int64  \n",
            " 25  electric          721 non-null    int64  \n",
            " 26  fairy             721 non-null    int64  \n",
            " 27  fighting          721 non-null    int64  \n",
            " 28  fire              721 non-null    int64  \n",
            " 29  flying            721 non-null    int64  \n",
            " 30  ghost             721 non-null    int64  \n",
            " 31  grass             721 non-null    int64  \n",
            " 32  ground            721 non-null    int64  \n",
            " 33  ice               721 non-null    int64  \n",
            " 34  normal            721 non-null    int64  \n",
            " 35  poison            721 non-null    int64  \n",
            " 36  psychic           721 non-null    int64  \n",
            " 37  rock              721 non-null    int64  \n",
            " 38  steel             721 non-null    int64  \n",
            " 39  water             721 non-null    int64  \n",
            "dtypes: bool(3), float64(3), int64(27), object(7)\n",
            "memory usage: 210.7+ KB\n"
          ]
        }
      ]
    },
    {
      "cell_type": "code",
      "metadata": {
        "id": "lXQ4jPa_h5px"
      },
      "source": [
        "df.drop(['Type_1','Type_2'],axis=1, inplace = True)"
      ],
      "execution_count": 24,
      "outputs": []
    },
    {
      "cell_type": "code",
      "metadata": {
        "colab": {
          "base_uri": "https://localhost:8080/",
          "height": 393
        },
        "id": "1KaVwb2Fesq6",
        "outputId": "7ea248f8-500d-468f-b90c-ff4ca99a94a4"
      },
      "source": [
        "plt.figure(figsize=(13,5))\n",
        "sns.countplot(df['Egg_Group_1'])\n",
        "plt.show()"
      ],
      "execution_count": 25,
      "outputs": [
        {
          "output_type": "stream",
          "name": "stderr",
          "text": [
            "/usr/local/lib/python3.7/dist-packages/seaborn/_decorators.py:43: FutureWarning: Pass the following variable as a keyword arg: x. From version 0.12, the only valid positional argument will be `data`, and passing other arguments without an explicit keyword will result in an error or misinterpretation.\n",
            "  FutureWarning\n"
          ]
        },
        {
          "output_type": "display_data",
          "data": {
            "image/png": "[encoded data removed]",
            "text/plain": [
              "<Figure size 936x360 with 1 Axes>"
            ]
          },
          "metadata": {
            "needs_background": "light"
          }
        }
      ]
    },
    {
      "cell_type": "code",
      "metadata": {
        "colab": {
          "base_uri": "https://localhost:8080/",
          "height": 393
        },
        "id": "unRCB9ExfcrW",
        "outputId": "18417ccc-0a68-4ebb-f403-db276b188b43"
      },
      "source": [
        "plt.figure(figsize=(13,5))\n",
        "sns.countplot(df['Egg_Group_2'])\n",
        "plt.show()"
      ],
      "execution_count": 26,
      "outputs": [
        {
          "output_type": "stream",
          "name": "stderr",
          "text": [
            "/usr/local/lib/python3.7/dist-packages/seaborn/_decorators.py:43: FutureWarning: Pass the following variable as a keyword arg: x. From version 0.12, the only valid positional argument will be `data`, and passing other arguments without an explicit keyword will result in an error or misinterpretation.\n",
            "  FutureWarning\n"
          ]
        },
        {
          "output_type": "display_data",
          "data": {
            "image/png": "[encoded data removed]",
            "text/plain": [
              "<Figure size 936x360 with 1 Axes>"
            ]
          },
          "metadata": {
            "needs_background": "light"
          }
        }
      ]
    },
    {
      "cell_type": "code",
      "metadata": {
        "id": "F0kcsrFTfdl8"
      },
      "source": [
        "egg_1 = pd.get_dummies(df['Egg_Group_1'],drop_first=True)"
      ],
      "execution_count": 27,
      "outputs": []
    },
    {
      "cell_type": "code",
      "metadata": {
        "id": "9Waz9GJMfqj4"
      },
      "source": [
        "egg_2 = pd.get_dummies(df['Egg_Group_2'],drop_first=True,prefix = '1')"
      ],
      "execution_count": 28,
      "outputs": []
    },
    {
      "cell_type": "code",
      "metadata": {
        "colab": {
          "base_uri": "https://localhost:8080/",
          "height": 422
        },
        "id": "yOS-mtYQURXC",
        "outputId": "c51abb72-96ff-41a2-f92b-5dd0a6919725"
      },
      "source": [
        "egg_2"
      ],
      "execution_count": 29,
      "outputs": [
        {
          "output_type": "execute_result",
          "data": {
            "text/html": [
              "<div>\n",
              "<style scoped>\n",
              "    .dataframe tbody tr th:only-of-type {\n",
              "        vertical-align: middle;\n",
              "    }\n",
              "\n",
              "    .dataframe tbody tr th {\n",
              "        vertical-align: top;\n",
              "    }\n",
              "\n",
              "    .dataframe thead th {\n",
              "        text-align: right;\n",
              "    }\n",
              "</style>\n",
              "<table border=\"1\" class=\"dataframe\">\n",
              "  <thead>\n",
              "    <tr style=\"text-align: right;\">\n",
              "      <th></th>\n",
              "      <th>1_Bug</th>\n",
              "      <th>1_Dragon</th>\n",
              "      <th>1_Fairy</th>\n",
              "      <th>1_Field</th>\n",
              "      <th>1_Flying</th>\n",
              "      <th>1_Grass</th>\n",
              "      <th>1_Human-Like</th>\n",
              "      <th>1_Mineral</th>\n",
              "      <th>1_Monster</th>\n",
              "      <th>1_Water_1</th>\n",
              "      <th>1_Water_2</th>\n",
              "      <th>1_Water_3</th>\n",
              "    </tr>\n",
              "  </thead>\n",
              "  <tbody>\n",
              "    <tr>\n",
              "      <th>0</th>\n",
              "      <td>0</td>\n",
              "      <td>0</td>\n",
              "      <td>0</td>\n",
              "      <td>0</td>\n",
              "      <td>0</td>\n",
              "      <td>1</td>\n",
              "      <td>0</td>\n",
              "      <td>0</td>\n",
              "      <td>0</td>\n",
              "      <td>0</td>\n",
              "      <td>0</td>\n",
              "      <td>0</td>\n",
              "    </tr>\n",
              "    <tr>\n",
              "      <th>1</th>\n",
              "      <td>0</td>\n",
              "      <td>0</td>\n",
              "      <td>0</td>\n",
              "      <td>0</td>\n",
              "      <td>0</td>\n",
              "      <td>1</td>\n",
              "      <td>0</td>\n",
              "      <td>0</td>\n",
              "      <td>0</td>\n",
              "      <td>0</td>\n",
              "      <td>0</td>\n",
              "      <td>0</td>\n",
              "    </tr>\n",
              "    <tr>\n",
              "      <th>2</th>\n",
              "      <td>0</td>\n",
              "      <td>0</td>\n",
              "      <td>0</td>\n",
              "      <td>0</td>\n",
              "      <td>0</td>\n",
              "      <td>1</td>\n",
              "      <td>0</td>\n",
              "      <td>0</td>\n",
              "      <td>0</td>\n",
              "      <td>0</td>\n",
              "      <td>0</td>\n",
              "      <td>0</td>\n",
              "    </tr>\n",
              "    <tr>\n",
              "      <th>3</th>\n",
              "      <td>0</td>\n",
              "      <td>1</td>\n",
              "      <td>0</td>\n",
              "      <td>0</td>\n",
              "      <td>0</td>\n",
              "      <td>0</td>\n",
              "      <td>0</td>\n",
              "      <td>0</td>\n",
              "      <td>0</td>\n",
              "      <td>0</td>\n",
              "      <td>0</td>\n",
              "      <td>0</td>\n",
              "    </tr>\n",
              "    <tr>\n",
              "      <th>4</th>\n",
              "      <td>0</td>\n",
              "      <td>1</td>\n",
              "      <td>0</td>\n",
              "      <td>0</td>\n",
              "      <td>0</td>\n",
              "      <td>0</td>\n",
              "      <td>0</td>\n",
              "      <td>0</td>\n",
              "      <td>0</td>\n",
              "      <td>0</td>\n",
              "      <td>0</td>\n",
              "      <td>0</td>\n",
              "    </tr>\n",
              "    <tr>\n",
              "      <th>...</th>\n",
              "      <td>...</td>\n",
              "      <td>...</td>\n",
              "      <td>...</td>\n",
              "      <td>...</td>\n",
              "      <td>...</td>\n",
              "      <td>...</td>\n",
              "      <td>...</td>\n",
              "      <td>...</td>\n",
              "      <td>...</td>\n",
              "      <td>...</td>\n",
              "      <td>...</td>\n",
              "      <td>...</td>\n",
              "    </tr>\n",
              "    <tr>\n",
              "      <th>716</th>\n",
              "      <td>0</td>\n",
              "      <td>0</td>\n",
              "      <td>0</td>\n",
              "      <td>0</td>\n",
              "      <td>0</td>\n",
              "      <td>0</td>\n",
              "      <td>0</td>\n",
              "      <td>0</td>\n",
              "      <td>0</td>\n",
              "      <td>0</td>\n",
              "      <td>0</td>\n",
              "      <td>0</td>\n",
              "    </tr>\n",
              "    <tr>\n",
              "      <th>717</th>\n",
              "      <td>0</td>\n",
              "      <td>0</td>\n",
              "      <td>0</td>\n",
              "      <td>0</td>\n",
              "      <td>0</td>\n",
              "      <td>0</td>\n",
              "      <td>0</td>\n",
              "      <td>0</td>\n",
              "      <td>0</td>\n",
              "      <td>0</td>\n",
              "      <td>0</td>\n",
              "      <td>0</td>\n",
              "    </tr>\n",
              "    <tr>\n",
              "      <th>718</th>\n",
              "      <td>0</td>\n",
              "      <td>0</td>\n",
              "      <td>0</td>\n",
              "      <td>0</td>\n",
              "      <td>0</td>\n",
              "      <td>0</td>\n",
              "      <td>0</td>\n",
              "      <td>0</td>\n",
              "      <td>0</td>\n",
              "      <td>0</td>\n",
              "      <td>0</td>\n",
              "      <td>0</td>\n",
              "    </tr>\n",
              "    <tr>\n",
              "      <th>719</th>\n",
              "      <td>0</td>\n",
              "      <td>0</td>\n",
              "      <td>0</td>\n",
              "      <td>0</td>\n",
              "      <td>0</td>\n",
              "      <td>0</td>\n",
              "      <td>0</td>\n",
              "      <td>0</td>\n",
              "      <td>0</td>\n",
              "      <td>0</td>\n",
              "      <td>0</td>\n",
              "      <td>0</td>\n",
              "    </tr>\n",
              "    <tr>\n",
              "      <th>720</th>\n",
              "      <td>0</td>\n",
              "      <td>0</td>\n",
              "      <td>0</td>\n",
              "      <td>0</td>\n",
              "      <td>0</td>\n",
              "      <td>0</td>\n",
              "      <td>0</td>\n",
              "      <td>0</td>\n",
              "      <td>0</td>\n",
              "      <td>0</td>\n",
              "      <td>0</td>\n",
              "      <td>0</td>\n",
              "    </tr>\n",
              "  </tbody>\n",
              "</table>\n",
              "<p>721 rows × 12 columns</p>\n",
              "</div>"
            ],
            "text/plain": [
              "     1_Bug  1_Dragon  1_Fairy  ...  1_Water_1  1_Water_2  1_Water_3\n",
              "0        0         0        0  ...          0          0          0\n",
              "1        0         0        0  ...          0          0          0\n",
              "2        0         0        0  ...          0          0          0\n",
              "3        0         1        0  ...          0          0          0\n",
              "4        0         1        0  ...          0          0          0\n",
              "..     ...       ...      ...  ...        ...        ...        ...\n",
              "716      0         0        0  ...          0          0          0\n",
              "717      0         0        0  ...          0          0          0\n",
              "718      0         0        0  ...          0          0          0\n",
              "719      0         0        0  ...          0          0          0\n",
              "720      0         0        0  ...          0          0          0\n",
              "\n",
              "[721 rows x 12 columns]"
            ]
          },
          "metadata": {},
          "execution_count": 29
        }
      ]
    },
    {
      "cell_type": "code",
      "metadata": {
        "id": "kewEVvsffvuw"
      },
      "source": [
        "data_2 = pd.concat([egg_2,egg_1],axis=1)"
      ],
      "execution_count": 30,
      "outputs": []
    },
    {
      "cell_type": "code",
      "metadata": {
        "colab": {
          "base_uri": "https://localhost:8080/"
        },
        "id": "gCUlHL7CnVT6",
        "outputId": "7519b294-961c-4277-8f06-0723d17cdb1b"
      },
      "source": [
        "data_2.info()"
      ],
      "execution_count": 31,
      "outputs": [
        {
          "output_type": "stream",
          "name": "stdout",
          "text": [
            "<class 'pandas.core.frame.DataFrame'>\n",
            "RangeIndex: 721 entries, 0 to 720\n",
            "Data columns (total 26 columns):\n",
            " #   Column        Non-Null Count  Dtype\n",
            "---  ------        --------------  -----\n",
            " 0   1_Bug         721 non-null    uint8\n",
            " 1   1_Dragon      721 non-null    uint8\n",
            " 2   1_Fairy       721 non-null    uint8\n",
            " 3   1_Field       721 non-null    uint8\n",
            " 4   1_Flying      721 non-null    uint8\n",
            " 5   1_Grass       721 non-null    uint8\n",
            " 6   1_Human-Like  721 non-null    uint8\n",
            " 7   1_Mineral     721 non-null    uint8\n",
            " 8   1_Monster     721 non-null    uint8\n",
            " 9   1_Water_1     721 non-null    uint8\n",
            " 10  1_Water_2     721 non-null    uint8\n",
            " 11  1_Water_3     721 non-null    uint8\n",
            " 12  Bug           721 non-null    uint8\n",
            " 13  Ditto         721 non-null    uint8\n",
            " 14  Dragon        721 non-null    uint8\n",
            " 15  Fairy         721 non-null    uint8\n",
            " 16  Field         721 non-null    uint8\n",
            " 17  Flying        721 non-null    uint8\n",
            " 18  Grass         721 non-null    uint8\n",
            " 19  Human-Like    721 non-null    uint8\n",
            " 20  Mineral       721 non-null    uint8\n",
            " 21  Monster       721 non-null    uint8\n",
            " 22  Undiscovered  721 non-null    uint8\n",
            " 23  Water_1       721 non-null    uint8\n",
            " 24  Water_2       721 non-null    uint8\n",
            " 25  Water_3       721 non-null    uint8\n",
            "dtypes: uint8(26)\n",
            "memory usage: 18.4 KB\n"
          ]
        }
      ]
    },
    {
      "cell_type": "code",
      "metadata": {
        "id": "8Mqi31YMnmX5"
      },
      "source": [
        "data_2.loc[(data_2['1_Bug']==1) |(data_2['Bug']==1),\"bug\"]=1 \n",
        "data_2.loc[(data_2['1_Bug']!=1) &(data_2['Bug']!=1),\"bug\"]=0\n",
        "\n",
        " \n",
        "data_2.loc[(data_2['1_Dragon']==1) |(data_2['Dragon']==1),\"dragon\"]=1 \n",
        "data_2.loc[(data_2['1_Dragon']!=1) &(data_2['Dragon']!=1),\"dragon\"]=0\n",
        "\n",
        " \n",
        "data_2.loc[(data_2['1_Fairy']==1) |(data_2['Fairy']==1),\"fairy\"]=1 \n",
        "data_2.loc[(data_2['1_Fairy']!=1) &(data_2['Fairy']!=1),\"fairy\"]=0\n",
        "\n",
        "\n",
        "data_2.loc[(data_2['1_Field']==1) |(data_2['Field']==1),\"field\"]=1 \n",
        "data_2.loc[(data_2['1_Field']!=1) &(data_2['Field']!=1),\"field\"]=0\n",
        "\n",
        "\n",
        "data_2.loc[(data_2['1_Flying']==1) |(data_2['Flying']==1),\"flying\"]=1 \n",
        "data_2.loc[(data_2['1_Flying']!=1) &(data_2['Flying']!=1),\"flying\"]=0\n",
        "\n",
        "\n",
        "data_2.loc[(data_2['1_Grass']==1) |(data_2['Grass']==1),\"grass\"]=1 \n",
        "data_2.loc[(data_2['1_Grass']!=1) &(data_2['Grass']!=1),\"grass\"]=0\n",
        "\n",
        "\n",
        "data_2.loc[(data_2['1_Human-Like']==1) |(data_2['Human-Like']==1),\"human-Like\"]=1 \n",
        "data_2.loc[(data_2['1_Human-Like']!=1) &(data_2['Human-Like']!=1),\"human-Like\"]=0\n",
        "\n",
        "\n",
        "data_2.loc[(data_2['1_Mineral']==1) |(data_2['Mineral']==1),\"mineral\"]=1 \n",
        "data_2.loc[(data_2['1_Mineral']!=1) &(data_2['Mineral']!=1),\"mineral\"]=0\n",
        "\n",
        "\n",
        "data_2.loc[(data_2['1_Monster']==1) |(data_2['Monster']==1),\"monster\"]=1 \n",
        "data_2.loc[(data_2['1_Monster']!=1) &(data_2['Monster']!=1),\"monster\"]=0\n",
        "\n",
        "\n",
        "data_2.loc[(data_2['1_Water_1']==1) |(data_2['Water_1']==1),\"water_1\"]=1 \n",
        "data_2.loc[(data_2['1_Water_1']!=1) &(data_2['Water_1']!=1),\"water_1\"]=0\n",
        "\n",
        "data_2.loc[(data_2['1_Water_2']==1) |(data_2['Water_2']==1),\"water_2\"]=1 \n",
        "data_2.loc[(data_2['1_Water_2']!=1) &(data_2['Water_2']!=1),\"water_2\"]=0\n",
        "\n",
        "data_2.loc[(data_2['1_Water_3']==1) |(data_2['Water_3']==1),\"water_3\"]=1 \n",
        "data_2.loc[(data_2['1_Water_3']!=1) &(data_2['Water_3']!=1),\"water_3\"]=0\n"
      ],
      "execution_count": 32,
      "outputs": []
    },
    {
      "cell_type": "code",
      "metadata": {
        "colab": {
          "base_uri": "https://localhost:8080/"
        },
        "id": "SbPBZt0xzqhh",
        "outputId": "ee87f692-50d5-4144-f157-d3ceb1f603cc"
      },
      "source": [
        "data_2.info()"
      ],
      "execution_count": 33,
      "outputs": [
        {
          "output_type": "stream",
          "name": "stdout",
          "text": [
            "<class 'pandas.core.frame.DataFrame'>\n",
            "RangeIndex: 721 entries, 0 to 720\n",
            "Data columns (total 38 columns):\n",
            " #   Column        Non-Null Count  Dtype  \n",
            "---  ------        --------------  -----  \n",
            " 0   1_Bug         721 non-null    uint8  \n",
            " 1   1_Dragon      721 non-null    uint8  \n",
            " 2   1_Fairy       721 non-null    uint8  \n",
            " 3   1_Field       721 non-null    uint8  \n",
            " 4   1_Flying      721 non-null    uint8  \n",
            " 5   1_Grass       721 non-null    uint8  \n",
            " 6   1_Human-Like  721 non-null    uint8  \n",
            " 7   1_Mineral     721 non-null    uint8  \n",
            " 8   1_Monster     721 non-null    uint8  \n",
            " 9   1_Water_1     721 non-null    uint8  \n",
            " 10  1_Water_2     721 non-null    uint8  \n",
            " 11  1_Water_3     721 non-null    uint8  \n",
            " 12  Bug           721 non-null    uint8  \n",
            " 13  Ditto         721 non-null    uint8  \n",
            " 14  Dragon        721 non-null    uint8  \n",
            " 15  Fairy         721 non-null    uint8  \n",
            " 16  Field         721 non-null    uint8  \n",
            " 17  Flying        721 non-null    uint8  \n",
            " 18  Grass         721 non-null    uint8  \n",
            " 19  Human-Like    721 non-null    uint8  \n",
            " 20  Mineral       721 non-null    uint8  \n",
            " 21  Monster       721 non-null    uint8  \n",
            " 22  Undiscovered  721 non-null    uint8  \n",
            " 23  Water_1       721 non-null    uint8  \n",
            " 24  Water_2       721 non-null    uint8  \n",
            " 25  Water_3       721 non-null    uint8  \n",
            " 26  bug           721 non-null    float64\n",
            " 27  dragon        721 non-null    float64\n",
            " 28  fairy         721 non-null    float64\n",
            " 29  field         721 non-null    float64\n",
            " 30  flying        721 non-null    float64\n",
            " 31  grass         721 non-null    float64\n",
            " 32  human-Like    721 non-null    float64\n",
            " 33  mineral       721 non-null    float64\n",
            " 34  monster       721 non-null    float64\n",
            " 35  water_1       721 non-null    float64\n",
            " 36  water_2       721 non-null    float64\n",
            " 37  water_3       721 non-null    float64\n",
            "dtypes: float64(12), uint8(26)\n",
            "memory usage: 86.0 KB\n"
          ]
        }
      ]
    },
    {
      "cell_type": "code",
      "metadata": {
        "id": "iHKPfhzLzx0-"
      },
      "source": [
        "data_2.drop(['1_Bug', '1_Dragon', '1_Fairy', '1_Field', '1_Flying',\n",
        "       '1_Grass', '1_Human-Like', '1_Mineral', '1_Monster',\n",
        "       '1_Water_1', '1_Water_2', '1_Water_3', 'Bug', 'Dragon', 'Fairy',\n",
        "       'Field', 'Flying', 'Grass', 'Human-Like', 'Mineral', 'Monster',\n",
        "       'Water_1', 'Water_2', 'Water_3'],inplace = True, axis=1)"
      ],
      "execution_count": 34,
      "outputs": []
    },
    {
      "cell_type": "code",
      "metadata": {
        "colab": {
          "base_uri": "https://localhost:8080/"
        },
        "id": "g7h1gFOB3cFJ",
        "outputId": "bb0e2f43-c8a0-4eac-84ca-7d4a41269a02"
      },
      "source": [
        "data_2.info()"
      ],
      "execution_count": 35,
      "outputs": [
        {
          "output_type": "stream",
          "name": "stdout",
          "text": [
            "<class 'pandas.core.frame.DataFrame'>\n",
            "RangeIndex: 721 entries, 0 to 720\n",
            "Data columns (total 14 columns):\n",
            " #   Column        Non-Null Count  Dtype  \n",
            "---  ------        --------------  -----  \n",
            " 0   Ditto         721 non-null    uint8  \n",
            " 1   Undiscovered  721 non-null    uint8  \n",
            " 2   bug           721 non-null    float64\n",
            " 3   dragon        721 non-null    float64\n",
            " 4   fairy         721 non-null    float64\n",
            " 5   field         721 non-null    float64\n",
            " 6   flying        721 non-null    float64\n",
            " 7   grass         721 non-null    float64\n",
            " 8   human-Like    721 non-null    float64\n",
            " 9   mineral       721 non-null    float64\n",
            " 10  monster       721 non-null    float64\n",
            " 11  water_1       721 non-null    float64\n",
            " 12  water_2       721 non-null    float64\n",
            " 13  water_3       721 non-null    float64\n",
            "dtypes: float64(12), uint8(2)\n",
            "memory usage: 69.1 KB\n"
          ]
        }
      ]
    },
    {
      "cell_type": "code",
      "metadata": {
        "id": "PrmEBXIS4Tkt"
      },
      "source": [
        "data_2= data_2.astype('int')"
      ],
      "execution_count": 36,
      "outputs": []
    },
    {
      "cell_type": "code",
      "metadata": {
        "id": "gqH7hnqi4jdQ"
      },
      "source": [
        "df = pd.concat([df,data_2],axis=1)"
      ],
      "execution_count": 37,
      "outputs": []
    },
    {
      "cell_type": "code",
      "metadata": {
        "colab": {
          "base_uri": "https://localhost:8080/"
        },
        "id": "XLDvZRfvU6aK",
        "outputId": "59d150b4-c7d4-4f9c-836c-ad332cadc87f"
      },
      "source": [
        "df.info()"
      ],
      "execution_count": 38,
      "outputs": [
        {
          "output_type": "stream",
          "name": "stdout",
          "text": [
            "<class 'pandas.core.frame.DataFrame'>\n",
            "RangeIndex: 721 entries, 0 to 720\n",
            "Data columns (total 52 columns):\n",
            " #   Column            Non-Null Count  Dtype  \n",
            "---  ------            --------------  -----  \n",
            " 0   Number            721 non-null    int64  \n",
            " 1   Name              721 non-null    object \n",
            " 2   Total             721 non-null    int64  \n",
            " 3   HP                721 non-null    int64  \n",
            " 4   Attack            721 non-null    int64  \n",
            " 5   Defense           721 non-null    int64  \n",
            " 6   Sp_Atk            721 non-null    int64  \n",
            " 7   Sp_Def            721 non-null    int64  \n",
            " 8   Speed             721 non-null    int64  \n",
            " 9   Generation        721 non-null    int64  \n",
            " 10  isLegendary       721 non-null    bool   \n",
            " 11  Color             721 non-null    object \n",
            " 12  hasGender         721 non-null    bool   \n",
            " 13  Pr_Male           644 non-null    float64\n",
            " 14  Egg_Group_1       721 non-null    object \n",
            " 15  Egg_Group_2       191 non-null    object \n",
            " 16  hasMegaEvolution  721 non-null    bool   \n",
            " 17  Height_m          721 non-null    float64\n",
            " 18  Weight_kg         721 non-null    float64\n",
            " 19  Catch_Rate        721 non-null    int64  \n",
            " 20  Body_Style        721 non-null    object \n",
            " 21  dark              721 non-null    int64  \n",
            " 22  dragon            721 non-null    int64  \n",
            " 23  electric          721 non-null    int64  \n",
            " 24  fairy             721 non-null    int64  \n",
            " 25  fighting          721 non-null    int64  \n",
            " 26  fire              721 non-null    int64  \n",
            " 27  flying            721 non-null    int64  \n",
            " 28  ghost             721 non-null    int64  \n",
            " 29  grass             721 non-null    int64  \n",
            " 30  ground            721 non-null    int64  \n",
            " 31  ice               721 non-null    int64  \n",
            " 32  normal            721 non-null    int64  \n",
            " 33  poison            721 non-null    int64  \n",
            " 34  psychic           721 non-null    int64  \n",
            " 35  rock              721 non-null    int64  \n",
            " 36  steel             721 non-null    int64  \n",
            " 37  water             721 non-null    int64  \n",
            " 38  Ditto             721 non-null    int64  \n",
            " 39  Undiscovered      721 non-null    int64  \n",
            " 40  bug               721 non-null    int64  \n",
            " 41  dragon            721 non-null    int64  \n",
            " 42  fairy             721 non-null    int64  \n",
            " 43  field             721 non-null    int64  \n",
            " 44  flying            721 non-null    int64  \n",
            " 45  grass             721 non-null    int64  \n",
            " 46  human-Like        721 non-null    int64  \n",
            " 47  mineral           721 non-null    int64  \n",
            " 48  monster           721 non-null    int64  \n",
            " 49  water_1           721 non-null    int64  \n",
            " 50  water_2           721 non-null    int64  \n",
            " 51  water_3           721 non-null    int64  \n",
            "dtypes: bool(3), float64(3), int64(41), object(5)\n",
            "memory usage: 278.2+ KB\n"
          ]
        }
      ]
    },
    {
      "cell_type": "code",
      "metadata": {
        "id": "zd8Kn6T44wc8"
      },
      "source": [
        "df.drop(['Egg_Group_1','Egg_Group_2'],axis=1, inplace = True)"
      ],
      "execution_count": 39,
      "outputs": []
    },
    {
      "cell_type": "code",
      "metadata": {
        "id": "ODHQXvnp5Blk"
      },
      "source": [
        "# int 로 다 바꾸기 위해서 필요없다고 생각하는 컬럼 날리기 \n",
        "df.drop(['Number','Name'],axis=1, inplace = True)"
      ],
      "execution_count": 40,
      "outputs": []
    },
    {
      "cell_type": "code",
      "metadata": {
        "colab": {
          "base_uri": "https://localhost:8080/"
        },
        "id": "X_KzdY715HLC",
        "outputId": "26daf233-cd20-4828-e6b8-2b5fb3949046"
      },
      "source": [
        "df.info()"
      ],
      "execution_count": 41,
      "outputs": [
        {
          "output_type": "stream",
          "name": "stdout",
          "text": [
            "<class 'pandas.core.frame.DataFrame'>\n",
            "RangeIndex: 721 entries, 0 to 720\n",
            "Data columns (total 48 columns):\n",
            " #   Column            Non-Null Count  Dtype  \n",
            "---  ------            --------------  -----  \n",
            " 0   Total             721 non-null    int64  \n",
            " 1   HP                721 non-null    int64  \n",
            " 2   Attack            721 non-null    int64  \n",
            " 3   Defense           721 non-null    int64  \n",
            " 4   Sp_Atk            721 non-null    int64  \n",
            " 5   Sp_Def            721 non-null    int64  \n",
            " 6   Speed             721 non-null    int64  \n",
            " 7   Generation        721 non-null    int64  \n",
            " 8   isLegendary       721 non-null    bool   \n",
            " 9   Color             721 non-null    object \n",
            " 10  hasGender         721 non-null    bool   \n",
            " 11  Pr_Male           644 non-null    float64\n",
            " 12  hasMegaEvolution  721 non-null    bool   \n",
            " 13  Height_m          721 non-null    float64\n",
            " 14  Weight_kg         721 non-null    float64\n",
            " 15  Catch_Rate        721 non-null    int64  \n",
            " 16  Body_Style        721 non-null    object \n",
            " 17  dark              721 non-null    int64  \n",
            " 18  dragon            721 non-null    int64  \n",
            " 19  electric          721 non-null    int64  \n",
            " 20  fairy             721 non-null    int64  \n",
            " 21  fighting          721 non-null    int64  \n",
            " 22  fire              721 non-null    int64  \n",
            " 23  flying            721 non-null    int64  \n",
            " 24  ghost             721 non-null    int64  \n",
            " 25  grass             721 non-null    int64  \n",
            " 26  ground            721 non-null    int64  \n",
            " 27  ice               721 non-null    int64  \n",
            " 28  normal            721 non-null    int64  \n",
            " 29  poison            721 non-null    int64  \n",
            " 30  psychic           721 non-null    int64  \n",
            " 31  rock              721 non-null    int64  \n",
            " 32  steel             721 non-null    int64  \n",
            " 33  water             721 non-null    int64  \n",
            " 34  Ditto             721 non-null    int64  \n",
            " 35  Undiscovered      721 non-null    int64  \n",
            " 36  bug               721 non-null    int64  \n",
            " 37  dragon            721 non-null    int64  \n",
            " 38  fairy             721 non-null    int64  \n",
            " 39  field             721 non-null    int64  \n",
            " 40  flying            721 non-null    int64  \n",
            " 41  grass             721 non-null    int64  \n",
            " 42  human-Like        721 non-null    int64  \n",
            " 43  mineral           721 non-null    int64  \n",
            " 44  monster           721 non-null    int64  \n",
            " 45  water_1           721 non-null    int64  \n",
            " 46  water_2           721 non-null    int64  \n",
            " 47  water_3           721 non-null    int64  \n",
            "dtypes: bool(3), float64(3), int64(40), object(2)\n",
            "memory usage: 255.7+ KB\n"
          ]
        }
      ]
    },
    {
      "cell_type": "code",
      "metadata": {
        "id": "YU8DE2PE5uoo"
      },
      "source": [
        "# 타겟 또한 int 로 변환 \n",
        "df['legend']= df.isLegendary.apply(lambda x : 0 if x==True else 1)"
      ],
      "execution_count": 42,
      "outputs": []
    },
    {
      "cell_type": "code",
      "metadata": {
        "colab": {
          "base_uri": "https://localhost:8080/"
        },
        "id": "Ts4qmJPM55Ct",
        "outputId": "cfdeae6d-7946-4d63-c113-acd8b57d28a8"
      },
      "source": [
        "df['legend'].value_counts()"
      ],
      "execution_count": 43,
      "outputs": [
        {
          "output_type": "execute_result",
          "data": {
            "text/plain": [
              "1    675\n",
              "0     46\n",
              "Name: legend, dtype: int64"
            ]
          },
          "metadata": {},
          "execution_count": 43
        }
      ]
    },
    {
      "cell_type": "code",
      "metadata": {
        "id": "P7B7z5Cr57i6"
      },
      "source": [
        "df.drop(['isLegendary'],axis=1,inplace = True)"
      ],
      "execution_count": 44,
      "outputs": []
    },
    {
      "cell_type": "code",
      "metadata": {
        "id": "KxtyJjVx6U9D"
      },
      "source": [
        "# bool 컬럼들 또한 int 로 변환 \n",
        "df['gender']= df.hasGender.apply(lambda x : 0 if x==True else 1)\n",
        "df.drop(['hasGender'],axis =1,inplace = True)"
      ],
      "execution_count": 45,
      "outputs": []
    },
    {
      "cell_type": "code",
      "metadata": {
        "id": "5KsNRS-l6nhP"
      },
      "source": [
        "df['evolution']= df.hasMegaEvolution.apply(lambda x : 0 if x==True else 1)\n",
        "df.drop(['hasMegaEvolution'],axis =1,inplace = True)"
      ],
      "execution_count": 46,
      "outputs": []
    },
    {
      "cell_type": "code",
      "metadata": {
        "colab": {
          "base_uri": "https://localhost:8080/",
          "height": 422
        },
        "id": "3lrEeozI68MY",
        "outputId": "235ce4c3-c819-48b2-946d-61665b2f9924"
      },
      "source": [
        "# color object 컬럼 하\n",
        "\n",
        "color = pd.get_dummies(df['Color'],drop_first=True,prefix = 'Color')\n",
        "color"
      ],
      "execution_count": 47,
      "outputs": [
        {
          "output_type": "execute_result",
          "data": {
            "text/html": [
              "<div>\n",
              "<style scoped>\n",
              "    .dataframe tbody tr th:only-of-type {\n",
              "        vertical-align: middle;\n",
              "    }\n",
              "\n",
              "    .dataframe tbody tr th {\n",
              "        vertical-align: top;\n",
              "    }\n",
              "\n",
              "    .dataframe thead th {\n",
              "        text-align: right;\n",
              "    }\n",
              "</style>\n",
              "<table border=\"1\" class=\"dataframe\">\n",
              "  <thead>\n",
              "    <tr style=\"text-align: right;\">\n",
              "      <th></th>\n",
              "      <th>Color_Blue</th>\n",
              "      <th>Color_Brown</th>\n",
              "      <th>Color_Green</th>\n",
              "      <th>Color_Grey</th>\n",
              "      <th>Color_Pink</th>\n",
              "      <th>Color_Purple</th>\n",
              "      <th>Color_Red</th>\n",
              "      <th>Color_White</th>\n",
              "      <th>Color_Yellow</th>\n",
              "    </tr>\n",
              "  </thead>\n",
              "  <tbody>\n",
              "    <tr>\n",
              "      <th>0</th>\n",
              "      <td>0</td>\n",
              "      <td>0</td>\n",
              "      <td>1</td>\n",
              "      <td>0</td>\n",
              "      <td>0</td>\n",
              "      <td>0</td>\n",
              "      <td>0</td>\n",
              "      <td>0</td>\n",
              "      <td>0</td>\n",
              "    </tr>\n",
              "    <tr>\n",
              "      <th>1</th>\n",
              "      <td>0</td>\n",
              "      <td>0</td>\n",
              "      <td>1</td>\n",
              "      <td>0</td>\n",
              "      <td>0</td>\n",
              "      <td>0</td>\n",
              "      <td>0</td>\n",
              "      <td>0</td>\n",
              "      <td>0</td>\n",
              "    </tr>\n",
              "    <tr>\n",
              "      <th>2</th>\n",
              "      <td>0</td>\n",
              "      <td>0</td>\n",
              "      <td>1</td>\n",
              "      <td>0</td>\n",
              "      <td>0</td>\n",
              "      <td>0</td>\n",
              "      <td>0</td>\n",
              "      <td>0</td>\n",
              "      <td>0</td>\n",
              "    </tr>\n",
              "    <tr>\n",
              "      <th>3</th>\n",
              "      <td>0</td>\n",
              "      <td>0</td>\n",
              "      <td>0</td>\n",
              "      <td>0</td>\n",
              "      <td>0</td>\n",
              "      <td>0</td>\n",
              "      <td>1</td>\n",
              "      <td>0</td>\n",
              "      <td>0</td>\n",
              "    </tr>\n",
              "    <tr>\n",
              "      <th>4</th>\n",
              "      <td>0</td>\n",
              "      <td>0</td>\n",
              "      <td>0</td>\n",
              "      <td>0</td>\n",
              "      <td>0</td>\n",
              "      <td>0</td>\n",
              "      <td>1</td>\n",
              "      <td>0</td>\n",
              "      <td>0</td>\n",
              "    </tr>\n",
              "    <tr>\n",
              "      <th>...</th>\n",
              "      <td>...</td>\n",
              "      <td>...</td>\n",
              "      <td>...</td>\n",
              "      <td>...</td>\n",
              "      <td>...</td>\n",
              "      <td>...</td>\n",
              "      <td>...</td>\n",
              "      <td>...</td>\n",
              "      <td>...</td>\n",
              "    </tr>\n",
              "    <tr>\n",
              "      <th>716</th>\n",
              "      <td>0</td>\n",
              "      <td>0</td>\n",
              "      <td>0</td>\n",
              "      <td>0</td>\n",
              "      <td>0</td>\n",
              "      <td>0</td>\n",
              "      <td>1</td>\n",
              "      <td>0</td>\n",
              "      <td>0</td>\n",
              "    </tr>\n",
              "    <tr>\n",
              "      <th>717</th>\n",
              "      <td>0</td>\n",
              "      <td>0</td>\n",
              "      <td>1</td>\n",
              "      <td>0</td>\n",
              "      <td>0</td>\n",
              "      <td>0</td>\n",
              "      <td>0</td>\n",
              "      <td>0</td>\n",
              "      <td>0</td>\n",
              "    </tr>\n",
              "    <tr>\n",
              "      <th>718</th>\n",
              "      <td>0</td>\n",
              "      <td>0</td>\n",
              "      <td>0</td>\n",
              "      <td>0</td>\n",
              "      <td>1</td>\n",
              "      <td>0</td>\n",
              "      <td>0</td>\n",
              "      <td>0</td>\n",
              "      <td>0</td>\n",
              "    </tr>\n",
              "    <tr>\n",
              "      <th>719</th>\n",
              "      <td>0</td>\n",
              "      <td>0</td>\n",
              "      <td>0</td>\n",
              "      <td>0</td>\n",
              "      <td>0</td>\n",
              "      <td>1</td>\n",
              "      <td>0</td>\n",
              "      <td>0</td>\n",
              "      <td>0</td>\n",
              "    </tr>\n",
              "    <tr>\n",
              "      <th>720</th>\n",
              "      <td>0</td>\n",
              "      <td>1</td>\n",
              "      <td>0</td>\n",
              "      <td>0</td>\n",
              "      <td>0</td>\n",
              "      <td>0</td>\n",
              "      <td>0</td>\n",
              "      <td>0</td>\n",
              "      <td>0</td>\n",
              "    </tr>\n",
              "  </tbody>\n",
              "</table>\n",
              "<p>721 rows × 9 columns</p>\n",
              "</div>"
            ],
            "text/plain": [
              "     Color_Blue  Color_Brown  Color_Green  ...  Color_Red  Color_White  Color_Yellow\n",
              "0             0            0            1  ...          0            0             0\n",
              "1             0            0            1  ...          0            0             0\n",
              "2             0            0            1  ...          0            0             0\n",
              "3             0            0            0  ...          1            0             0\n",
              "4             0            0            0  ...          1            0             0\n",
              "..          ...          ...          ...  ...        ...          ...           ...\n",
              "716           0            0            0  ...          1            0             0\n",
              "717           0            0            1  ...          0            0             0\n",
              "718           0            0            0  ...          0            0             0\n",
              "719           0            0            0  ...          0            0             0\n",
              "720           0            1            0  ...          0            0             0\n",
              "\n",
              "[721 rows x 9 columns]"
            ]
          },
          "metadata": {},
          "execution_count": 47
        }
      ]
    },
    {
      "cell_type": "code",
      "metadata": {
        "id": "nfEfhV2-BWqx"
      },
      "source": [
        "body = pd.get_dummies(df['Body_Style'],drop_first=True,prefix = 'body')"
      ],
      "execution_count": 48,
      "outputs": []
    },
    {
      "cell_type": "code",
      "metadata": {
        "id": "FxTRjIGhBlgd"
      },
      "source": [
        "df = pd.concat([df,color,body],axis=1)"
      ],
      "execution_count": 49,
      "outputs": []
    },
    {
      "cell_type": "code",
      "metadata": {
        "id": "scAbMGK7G8s_"
      },
      "source": [
        "df.drop(['Color','Body_Style'],axis=1,inplace = True)"
      ],
      "execution_count": 50,
      "outputs": []
    },
    {
      "cell_type": "code",
      "metadata": {
        "colab": {
          "base_uri": "https://localhost:8080/"
        },
        "id": "EUEWDWhGEstl",
        "outputId": "e0616dcf-6210-4ab6-e7a6-1652992a73c5"
      },
      "source": [
        "df = df.fillna(0)\n",
        "df.info()"
      ],
      "execution_count": 51,
      "outputs": [
        {
          "output_type": "stream",
          "name": "stdout",
          "text": [
            "<class 'pandas.core.frame.DataFrame'>\n",
            "RangeIndex: 721 entries, 0 to 720\n",
            "Data columns (total 68 columns):\n",
            " #   Column                 Non-Null Count  Dtype  \n",
            "---  ------                 --------------  -----  \n",
            " 0   Total                  721 non-null    int64  \n",
            " 1   HP                     721 non-null    int64  \n",
            " 2   Attack                 721 non-null    int64  \n",
            " 3   Defense                721 non-null    int64  \n",
            " 4   Sp_Atk                 721 non-null    int64  \n",
            " 5   Sp_Def                 721 non-null    int64  \n",
            " 6   Speed                  721 non-null    int64  \n",
            " 7   Generation             721 non-null    int64  \n",
            " 8   Pr_Male                721 non-null    float64\n",
            " 9   Height_m               721 non-null    float64\n",
            " 10  Weight_kg              721 non-null    float64\n",
            " 11  Catch_Rate             721 non-null    int64  \n",
            " 12  dark                   721 non-null    int64  \n",
            " 13  dragon                 721 non-null    int64  \n",
            " 14  electric               721 non-null    int64  \n",
            " 15  fairy                  721 non-null    int64  \n",
            " 16  fighting               721 non-null    int64  \n",
            " 17  fire                   721 non-null    int64  \n",
            " 18  flying                 721 non-null    int64  \n",
            " 19  ghost                  721 non-null    int64  \n",
            " 20  grass                  721 non-null    int64  \n",
            " 21  ground                 721 non-null    int64  \n",
            " 22  ice                    721 non-null    int64  \n",
            " 23  normal                 721 non-null    int64  \n",
            " 24  poison                 721 non-null    int64  \n",
            " 25  psychic                721 non-null    int64  \n",
            " 26  rock                   721 non-null    int64  \n",
            " 27  steel                  721 non-null    int64  \n",
            " 28  water                  721 non-null    int64  \n",
            " 29  Ditto                  721 non-null    int64  \n",
            " 30  Undiscovered           721 non-null    int64  \n",
            " 31  bug                    721 non-null    int64  \n",
            " 32  dragon                 721 non-null    int64  \n",
            " 33  fairy                  721 non-null    int64  \n",
            " 34  field                  721 non-null    int64  \n",
            " 35  flying                 721 non-null    int64  \n",
            " 36  grass                  721 non-null    int64  \n",
            " 37  human-Like             721 non-null    int64  \n",
            " 38  mineral                721 non-null    int64  \n",
            " 39  monster                721 non-null    int64  \n",
            " 40  water_1                721 non-null    int64  \n",
            " 41  water_2                721 non-null    int64  \n",
            " 42  water_3                721 non-null    int64  \n",
            " 43  legend                 721 non-null    int64  \n",
            " 44  gender                 721 non-null    int64  \n",
            " 45  evolution              721 non-null    int64  \n",
            " 46  Color_Blue             721 non-null    uint8  \n",
            " 47  Color_Brown            721 non-null    uint8  \n",
            " 48  Color_Green            721 non-null    uint8  \n",
            " 49  Color_Grey             721 non-null    uint8  \n",
            " 50  Color_Pink             721 non-null    uint8  \n",
            " 51  Color_Purple           721 non-null    uint8  \n",
            " 52  Color_Red              721 non-null    uint8  \n",
            " 53  Color_White            721 non-null    uint8  \n",
            " 54  Color_Yellow           721 non-null    uint8  \n",
            " 55  body_bipedal_tailless  721 non-null    uint8  \n",
            " 56  body_four_wings        721 non-null    uint8  \n",
            " 57  body_head_arms         721 non-null    uint8  \n",
            " 58  body_head_base         721 non-null    uint8  \n",
            " 59  body_head_legs         721 non-null    uint8  \n",
            " 60  body_head_only         721 non-null    uint8  \n",
            " 61  body_insectoid         721 non-null    uint8  \n",
            " 62  body_multiple_bodies   721 non-null    uint8  \n",
            " 63  body_quadruped         721 non-null    uint8  \n",
            " 64  body_serpentine_body   721 non-null    uint8  \n",
            " 65  body_several_limbs     721 non-null    uint8  \n",
            " 66  body_two_wings         721 non-null    uint8  \n",
            " 67  body_with_fins         721 non-null    uint8  \n",
            "dtypes: float64(3), int64(43), uint8(22)\n",
            "memory usage: 274.7 KB\n"
          ]
        }
      ]
    },
    {
      "cell_type": "code",
      "metadata": {
        "colab": {
          "base_uri": "https://localhost:8080/"
        },
        "id": "2v-MAA1JsQwA",
        "outputId": "7d31111a-9e42-414b-fb74-bcfb9d2f0902"
      },
      "source": [
        "df.isna().sum().sort_values()"
      ],
      "execution_count": 52,
      "outputs": [
        {
          "output_type": "execute_result",
          "data": {
            "text/plain": [
              "Total             0\n",
              "grass             0\n",
              "human-Like        0\n",
              "mineral           0\n",
              "monster           0\n",
              "                 ..\n",
              "grass             0\n",
              "ghost             0\n",
              "flying            0\n",
              "poison            0\n",
              "body_with_fins    0\n",
              "Length: 68, dtype: int64"
            ]
          },
          "metadata": {},
          "execution_count": 52
        }
      ]
    },
    {
      "cell_type": "code",
      "metadata": {
        "colab": {
          "base_uri": "https://localhost:8080/",
          "height": 459
        },
        "id": "hFHJwi24bsXs",
        "outputId": "8980c0db-62dd-4d2c-bd32-bffa842cefed"
      },
      "source": [
        "df.corr()"
      ],
      "execution_count": 53,
      "outputs": [
        {
          "output_type": "execute_result",
          "data": {
            "text/html": [
              "<div>\n",
              "<style scoped>\n",
              "    .dataframe tbody tr th:only-of-type {\n",
              "        vertical-align: middle;\n",
              "    }\n",
              "\n",
              "    .dataframe tbody tr th {\n",
              "        vertical-align: top;\n",
              "    }\n",
              "\n",
              "    .dataframe thead th {\n",
              "        text-align: right;\n",
              "    }\n",
              "</style>\n",
              "<table border=\"1\" class=\"dataframe\">\n",
              "  <thead>\n",
              "    <tr style=\"text-align: right;\">\n",
              "      <th></th>\n",
              "      <th>Total</th>\n",
              "      <th>HP</th>\n",
              "      <th>Attack</th>\n",
              "      <th>Defense</th>\n",
              "      <th>Sp_Atk</th>\n",
              "      <th>Sp_Def</th>\n",
              "      <th>Speed</th>\n",
              "      <th>Generation</th>\n",
              "      <th>Pr_Male</th>\n",
              "      <th>Height_m</th>\n",
              "      <th>Weight_kg</th>\n",
              "      <th>Catch_Rate</th>\n",
              "      <th>dark</th>\n",
              "      <th>dragon</th>\n",
              "      <th>electric</th>\n",
              "      <th>fairy</th>\n",
              "      <th>fighting</th>\n",
              "      <th>fire</th>\n",
              "      <th>flying</th>\n",
              "      <th>ghost</th>\n",
              "      <th>grass</th>\n",
              "      <th>ground</th>\n",
              "      <th>ice</th>\n",
              "      <th>normal</th>\n",
              "      <th>poison</th>\n",
              "      <th>psychic</th>\n",
              "      <th>rock</th>\n",
              "      <th>steel</th>\n",
              "      <th>water</th>\n",
              "      <th>Ditto</th>\n",
              "      <th>Undiscovered</th>\n",
              "      <th>bug</th>\n",
              "      <th>dragon</th>\n",
              "      <th>fairy</th>\n",
              "      <th>field</th>\n",
              "      <th>flying</th>\n",
              "      <th>grass</th>\n",
              "      <th>human-Like</th>\n",
              "      <th>mineral</th>\n",
              "      <th>monster</th>\n",
              "      <th>water_1</th>\n",
              "      <th>water_2</th>\n",
              "      <th>water_3</th>\n",
              "      <th>legend</th>\n",
              "      <th>gender</th>\n",
              "      <th>evolution</th>\n",
              "      <th>Color_Blue</th>\n",
              "      <th>Color_Brown</th>\n",
              "      <th>Color_Green</th>\n",
              "      <th>Color_Grey</th>\n",
              "      <th>Color_Pink</th>\n",
              "      <th>Color_Purple</th>\n",
              "      <th>Color_Red</th>\n",
              "      <th>Color_White</th>\n",
              "      <th>Color_Yellow</th>\n",
              "      <th>body_bipedal_tailless</th>\n",
              "      <th>body_four_wings</th>\n",
              "      <th>body_head_arms</th>\n",
              "      <th>body_head_base</th>\n",
              "      <th>body_head_legs</th>\n",
              "      <th>body_head_only</th>\n",
              "      <th>body_insectoid</th>\n",
              "      <th>body_multiple_bodies</th>\n",
              "      <th>body_quadruped</th>\n",
              "      <th>body_serpentine_body</th>\n",
              "      <th>body_several_limbs</th>\n",
              "      <th>body_two_wings</th>\n",
              "      <th>body_with_fins</th>\n",
              "    </tr>\n",
              "  </thead>\n",
              "  <tbody>\n",
              "    <tr>\n",
              "      <th>Total</th>\n",
              "      <td>1.000000</td>\n",
              "      <td>0.642628</td>\n",
              "      <td>0.704164</td>\n",
              "      <td>0.605831</td>\n",
              "      <td>0.723737</td>\n",
              "      <td>0.706501</td>\n",
              "      <td>0.548890</td>\n",
              "      <td>0.092868</td>\n",
              "      <td>-0.187406</td>\n",
              "      <td>0.526813</td>\n",
              "      <td>0.535966</td>\n",
              "      <td>-0.738280</td>\n",
              "      <td>0.047128</td>\n",
              "      <td>0.174573</td>\n",
              "      <td>0.017468</td>\n",
              "      <td>-0.054421</td>\n",
              "      <td>0.053050</td>\n",
              "      <td>0.075754</td>\n",
              "      <td>0.054905</td>\n",
              "      <td>0.008592</td>\n",
              "      <td>-0.033944</td>\n",
              "      <td>0.008076</td>\n",
              "      <td>0.053098</td>\n",
              "      <td>-0.089898</td>\n",
              "      <td>-0.079500</td>\n",
              "      <td>0.080821</td>\n",
              "      <td>0.049966</td>\n",
              "      <td>0.115761</td>\n",
              "      <td>-0.006042</td>\n",
              "      <td>-0.044191</td>\n",
              "      <td>0.326370</td>\n",
              "      <td>-0.144346</td>\n",
              "      <td>0.005464</td>\n",
              "      <td>-0.027760</td>\n",
              "      <td>-0.073871</td>\n",
              "      <td>-0.048787</td>\n",
              "      <td>-0.059461</td>\n",
              "      <td>0.007819</td>\n",
              "      <td>0.004516</td>\n",
              "      <td>0.007008</td>\n",
              "      <td>-0.035213</td>\n",
              "      <td>-0.027134</td>\n",
              "      <td>0.003837</td>\n",
              "      <td>-0.481837</td>\n",
              "      <td>0.385978</td>\n",
              "      <td>-0.228503</td>\n",
              "      <td>0.021645</td>\n",
              "      <td>-0.076276</td>\n",
              "      <td>0.003982</td>\n",
              "      <td>0.008980</td>\n",
              "      <td>-0.045348</td>\n",
              "      <td>0.014164</td>\n",
              "      <td>0.020523</td>\n",
              "      <td>0.009189</td>\n",
              "      <td>0.024985</td>\n",
              "      <td>0.035327</td>\n",
              "      <td>0.031634</td>\n",
              "      <td>0.030332</td>\n",
              "      <td>-0.051170</td>\n",
              "      <td>-0.105439</td>\n",
              "      <td>-0.093211</td>\n",
              "      <td>-0.123421</td>\n",
              "      <td>0.009649</td>\n",
              "      <td>0.006206</td>\n",
              "      <td>0.009892</td>\n",
              "      <td>0.016332</td>\n",
              "      <td>0.035514</td>\n",
              "      <td>-0.040263</td>\n",
              "    </tr>\n",
              "    <tr>\n",
              "      <th>HP</th>\n",
              "      <td>0.642628</td>\n",
              "      <td>1.000000</td>\n",
              "      <td>0.431680</td>\n",
              "      <td>0.228834</td>\n",
              "      <td>0.368640</td>\n",
              "      <td>0.376006</td>\n",
              "      <td>0.170031</td>\n",
              "      <td>0.071545</td>\n",
              "      <td>-0.150008</td>\n",
              "      <td>0.442872</td>\n",
              "      <td>0.431320</td>\n",
              "      <td>-0.478725</td>\n",
              "      <td>0.008586</td>\n",
              "      <td>0.087847</td>\n",
              "      <td>-0.046070</td>\n",
              "      <td>-0.000075</td>\n",
              "      <td>0.050084</td>\n",
              "      <td>0.004959</td>\n",
              "      <td>0.024498</td>\n",
              "      <td>-0.064786</td>\n",
              "      <td>-0.038648</td>\n",
              "      <td>0.069828</td>\n",
              "      <td>0.067177</td>\n",
              "      <td>0.116153</td>\n",
              "      <td>-0.070212</td>\n",
              "      <td>0.025102</td>\n",
              "      <td>-0.032749</td>\n",
              "      <td>-0.036073</td>\n",
              "      <td>0.029050</td>\n",
              "      <td>-0.029404</td>\n",
              "      <td>0.197092</td>\n",
              "      <td>-0.141804</td>\n",
              "      <td>-0.060398</td>\n",
              "      <td>0.085949</td>\n",
              "      <td>0.016790</td>\n",
              "      <td>-0.038468</td>\n",
              "      <td>-0.046509</td>\n",
              "      <td>-0.024858</td>\n",
              "      <td>-0.110465</td>\n",
              "      <td>0.069737</td>\n",
              "      <td>0.009715</td>\n",
              "      <td>0.077077</td>\n",
              "      <td>-0.103035</td>\n",
              "      <td>-0.258926</td>\n",
              "      <td>0.155031</td>\n",
              "      <td>-0.093708</td>\n",
              "      <td>0.091530</td>\n",
              "      <td>-0.070754</td>\n",
              "      <td>-0.029571</td>\n",
              "      <td>-0.029244</td>\n",
              "      <td>0.179092</td>\n",
              "      <td>-0.025254</td>\n",
              "      <td>-0.044587</td>\n",
              "      <td>-0.000781</td>\n",
              "      <td>-0.048582</td>\n",
              "      <td>0.088673</td>\n",
              "      <td>0.007970</td>\n",
              "      <td>0.002416</td>\n",
              "      <td>-0.084001</td>\n",
              "      <td>-0.065631</td>\n",
              "      <td>-0.136261</td>\n",
              "      <td>-0.166280</td>\n",
              "      <td>-0.073999</td>\n",
              "      <td>0.034369</td>\n",
              "      <td>0.018031</td>\n",
              "      <td>0.002849</td>\n",
              "      <td>0.006096</td>\n",
              "      <td>0.080793</td>\n",
              "    </tr>\n",
              "    <tr>\n",
              "      <th>Attack</th>\n",
              "      <td>0.704164</td>\n",
              "      <td>0.431680</td>\n",
              "      <td>1.000000</td>\n",
              "      <td>0.433233</td>\n",
              "      <td>0.335205</td>\n",
              "      <td>0.207211</td>\n",
              "      <td>0.335013</td>\n",
              "      <td>0.093857</td>\n",
              "      <td>0.013054</td>\n",
              "      <td>0.408590</td>\n",
              "      <td>0.469395</td>\n",
              "      <td>-0.525106</td>\n",
              "      <td>0.138305</td>\n",
              "      <td>0.188047</td>\n",
              "      <td>-0.056137</td>\n",
              "      <td>-0.152066</td>\n",
              "      <td>0.193116</td>\n",
              "      <td>0.054249</td>\n",
              "      <td>0.005035</td>\n",
              "      <td>-0.028851</td>\n",
              "      <td>-0.046293</td>\n",
              "      <td>0.128145</td>\n",
              "      <td>0.008144</td>\n",
              "      <td>-0.055339</td>\n",
              "      <td>-0.061461</td>\n",
              "      <td>-0.124024</td>\n",
              "      <td>0.122168</td>\n",
              "      <td>0.090035</td>\n",
              "      <td>-0.061432</td>\n",
              "      <td>-0.034758</td>\n",
              "      <td>0.157310</td>\n",
              "      <td>-0.101900</td>\n",
              "      <td>0.042634</td>\n",
              "      <td>-0.153953</td>\n",
              "      <td>0.046443</td>\n",
              "      <td>-0.035001</td>\n",
              "      <td>-0.059015</td>\n",
              "      <td>0.068171</td>\n",
              "      <td>-0.021057</td>\n",
              "      <td>0.072930</td>\n",
              "      <td>-0.068535</td>\n",
              "      <td>-0.006354</td>\n",
              "      <td>0.049376</td>\n",
              "      <td>-0.302786</td>\n",
              "      <td>0.196892</td>\n",
              "      <td>-0.203840</td>\n",
              "      <td>0.012081</td>\n",
              "      <td>0.051868</td>\n",
              "      <td>-0.006760</td>\n",
              "      <td>0.078139</td>\n",
              "      <td>-0.172978</td>\n",
              "      <td>-0.035596</td>\n",
              "      <td>0.091595</td>\n",
              "      <td>-0.053629</td>\n",
              "      <td>-0.039043</td>\n",
              "      <td>0.042841</td>\n",
              "      <td>0.009745</td>\n",
              "      <td>-0.043935</td>\n",
              "      <td>-0.085226</td>\n",
              "      <td>-0.070136</td>\n",
              "      <td>-0.136551</td>\n",
              "      <td>-0.029115</td>\n",
              "      <td>-0.001076</td>\n",
              "      <td>0.040155</td>\n",
              "      <td>-0.016183</td>\n",
              "      <td>0.013610</td>\n",
              "      <td>-0.022023</td>\n",
              "      <td>-0.050383</td>\n",
              "    </tr>\n",
              "    <tr>\n",
              "      <th>Defense</th>\n",
              "      <td>0.605831</td>\n",
              "      <td>0.228834</td>\n",
              "      <td>0.433233</td>\n",
              "      <td>1.000000</td>\n",
              "      <td>0.202519</td>\n",
              "      <td>0.483986</td>\n",
              "      <td>-0.008663</td>\n",
              "      <td>0.068409</td>\n",
              "      <td>-0.137719</td>\n",
              "      <td>0.354205</td>\n",
              "      <td>0.476983</td>\n",
              "      <td>-0.436558</td>\n",
              "      <td>-0.031978</td>\n",
              "      <td>0.077234</td>\n",
              "      <td>-0.088383</td>\n",
              "      <td>-0.043713</td>\n",
              "      <td>-0.005458</td>\n",
              "      <td>-0.054921</td>\n",
              "      <td>-0.071205</td>\n",
              "      <td>0.054162</td>\n",
              "      <td>-0.007372</td>\n",
              "      <td>0.123061</td>\n",
              "      <td>0.021381</td>\n",
              "      <td>-0.177495</td>\n",
              "      <td>-0.081009</td>\n",
              "      <td>-0.007936</td>\n",
              "      <td>0.351859</td>\n",
              "      <td>0.348349</td>\n",
              "      <td>0.016594</td>\n",
              "      <td>-0.029035</td>\n",
              "      <td>0.154375</td>\n",
              "      <td>-0.013776</td>\n",
              "      <td>-0.020052</td>\n",
              "      <td>-0.075039</td>\n",
              "      <td>-0.183349</td>\n",
              "      <td>-0.093135</td>\n",
              "      <td>-0.030368</td>\n",
              "      <td>-0.079123</td>\n",
              "      <td>0.248433</td>\n",
              "      <td>0.088818</td>\n",
              "      <td>0.014639</td>\n",
              "      <td>-0.061896</td>\n",
              "      <td>0.127444</td>\n",
              "      <td>-0.274446</td>\n",
              "      <td>0.269466</td>\n",
              "      <td>-0.122666</td>\n",
              "      <td>0.008117</td>\n",
              "      <td>-0.017385</td>\n",
              "      <td>-0.012874</td>\n",
              "      <td>0.213252</td>\n",
              "      <td>-0.071426</td>\n",
              "      <td>-0.018288</td>\n",
              "      <td>-0.027722</td>\n",
              "      <td>-0.046525</td>\n",
              "      <td>-0.037938</td>\n",
              "      <td>-0.023294</td>\n",
              "      <td>-0.042072</td>\n",
              "      <td>0.028372</td>\n",
              "      <td>0.044540</td>\n",
              "      <td>-0.025836</td>\n",
              "      <td>0.025145</td>\n",
              "      <td>0.040269</td>\n",
              "      <td>0.113475</td>\n",
              "      <td>-0.022729</td>\n",
              "      <td>0.059207</td>\n",
              "      <td>0.059276</td>\n",
              "      <td>-0.047803</td>\n",
              "      <td>-0.077554</td>\n",
              "    </tr>\n",
              "    <tr>\n",
              "      <th>Sp_Atk</th>\n",
              "      <td>0.723737</td>\n",
              "      <td>0.368640</td>\n",
              "      <td>0.335205</td>\n",
              "      <td>0.202519</td>\n",
              "      <td>1.000000</td>\n",
              "      <td>0.492861</td>\n",
              "      <td>0.443106</td>\n",
              "      <td>0.069689</td>\n",
              "      <td>-0.158000</td>\n",
              "      <td>0.330579</td>\n",
              "      <td>0.285048</td>\n",
              "      <td>-0.539114</td>\n",
              "      <td>0.028304</td>\n",
              "      <td>0.129453</td>\n",
              "      <td>0.121654</td>\n",
              "      <td>0.018883</td>\n",
              "      <td>-0.069780</td>\n",
              "      <td>0.180792</td>\n",
              "      <td>0.031010</td>\n",
              "      <td>0.057020</td>\n",
              "      <td>0.033814</td>\n",
              "      <td>-0.131307</td>\n",
              "      <td>0.055978</td>\n",
              "      <td>-0.176835</td>\n",
              "      <td>-0.027005</td>\n",
              "      <td>0.209921</td>\n",
              "      <td>-0.109443</td>\n",
              "      <td>0.003278</td>\n",
              "      <td>0.046513</td>\n",
              "      <td>-0.026865</td>\n",
              "      <td>0.300170</td>\n",
              "      <td>-0.177361</td>\n",
              "      <td>-0.007016</td>\n",
              "      <td>-0.007359</td>\n",
              "      <td>-0.082549</td>\n",
              "      <td>-0.067161</td>\n",
              "      <td>0.038250</td>\n",
              "      <td>0.008504</td>\n",
              "      <td>-0.056018</td>\n",
              "      <td>-0.051378</td>\n",
              "      <td>0.023209</td>\n",
              "      <td>-0.049100</td>\n",
              "      <td>-0.005741</td>\n",
              "      <td>-0.409739</td>\n",
              "      <td>0.336579</td>\n",
              "      <td>-0.175581</td>\n",
              "      <td>0.039553</td>\n",
              "      <td>-0.168832</td>\n",
              "      <td>0.051508</td>\n",
              "      <td>-0.120442</td>\n",
              "      <td>0.011814</td>\n",
              "      <td>0.044111</td>\n",
              "      <td>0.027267</td>\n",
              "      <td>0.048760</td>\n",
              "      <td>0.060311</td>\n",
              "      <td>0.008691</td>\n",
              "      <td>0.044102</td>\n",
              "      <td>0.097026</td>\n",
              "      <td>0.003347</td>\n",
              "      <td>-0.056414</td>\n",
              "      <td>-0.018443</td>\n",
              "      <td>-0.153340</td>\n",
              "      <td>-0.007116</td>\n",
              "      <td>-0.019726</td>\n",
              "      <td>0.015361</td>\n",
              "      <td>0.018989</td>\n",
              "      <td>0.005722</td>\n",
              "      <td>-0.036334</td>\n",
              "    </tr>\n",
              "    <tr>\n",
              "      <th>...</th>\n",
              "      <td>...</td>\n",
              "      <td>...</td>\n",
              "      <td>...</td>\n",
              "      <td>...</td>\n",
              "      <td>...</td>\n",
              "      <td>...</td>\n",
              "      <td>...</td>\n",
              "      <td>...</td>\n",
              "      <td>...</td>\n",
              "      <td>...</td>\n",
              "      <td>...</td>\n",
              "      <td>...</td>\n",
              "      <td>...</td>\n",
              "      <td>...</td>\n",
              "      <td>...</td>\n",
              "      <td>...</td>\n",
              "      <td>...</td>\n",
              "      <td>...</td>\n",
              "      <td>...</td>\n",
              "      <td>...</td>\n",
              "      <td>...</td>\n",
              "      <td>...</td>\n",
              "      <td>...</td>\n",
              "      <td>...</td>\n",
              "      <td>...</td>\n",
              "      <td>...</td>\n",
              "      <td>...</td>\n",
              "      <td>...</td>\n",
              "      <td>...</td>\n",
              "      <td>...</td>\n",
              "      <td>...</td>\n",
              "      <td>...</td>\n",
              "      <td>...</td>\n",
              "      <td>...</td>\n",
              "      <td>...</td>\n",
              "      <td>...</td>\n",
              "      <td>...</td>\n",
              "      <td>...</td>\n",
              "      <td>...</td>\n",
              "      <td>...</td>\n",
              "      <td>...</td>\n",
              "      <td>...</td>\n",
              "      <td>...</td>\n",
              "      <td>...</td>\n",
              "      <td>...</td>\n",
              "      <td>...</td>\n",
              "      <td>...</td>\n",
              "      <td>...</td>\n",
              "      <td>...</td>\n",
              "      <td>...</td>\n",
              "      <td>...</td>\n",
              "      <td>...</td>\n",
              "      <td>...</td>\n",
              "      <td>...</td>\n",
              "      <td>...</td>\n",
              "      <td>...</td>\n",
              "      <td>...</td>\n",
              "      <td>...</td>\n",
              "      <td>...</td>\n",
              "      <td>...</td>\n",
              "      <td>...</td>\n",
              "      <td>...</td>\n",
              "      <td>...</td>\n",
              "      <td>...</td>\n",
              "      <td>...</td>\n",
              "      <td>...</td>\n",
              "      <td>...</td>\n",
              "      <td>...</td>\n",
              "    </tr>\n",
              "    <tr>\n",
              "      <th>body_quadruped</th>\n",
              "      <td>0.006206</td>\n",
              "      <td>0.034369</td>\n",
              "      <td>0.040155</td>\n",
              "      <td>-0.022729</td>\n",
              "      <td>-0.019726</td>\n",
              "      <td>-0.069313</td>\n",
              "      <td>0.063593</td>\n",
              "      <td>0.019970</td>\n",
              "      <td>0.064872</td>\n",
              "      <td>-0.015508</td>\n",
              "      <td>0.086510</td>\n",
              "      <td>0.024331</td>\n",
              "      <td>0.100424</td>\n",
              "      <td>-0.033655</td>\n",
              "      <td>0.093141</td>\n",
              "      <td>-0.075328</td>\n",
              "      <td>-0.062953</td>\n",
              "      <td>0.152954</td>\n",
              "      <td>-0.148999</td>\n",
              "      <td>-0.108415</td>\n",
              "      <td>0.014094</td>\n",
              "      <td>0.022727</td>\n",
              "      <td>0.065006</td>\n",
              "      <td>0.133761</td>\n",
              "      <td>-0.026553</td>\n",
              "      <td>-0.115463</td>\n",
              "      <td>-0.017388</td>\n",
              "      <td>-0.010391</td>\n",
              "      <td>-0.097006</td>\n",
              "      <td>-0.017888</td>\n",
              "      <td>0.015693</td>\n",
              "      <td>-0.154887</td>\n",
              "      <td>-0.065048</td>\n",
              "      <td>-0.069136</td>\n",
              "      <td>0.449090</td>\n",
              "      <td>-0.131021</td>\n",
              "      <td>-0.013582</td>\n",
              "      <td>-0.133816</td>\n",
              "      <td>-0.136569</td>\n",
              "      <td>0.127604</td>\n",
              "      <td>-0.090482</td>\n",
              "      <td>-0.087127</td>\n",
              "      <td>-0.080162</td>\n",
              "      <td>-0.049272</td>\n",
              "      <td>-0.027829</td>\n",
              "      <td>0.038013</td>\n",
              "      <td>-0.019104</td>\n",
              "      <td>0.122645</td>\n",
              "      <td>-0.009014</td>\n",
              "      <td>0.049315</td>\n",
              "      <td>-0.056448</td>\n",
              "      <td>-0.039360</td>\n",
              "      <td>-0.105314</td>\n",
              "      <td>-0.010122</td>\n",
              "      <td>0.050212</td>\n",
              "      <td>-0.202561</td>\n",
              "      <td>-0.076803</td>\n",
              "      <td>-0.114778</td>\n",
              "      <td>-0.100009</td>\n",
              "      <td>-0.074586</td>\n",
              "      <td>-0.106777</td>\n",
              "      <td>-0.100009</td>\n",
              "      <td>-0.069962</td>\n",
              "      <td>1.000000</td>\n",
              "      <td>-0.098257</td>\n",
              "      <td>-0.065039</td>\n",
              "      <td>-0.148517</td>\n",
              "      <td>-0.101736</td>\n",
              "    </tr>\n",
              "    <tr>\n",
              "      <th>body_serpentine_body</th>\n",
              "      <td>0.009892</td>\n",
              "      <td>0.018031</td>\n",
              "      <td>-0.016183</td>\n",
              "      <td>0.059207</td>\n",
              "      <td>0.015361</td>\n",
              "      <td>0.019494</td>\n",
              "      <td>-0.059229</td>\n",
              "      <td>-0.060796</td>\n",
              "      <td>-0.040439</td>\n",
              "      <td>0.327274</td>\n",
              "      <td>0.098232</td>\n",
              "      <td>-0.030273</td>\n",
              "      <td>-0.052189</td>\n",
              "      <td>0.172859</td>\n",
              "      <td>-0.050914</td>\n",
              "      <td>-0.046240</td>\n",
              "      <td>-0.052189</td>\n",
              "      <td>-0.006658</td>\n",
              "      <td>-0.034598</td>\n",
              "      <td>-0.013394</td>\n",
              "      <td>-0.052336</td>\n",
              "      <td>0.066107</td>\n",
              "      <td>-0.044834</td>\n",
              "      <td>-0.060025</td>\n",
              "      <td>0.067651</td>\n",
              "      <td>-0.045972</td>\n",
              "      <td>0.020950</td>\n",
              "      <td>-0.019786</td>\n",
              "      <td>0.043003</td>\n",
              "      <td>-0.007629</td>\n",
              "      <td>0.024894</td>\n",
              "      <td>0.030551</td>\n",
              "      <td>0.209813</td>\n",
              "      <td>-0.054059</td>\n",
              "      <td>-0.048001</td>\n",
              "      <td>-0.055882</td>\n",
              "      <td>-0.035361</td>\n",
              "      <td>-0.057074</td>\n",
              "      <td>-0.004612</td>\n",
              "      <td>-0.046630</td>\n",
              "      <td>0.097535</td>\n",
              "      <td>0.003009</td>\n",
              "      <td>-0.005980</td>\n",
              "      <td>-0.033210</td>\n",
              "      <td>-0.002219</td>\n",
              "      <td>-0.033210</td>\n",
              "      <td>-0.007073</td>\n",
              "      <td>-0.067228</td>\n",
              "      <td>0.018588</td>\n",
              "      <td>0.005392</td>\n",
              "      <td>0.010696</td>\n",
              "      <td>0.083446</td>\n",
              "      <td>-0.000385</td>\n",
              "      <td>-0.057074</td>\n",
              "      <td>0.010569</td>\n",
              "      <td>-0.086394</td>\n",
              "      <td>-0.032757</td>\n",
              "      <td>-0.048954</td>\n",
              "      <td>-0.042655</td>\n",
              "      <td>-0.031811</td>\n",
              "      <td>-0.045541</td>\n",
              "      <td>-0.042655</td>\n",
              "      <td>-0.029839</td>\n",
              "      <td>-0.098257</td>\n",
              "      <td>1.000000</td>\n",
              "      <td>-0.027740</td>\n",
              "      <td>-0.063344</td>\n",
              "      <td>-0.043391</td>\n",
              "    </tr>\n",
              "    <tr>\n",
              "      <th>body_several_limbs</th>\n",
              "      <td>0.016332</td>\n",
              "      <td>0.002849</td>\n",
              "      <td>0.013610</td>\n",
              "      <td>0.059276</td>\n",
              "      <td>0.018989</td>\n",
              "      <td>0.056066</td>\n",
              "      <td>-0.090735</td>\n",
              "      <td>0.023729</td>\n",
              "      <td>0.033737</td>\n",
              "      <td>0.001850</td>\n",
              "      <td>0.020481</td>\n",
              "      <td>0.009098</td>\n",
              "      <td>0.008999</td>\n",
              "      <td>-0.031962</td>\n",
              "      <td>-0.033701</td>\n",
              "      <td>-0.030607</td>\n",
              "      <td>-0.034545</td>\n",
              "      <td>-0.039322</td>\n",
              "      <td>-0.051175</td>\n",
              "      <td>0.114896</td>\n",
              "      <td>0.048260</td>\n",
              "      <td>-0.040825</td>\n",
              "      <td>-0.029677</td>\n",
              "      <td>-0.053426</td>\n",
              "      <td>0.035601</td>\n",
              "      <td>-0.011480</td>\n",
              "      <td>0.118128</td>\n",
              "      <td>0.011736</td>\n",
              "      <td>0.137275</td>\n",
              "      <td>-0.005050</td>\n",
              "      <td>-0.045481</td>\n",
              "      <td>-0.043727</td>\n",
              "      <td>-0.034961</td>\n",
              "      <td>-0.035783</td>\n",
              "      <td>-0.083956</td>\n",
              "      <td>-0.036990</td>\n",
              "      <td>0.073628</td>\n",
              "      <td>-0.037778</td>\n",
              "      <td>0.080242</td>\n",
              "      <td>-0.046171</td>\n",
              "      <td>0.077802</td>\n",
              "      <td>0.094030</td>\n",
              "      <td>0.184465</td>\n",
              "      <td>0.035374</td>\n",
              "      <td>-0.046855</td>\n",
              "      <td>0.035374</td>\n",
              "      <td>0.122832</td>\n",
              "      <td>-0.028506</td>\n",
              "      <td>-0.014163</td>\n",
              "      <td>-0.008649</td>\n",
              "      <td>-0.033273</td>\n",
              "      <td>-0.042654</td>\n",
              "      <td>-0.012028</td>\n",
              "      <td>0.042808</td>\n",
              "      <td>-0.042292</td>\n",
              "      <td>-0.057186</td>\n",
              "      <td>-0.021683</td>\n",
              "      <td>-0.032404</td>\n",
              "      <td>-0.028234</td>\n",
              "      <td>-0.021057</td>\n",
              "      <td>-0.030145</td>\n",
              "      <td>-0.028234</td>\n",
              "      <td>-0.019751</td>\n",
              "      <td>-0.065039</td>\n",
              "      <td>-0.027740</td>\n",
              "      <td>1.000000</td>\n",
              "      <td>-0.041929</td>\n",
              "      <td>-0.028722</td>\n",
              "    </tr>\n",
              "    <tr>\n",
              "      <th>body_two_wings</th>\n",
              "      <td>0.035514</td>\n",
              "      <td>0.006096</td>\n",
              "      <td>-0.022023</td>\n",
              "      <td>-0.047803</td>\n",
              "      <td>0.005722</td>\n",
              "      <td>0.015400</td>\n",
              "      <td>0.190450</td>\n",
              "      <td>-0.004001</td>\n",
              "      <td>-0.031616</td>\n",
              "      <td>0.034902</td>\n",
              "      <td>-0.048243</td>\n",
              "      <td>-0.021602</td>\n",
              "      <td>0.023705</td>\n",
              "      <td>0.080882</td>\n",
              "      <td>-0.055987</td>\n",
              "      <td>-0.047039</td>\n",
              "      <td>-0.078884</td>\n",
              "      <td>0.001960</td>\n",
              "      <td>0.759875</td>\n",
              "      <td>-0.069892</td>\n",
              "      <td>-0.112364</td>\n",
              "      <td>-0.039880</td>\n",
              "      <td>-0.020764</td>\n",
              "      <td>0.180271</td>\n",
              "      <td>-0.056538</td>\n",
              "      <td>0.024826</td>\n",
              "      <td>-0.033413</td>\n",
              "      <td>-0.054771</td>\n",
              "      <td>-0.057227</td>\n",
              "      <td>-0.011532</td>\n",
              "      <td>0.058962</td>\n",
              "      <td>-0.015826</td>\n",
              "      <td>-0.039227</td>\n",
              "      <td>-0.061814</td>\n",
              "      <td>-0.147833</td>\n",
              "      <td>0.804866</td>\n",
              "      <td>-0.092375</td>\n",
              "      <td>-0.086267</td>\n",
              "      <td>-0.088042</td>\n",
              "      <td>-0.105432</td>\n",
              "      <td>-0.024154</td>\n",
              "      <td>-0.056169</td>\n",
              "      <td>-0.013348</td>\n",
              "      <td>-0.100092</td>\n",
              "      <td>0.004323</td>\n",
              "      <td>-0.019706</td>\n",
              "      <td>-0.021575</td>\n",
              "      <td>0.046283</td>\n",
              "      <td>-0.061371</td>\n",
              "      <td>-0.033878</td>\n",
              "      <td>-0.075979</td>\n",
              "      <td>0.039793</td>\n",
              "      <td>0.055449</td>\n",
              "      <td>0.027650</td>\n",
              "      <td>-0.010228</td>\n",
              "      <td>-0.130585</td>\n",
              "      <td>-0.049513</td>\n",
              "      <td>-0.073994</td>\n",
              "      <td>-0.064473</td>\n",
              "      <td>-0.048083</td>\n",
              "      <td>-0.068836</td>\n",
              "      <td>-0.064473</td>\n",
              "      <td>-0.045102</td>\n",
              "      <td>-0.148517</td>\n",
              "      <td>-0.063344</td>\n",
              "      <td>-0.041929</td>\n",
              "      <td>1.000000</td>\n",
              "      <td>-0.065586</td>\n",
              "    </tr>\n",
              "    <tr>\n",
              "      <th>body_with_fins</th>\n",
              "      <td>-0.040263</td>\n",
              "      <td>0.080793</td>\n",
              "      <td>-0.050383</td>\n",
              "      <td>-0.077554</td>\n",
              "      <td>-0.036334</td>\n",
              "      <td>-0.061551</td>\n",
              "      <td>-0.002293</td>\n",
              "      <td>-0.041048</td>\n",
              "      <td>-0.005306</td>\n",
              "      <td>0.084486</td>\n",
              "      <td>0.012673</td>\n",
              "      <td>0.074642</td>\n",
              "      <td>0.003090</td>\n",
              "      <td>-0.049996</td>\n",
              "      <td>0.122438</td>\n",
              "      <td>-0.047877</td>\n",
              "      <td>-0.054037</td>\n",
              "      <td>-0.061509</td>\n",
              "      <td>-0.080050</td>\n",
              "      <td>-0.047877</td>\n",
              "      <td>-0.076971</td>\n",
              "      <td>0.010403</td>\n",
              "      <td>0.084448</td>\n",
              "      <td>-0.083570</td>\n",
              "      <td>-0.038334</td>\n",
              "      <td>-0.071684</td>\n",
              "      <td>-0.035154</td>\n",
              "      <td>-0.052047</td>\n",
              "      <td>0.405228</td>\n",
              "      <td>-0.007899</td>\n",
              "      <td>-0.048476</td>\n",
              "      <td>-0.068400</td>\n",
              "      <td>0.001843</td>\n",
              "      <td>-0.055973</td>\n",
              "      <td>-0.039694</td>\n",
              "      <td>-0.057860</td>\n",
              "      <td>-0.063278</td>\n",
              "      <td>-0.059094</td>\n",
              "      <td>-0.060310</td>\n",
              "      <td>-0.049826</td>\n",
              "      <td>0.152379</td>\n",
              "      <td>0.700775</td>\n",
              "      <td>-0.043391</td>\n",
              "      <td>0.027356</td>\n",
              "      <td>-0.051154</td>\n",
              "      <td>0.027356</td>\n",
              "      <td>0.162391</td>\n",
              "      <td>-0.051904</td>\n",
              "      <td>-0.052464</td>\n",
              "      <td>0.024016</td>\n",
              "      <td>0.007002</td>\n",
              "      <td>-0.066721</td>\n",
              "      <td>0.017364</td>\n",
              "      <td>0.020199</td>\n",
              "      <td>-0.066155</td>\n",
              "      <td>-0.089453</td>\n",
              "      <td>-0.033917</td>\n",
              "      <td>-0.050687</td>\n",
              "      <td>-0.044165</td>\n",
              "      <td>-0.032938</td>\n",
              "      <td>-0.047154</td>\n",
              "      <td>-0.044165</td>\n",
              "      <td>-0.030896</td>\n",
              "      <td>-0.101736</td>\n",
              "      <td>-0.043391</td>\n",
              "      <td>-0.028722</td>\n",
              "      <td>-0.065586</td>\n",
              "      <td>1.000000</td>\n",
              "    </tr>\n",
              "  </tbody>\n",
              "</table>\n",
              "<p>68 rows × 68 columns</p>\n",
              "</div>"
            ],
            "text/plain": [
              "                         Total        HP  ...  body_two_wings  body_with_fins\n",
              "Total                 1.000000  0.642628  ...        0.035514       -0.040263\n",
              "HP                    0.642628  1.000000  ...        0.006096        0.080793\n",
              "Attack                0.704164  0.431680  ...       -0.022023       -0.050383\n",
              "Defense               0.605831  0.228834  ...       -0.047803       -0.077554\n",
              "Sp_Atk                0.723737  0.368640  ...        0.005722       -0.036334\n",
              "...                        ...       ...  ...             ...             ...\n",
              "body_quadruped        0.006206  0.034369  ...       -0.148517       -0.101736\n",
              "body_serpentine_body  0.009892  0.018031  ...       -0.063344       -0.043391\n",
              "body_several_limbs    0.016332  0.002849  ...       -0.041929       -0.028722\n",
              "body_two_wings        0.035514  0.006096  ...        1.000000       -0.065586\n",
              "body_with_fins       -0.040263  0.080793  ...       -0.065586        1.000000\n",
              "\n",
              "[68 rows x 68 columns]"
            ]
          },
          "metadata": {},
          "execution_count": 53
        }
      ]
    },
    {
      "cell_type": "code",
      "metadata": {
        "colab": {
          "base_uri": "https://localhost:8080/",
          "height": 619
        },
        "id": "0z0N7_KxK5kz",
        "outputId": "90ef3133-db00-49b8-b9c0-14aa46345e3b"
      },
      "source": [
        "# target 과 독립변수들과의 상관계수 그래프 \n",
        "\n",
        "import matplotlib.pyplot as plt\n",
        "import numpy as np\n",
        "df.drop('legend', axis=1).corrwith(df.legend).plot(kind='bar',color='purple', grid=True, figsize=(15, 8), title=\"Correlation with dependent variable\")                        "
      ],
      "execution_count": 54,
      "outputs": [
        {
          "output_type": "execute_result",
          "data": {
            "text/plain": [
              "<matplotlib.axes._subplots.AxesSubplot at 0x7fcd11d72190>"
            ]
          },
          "metadata": {},
          "execution_count": 54
        },
        {
          "output_type": "display_data",
          "data": {
            "image/png": "[encoded data removed]",
            "text/plain": [
              "<Figure size 1080x576 with 1 Axes>"
            ]
          },
          "metadata": {
            "needs_background": "light"
          }
        }
      ]
    },
    {
      "cell_type": "code",
      "metadata": {
        "id": "PvH0aj47YtBb"
      },
      "source": [
        "# 그래프 를 보고 상관계수가 음수로 가는 컬럼 위주로 드랍 시킨다. \n",
        "df.drop(['Undiscovered','gender','Total','Pr_Male','HP','Attack','Defense','Sp_Atk','Sp_Def','Speed','Generation','Catch_Rate','water','evolution','Height_m','Weight_kg'],axis=1,inplace=True)"
      ],
      "execution_count": 55,
      "outputs": []
    },
    {
      "cell_type": "code",
      "metadata": {
        "colab": {
          "base_uri": "https://localhost:8080/"
        },
        "id": "FQG9At3tJtdQ",
        "outputId": "d2fb6b17-9e23-4395-af0e-d1b992654d01"
      },
      "source": [
        "df.info()"
      ],
      "execution_count": 56,
      "outputs": [
        {
          "output_type": "stream",
          "name": "stdout",
          "text": [
            "<class 'pandas.core.frame.DataFrame'>\n",
            "RangeIndex: 721 entries, 0 to 720\n",
            "Data columns (total 52 columns):\n",
            " #   Column                 Non-Null Count  Dtype\n",
            "---  ------                 --------------  -----\n",
            " 0   dark                   721 non-null    int64\n",
            " 1   dragon                 721 non-null    int64\n",
            " 2   electric               721 non-null    int64\n",
            " 3   fairy                  721 non-null    int64\n",
            " 4   fighting               721 non-null    int64\n",
            " 5   fire                   721 non-null    int64\n",
            " 6   flying                 721 non-null    int64\n",
            " 7   ghost                  721 non-null    int64\n",
            " 8   grass                  721 non-null    int64\n",
            " 9   ground                 721 non-null    int64\n",
            " 10  ice                    721 non-null    int64\n",
            " 11  normal                 721 non-null    int64\n",
            " 12  poison                 721 non-null    int64\n",
            " 13  psychic                721 non-null    int64\n",
            " 14  rock                   721 non-null    int64\n",
            " 15  steel                  721 non-null    int64\n",
            " 16  Ditto                  721 non-null    int64\n",
            " 17  bug                    721 non-null    int64\n",
            " 18  dragon                 721 non-null    int64\n",
            " 19  fairy                  721 non-null    int64\n",
            " 20  field                  721 non-null    int64\n",
            " 21  flying                 721 non-null    int64\n",
            " 22  grass                  721 non-null    int64\n",
            " 23  human-Like             721 non-null    int64\n",
            " 24  mineral                721 non-null    int64\n",
            " 25  monster                721 non-null    int64\n",
            " 26  water_1                721 non-null    int64\n",
            " 27  water_2                721 non-null    int64\n",
            " 28  water_3                721 non-null    int64\n",
            " 29  legend                 721 non-null    int64\n",
            " 30  Color_Blue             721 non-null    uint8\n",
            " 31  Color_Brown            721 non-null    uint8\n",
            " 32  Color_Green            721 non-null    uint8\n",
            " 33  Color_Grey             721 non-null    uint8\n",
            " 34  Color_Pink             721 non-null    uint8\n",
            " 35  Color_Purple           721 non-null    uint8\n",
            " 36  Color_Red              721 non-null    uint8\n",
            " 37  Color_White            721 non-null    uint8\n",
            " 38  Color_Yellow           721 non-null    uint8\n",
            " 39  body_bipedal_tailless  721 non-null    uint8\n",
            " 40  body_four_wings        721 non-null    uint8\n",
            " 41  body_head_arms         721 non-null    uint8\n",
            " 42  body_head_base         721 non-null    uint8\n",
            " 43  body_head_legs         721 non-null    uint8\n",
            " 44  body_head_only         721 non-null    uint8\n",
            " 45  body_insectoid         721 non-null    uint8\n",
            " 46  body_multiple_bodies   721 non-null    uint8\n",
            " 47  body_quadruped         721 non-null    uint8\n",
            " 48  body_serpentine_body   721 non-null    uint8\n",
            " 49  body_several_limbs     721 non-null    uint8\n",
            " 50  body_two_wings         721 non-null    uint8\n",
            " 51  body_with_fins         721 non-null    uint8\n",
            "dtypes: int64(30), uint8(22)\n",
            "memory usage: 184.6 KB\n"
          ]
        }
      ]
    },
    {
      "cell_type": "code",
      "metadata": {
        "id": "bZMMGoyiduZl"
      },
      "source": [
        "X = df.drop('legend',axis=1)\n",
        "y = df['legend']"
      ],
      "execution_count": 57,
      "outputs": []
    },
    {
      "cell_type": "code",
      "metadata": {
        "id": "bLk0iocsfCGO"
      },
      "source": [
        "from sklearn.model_selection import train_test_split\n",
        "from sklearn.metrics import classification_report,confusion_matrix\n",
        "\n",
        "X_train, X_test, y_train, y_test = train_test_split(X, y, test_size=0.20)\n",
        "X_train, X_val, y_train, y_val = train_test_split(X, y, test_size=0.20)\n"
      ],
      "execution_count": 59,
      "outputs": []
    },
    {
      "cell_type": "code",
      "metadata": {
        "colab": {
          "base_uri": "https://localhost:8080/"
        },
        "id": "qhb6aBRBtB6d",
        "outputId": "0db347d6-b265-4e6a-c55a-ba9ed80b4e16"
      },
      "source": [
        "# 기준모델 기준모델로 최다 비율 클래스를 사용할 경우 정확도\n",
        "# 0 : 전설포켓몬일 확률 1: 전설포켓몬이 아닐 확률\n",
        "\n",
        "target = 'legend'\n",
        "y_train1 = df[target]\n",
        "y_train1.value_counts(normalize=True)"
      ],
      "execution_count": 60,
      "outputs": [
        {
          "output_type": "execute_result",
          "data": {
            "text/plain": [
              "1    0.9362\n",
              "0    0.0638\n",
              "Name: legend, dtype: float64"
            ]
          },
          "metadata": {},
          "execution_count": 60
        }
      ]
    },
    {
      "cell_type": "code",
      "metadata": {
        "id": "sw0MTyD3tvcq"
      },
      "source": [
        "major = y_train1.mode()[0]\n",
        "y_pred = [major] * len(y_train1)"
      ],
      "execution_count": 63,
      "outputs": []
    },
    {
      "cell_type": "code",
      "metadata": {
        "colab": {
          "base_uri": "https://localhost:8080/"
        },
        "id": "UUEtGJmntzTo",
        "outputId": "7014d9d4-b90b-4cc4-da05-1fd1119c8d3b"
      },
      "source": [
        "from sklearn.metrics import accuracy_score\n",
        "print(\"training accuracy: \", accuracy_score(y_train1, y_pred))"
      ],
      "execution_count": 64,
      "outputs": [
        {
          "output_type": "stream",
          "name": "stdout",
          "text": [
            "training accuracy:  0.9361997226074896\n"
          ]
        }
      ]
    },
    {
      "cell_type": "code",
      "metadata": {
        "id": "AYhzpuzLdKCl"
      },
      "source": [
        "# 분류 기준으로 잡았기 때문에 LogisticRegression \n",
        "\n",
        "from sklearn.linear_model import LogisticRegression\n",
        "from sklearn.preprocessing import StandardScaler\n",
        "\n",
        "scaler = StandardScaler()\n",
        "X_train_scaled = scaler.fit_transform(X_train)\n",
        "X_val_scaled = scaler.transform(X_val)\n",
        "\n"
      ],
      "execution_count": 61,
      "outputs": []
    },
    {
      "cell_type": "code",
      "metadata": {
        "colab": {
          "base_uri": "https://localhost:8080/"
        },
        "id": "dZxpTy1Z2VhE",
        "outputId": "2c00baea-e4c3-4945-eec5-3eecd1dd264b"
      },
      "source": [
        "X_train_scaled"
      ],
      "execution_count": 62,
      "outputs": [
        {
          "output_type": "execute_result",
          "data": {
            "text/plain": [
              "array([[-0.26200313, -0.25819889, -0.24652278, ..., -0.11867817,\n",
              "        -0.32163376, -0.19451951],\n",
              "       [-0.26200313, -0.25819889, -0.24652278, ..., -0.11867817,\n",
              "        -0.32163376, -0.19451951],\n",
              "       [-0.26200313, -0.25819889, -0.24652278, ..., -0.11867817,\n",
              "        -0.32163376, -0.19451951],\n",
              "       ...,\n",
              "       [-0.26200313, -0.25819889, -0.24652278, ..., -0.11867817,\n",
              "        -0.32163376, -0.19451951],\n",
              "       [-0.26200313, -0.25819889, -0.24652278, ..., -0.11867817,\n",
              "         3.10912635, -0.19451951],\n",
              "       [-0.26200313, -0.25819889, -0.24652278, ..., -0.11867817,\n",
              "        -0.32163376, -0.19451951]])"
            ]
          },
          "metadata": {},
          "execution_count": 62
        }
      ]
    },
    {
      "cell_type": "code",
      "metadata": {
        "colab": {
          "base_uri": "https://localhost:8080/"
        },
        "id": "rnCbfEGO2Zit",
        "outputId": "9ffe65ed-1d82-4e45-c2ab-64c2f55c9fad"
      },
      "source": [
        "X_train_scaled.T[0].mean(), X_train_scaled.T[0].std()\n"
      ],
      "execution_count": 63,
      "outputs": [
        {
          "output_type": "execute_result",
          "data": {
            "text/plain": [
              "(1.2335811384723961e-17, 1.0000000000000002)"
            ]
          },
          "metadata": {},
          "execution_count": 63
        }
      ]
    },
    {
      "cell_type": "code",
      "metadata": {
        "colab": {
          "base_uri": "https://localhost:8080/"
        },
        "id": "GgFrjVnN2cy5",
        "outputId": "2b6f6b63-00fd-422a-f436-85fb3477bf30"
      },
      "source": [
        "model = LogisticRegression(random_state=1)\n",
        "model.fit(X_train_scaled, y_train)"
      ],
      "execution_count": 64,
      "outputs": [
        {
          "output_type": "execute_result",
          "data": {
            "text/plain": [
              "LogisticRegression(C=1.0, class_weight=None, dual=False, fit_intercept=True,\n",
              "                   intercept_scaling=1, l1_ratio=None, max_iter=100,\n",
              "                   multi_class='auto', n_jobs=None, penalty='l2',\n",
              "                   random_state=1, solver='lbfgs', tol=0.0001, verbose=0,\n",
              "                   warm_start=False)"
            ]
          },
          "metadata": {},
          "execution_count": 64
        }
      ]
    },
    {
      "cell_type": "code",
      "metadata": {
        "colab": {
          "base_uri": "https://localhost:8080/"
        },
        "id": "RhuopVgk2m9S",
        "outputId": "4b4021e9-d2ab-4527-897b-4b362934d227"
      },
      "source": [
        "# 검증 정확도 \n",
        "from sklearn.metrics import accuracy_score\n",
        "\n",
        "y_pred = model.predict(X_val_scaled)\n",
        "accuracy_score(y_val, y_pred)"
      ],
      "execution_count": 65,
      "outputs": [
        {
          "output_type": "execute_result",
          "data": {
            "text/plain": [
              "0.9517241379310345"
            ]
          },
          "metadata": {},
          "execution_count": 65
        }
      ]
    },
    {
      "cell_type": "code",
      "metadata": {
        "colab": {
          "base_uri": "https://localhost:8080/"
        },
        "id": "A43Xr1p4v0xw",
        "outputId": "e28bc5a7-5694-49f9-aa16-ea48d2f884dc"
      },
      "source": [
        "# 테스트 정확도 \n",
        "X_test_scaled = scaler.transform(X_test)\n",
        "y_pred_test = model.predict(X_test_scaled)\n",
        "accuracy_score(y_test, y_pred_test)"
      ],
      "execution_count": 66,
      "outputs": [
        {
          "output_type": "execute_result",
          "data": {
            "text/plain": [
              "0.9862068965517241"
            ]
          },
          "metadata": {},
          "execution_count": 66
        }
      ]
    },
    {
      "cell_type": "code",
      "metadata": {
        "colab": {
          "base_uri": "https://localhost:8080/"
        },
        "id": "XVZXhv2c3I3R",
        "outputId": "b1d926b4-925a-41e7-f670-de1b24455d98"
      },
      "source": [
        "coefficients = pd.Series(model.coef_[0], X_train.columns)\n",
        "coefficients"
      ],
      "execution_count": 67,
      "outputs": [
        {
          "output_type": "execute_result",
          "data": {
            "text/plain": [
              "dark                    -0.155176\n",
              "dragon                  -0.789293\n",
              "electric                 0.002437\n",
              "fairy                    0.232060\n",
              "fighting                 0.059658\n",
              "fire                    -0.307447\n",
              "flying                  -0.657682\n",
              "ghost                    0.199018\n",
              "grass                    0.181168\n",
              "ground                  -0.106914\n",
              "ice                     -0.211463\n",
              "normal                  -0.085202\n",
              "poison                   0.804803\n",
              "psychic                 -0.248557\n",
              "rock                     0.284045\n",
              "steel                   -0.347809\n",
              "Ditto                    0.000000\n",
              "bug                      1.176652\n",
              "dragon                   1.788966\n",
              "fairy                    0.670432\n",
              "field                    2.551079\n",
              "flying                   1.558704\n",
              "grass                    0.555307\n",
              "human-Like               1.127335\n",
              "mineral                  0.990023\n",
              "monster                  1.349875\n",
              "water_1                  0.976599\n",
              "water_2                  0.314192\n",
              "water_3                  0.576065\n",
              "Color_Blue              -0.052897\n",
              "Color_Brown              0.068430\n",
              "Color_Green             -0.069532\n",
              "Color_Grey              -0.262532\n",
              "Color_Pink               0.346248\n",
              "Color_Purple            -0.067203\n",
              "Color_Red               -0.098837\n",
              "Color_White              0.128595\n",
              "Color_Yellow             0.108274\n",
              "body_bipedal_tailless    0.210603\n",
              "body_four_wings          0.299794\n",
              "body_head_arms           0.406613\n",
              "body_head_base           0.653213\n",
              "body_head_legs           0.387676\n",
              "body_head_only           0.336087\n",
              "body_insectoid           0.334994\n",
              "body_multiple_bodies     0.378160\n",
              "body_quadruped          -0.407100\n",
              "body_serpentine_body     0.316043\n",
              "body_several_limbs       0.275094\n",
              "body_two_wings           0.359932\n",
              "body_with_fins           0.621104\n",
              "dtype: float64"
            ]
          },
          "metadata": {},
          "execution_count": 67
        }
      ]
    },
    {
      "cell_type": "code",
      "metadata": {
        "colab": {
          "base_uri": "https://localhost:8080/"
        },
        "id": "a5zr-Kpn3NAW",
        "outputId": "da5df2b7-7b00-401f-d1c4-17bd920a3e7b"
      },
      "source": [
        "print(classification_report(y_test,y_pred_test))"
      ],
      "execution_count": 68,
      "outputs": [
        {
          "output_type": "stream",
          "name": "stdout",
          "text": [
            "              precision    recall  f1-score   support\n",
            "\n",
            "           0       0.86      0.86      0.86         7\n",
            "           1       0.99      0.99      0.99       138\n",
            "\n",
            "    accuracy                           0.99       145\n",
            "   macro avg       0.92      0.92      0.92       145\n",
            "weighted avg       0.99      0.99      0.99       145\n",
            "\n"
          ]
        }
      ]
    },
    {
      "cell_type": "code",
      "metadata": {
        "colab": {
          "base_uri": "https://localhost:8080/",
          "height": 327
        },
        "id": "gTRET0qb8iwt",
        "outputId": "368fd748-9afe-4b10-f8c1-294ca56878af"
      },
      "source": [
        "from sklearn.metrics import plot_confusion_matrix\n",
        "import matplotlib.pyplot as plt\n",
        "\n",
        "fig, ax = plt.subplots()\n",
        "pcm = plot_confusion_matrix(model, X_test, y_test,\n",
        "                            cmap=plt.cm.Blues,\n",
        "                            ax=ax);\n",
        "plt.title(f'Confusion matrix, n = {len(y_test)}', fontsize=15)\n",
        "plt.show()"
      ],
      "execution_count": 92,
      "outputs": [
        {
          "output_type": "display_data",
          "data": {
            "image/png": "[encoded data removed]",
            "text/plain": [
              "<Figure size 480x320 with 2 Axes>"
            ]
          },
          "metadata": {
            "needs_background": "light"
          }
        }
      ]
    },
    {
      "cell_type": "code",
      "metadata": {
        "colab": {
          "base_uri": "https://localhost:8080/"
        },
        "id": "KfbwmfGv44VW",
        "outputId": "8253e41d-e80c-410e-f09e-6186bd478574"
      },
      "source": [
        "cm = pcm.confusion_matrix\n",
        "cm"
      ],
      "execution_count": 93,
      "outputs": [
        {
          "output_type": "execute_result",
          "data": {
            "text/plain": [
              "array([[  0,   7],\n",
              "       [  0, 138]])"
            ]
          },
          "metadata": {},
          "execution_count": 93
        }
      ]
    },
    {
      "cell_type": "code",
      "metadata": {
        "colab": {
          "base_uri": "https://localhost:8080/"
        },
        "id": "c1I24Rrp9yHV",
        "outputId": "3cd78e30-c46d-463f-a59b-007bef85f9e6"
      },
      "source": [
        "# 랜덤 포레스트 모델 \n",
        "from sklearn.ensemble import RandomForestClassifier\n",
        "from sklearn.pipeline import make_pipeline\n",
        "\n",
        "rfc = make_pipeline(RandomForestClassifier(n_jobs=-1, random_state=2,n_estimators=200))\n",
        "rfc.fit(X_train, y_train)"
      ],
      "execution_count": 71,
      "outputs": [
        {
          "output_type": "execute_result",
          "data": {
            "text/plain": [
              "Pipeline(memory=None,\n",
              "         steps=[('randomforestclassifier',\n",
              "                 RandomForestClassifier(bootstrap=True, ccp_alpha=0.0,\n",
              "                                        class_weight=None, criterion='gini',\n",
              "                                        max_depth=None, max_features='auto',\n",
              "                                        max_leaf_nodes=None, max_samples=None,\n",
              "                                        min_impurity_decrease=0.0,\n",
              "                                        min_impurity_split=None,\n",
              "                                        min_samples_leaf=1, min_samples_split=2,\n",
              "                                        min_weight_fraction_leaf=0.0,\n",
              "                                        n_estimators=200, n_jobs=-1,\n",
              "                                        oob_score=False, random_state=2,\n",
              "                                        verbose=0, warm_start=False))],\n",
              "         verbose=False)"
            ]
          },
          "metadata": {},
          "execution_count": 71
        }
      ]
    },
    {
      "cell_type": "code",
      "metadata": {
        "colab": {
          "base_uri": "https://localhost:8080/"
        },
        "id": "2mjIkdC9zxSY",
        "outputId": "fe9c3f6d-be69-45de-ced1-d62b56b5d48e"
      },
      "source": [
        "print('훈련 정확도', rfc.score(X_train, y_train))\n",
        "print('검증 정확도', rfc.score(X_val, y_val))"
      ],
      "execution_count": 72,
      "outputs": [
        {
          "output_type": "stream",
          "name": "stdout",
          "text": [
            "훈련 정확도 0.9947916666666666\n",
            "검증 정확도 0.9517241379310345\n"
          ]
        }
      ]
    },
    {
      "cell_type": "code",
      "metadata": {
        "colab": {
          "base_uri": "https://localhost:8080/"
        },
        "id": "TYEyyTjd08H9",
        "outputId": "e836587d-2ae2-403c-9368-94125bab46f4"
      },
      "source": [
        "print('테스트 정확도', rfc.score(X_test, y_test))"
      ],
      "execution_count": 73,
      "outputs": [
        {
          "output_type": "stream",
          "name": "stdout",
          "text": [
            "테스트 정확도 0.9793103448275862\n"
          ]
        }
      ]
    },
    {
      "cell_type": "code",
      "metadata": {
        "id": "vOxTrMzt-_VQ"
      },
      "source": [
        "rfc_pred = rfc.predict(X_test)"
      ],
      "execution_count": 74,
      "outputs": []
    },
    {
      "cell_type": "code",
      "metadata": {
        "colab": {
          "base_uri": "https://localhost:8080/"
        },
        "id": "HLW-8_5Y_E7W",
        "outputId": "b8025f8c-4a1f-4785-e2b9-e0b858998559"
      },
      "source": [
        "print(classification_report(y_test,rfc_pred))"
      ],
      "execution_count": 75,
      "outputs": [
        {
          "output_type": "stream",
          "name": "stdout",
          "text": [
            "              precision    recall  f1-score   support\n",
            "\n",
            "           0       0.83      0.71      0.77         7\n",
            "           1       0.99      0.99      0.99       138\n",
            "\n",
            "    accuracy                           0.98       145\n",
            "   macro avg       0.91      0.85      0.88       145\n",
            "weighted avg       0.98      0.98      0.98       145\n",
            "\n"
          ]
        }
      ]
    },
    {
      "cell_type": "code",
      "metadata": {
        "colab": {
          "base_uri": "https://localhost:8080/",
          "height": 200
        },
        "id": "EOcn6oiSIlmX",
        "outputId": "82627136-be2d-4ca5-acd5-5e9a3aed94d1"
      },
      "source": [
        "# 특성 중요도\n",
        "import matplotlib.pyplot as plt\n",
        "\n",
        "rf = rfc.named_steps['randomforestclassifier']\n",
        "importances = pd.Series(rf.feature_importances_, X_train.columns)\n",
        "\n",
        "n = 10\n",
        "plt.figure(figsize=(10,n/4))\n",
        "plt.title(f'Top {n} features ')\n",
        "importances.sort_values()[-n:].plot.barh();"
      ],
      "execution_count": 78,
      "outputs": [
        {
          "output_type": "display_data",
          "data": {
            "image/png": "[encoded data removed]",
            "text/plain": [
              "<Figure size 720x180 with 1 Axes>"
            ]
          },
          "metadata": {
            "needs_background": "light"
          }
        }
      ]
    },
    {
      "cell_type": "code",
      "metadata": {
        "colab": {
          "base_uri": "https://localhost:8080/"
        },
        "id": "Cmgez40YB3pX",
        "outputId": "ad83337b-5c62-41d0-88ea-32b4b53ddf39"
      },
      "source": [
        "! pip install  category_encoders"
      ],
      "execution_count": 79,
      "outputs": [
        {
          "output_type": "stream",
          "name": "stdout",
          "text": [
            "Requirement already satisfied: category_encoders in /usr/local/lib/python3.7/dist-packages (2.2.2)\n",
            "Requirement already satisfied: scipy>=1.0.0 in /usr/local/lib/python3.7/dist-packages (from category_encoders) (1.4.1)\n",
            "Requirement already satisfied: statsmodels>=0.9.0 in /usr/local/lib/python3.7/dist-packages (from category_encoders) (0.10.2)\n",
            "Requirement already satisfied: pandas>=0.21.1 in /usr/local/lib/python3.7/dist-packages (from category_encoders) (1.1.5)\n",
            "Requirement already satisfied: numpy>=1.14.0 in /usr/local/lib/python3.7/dist-packages (from category_encoders) (1.19.5)\n",
            "Requirement already satisfied: patsy>=0.5.1 in /usr/local/lib/python3.7/dist-packages (from category_encoders) (0.5.1)\n",
            "Requirement already satisfied: scikit-learn>=0.20.0 in /usr/local/lib/python3.7/dist-packages (from category_encoders) (0.22.2.post1)\n",
            "Requirement already satisfied: python-dateutil>=2.7.3 in /usr/local/lib/python3.7/dist-packages (from pandas>=0.21.1->category_encoders) (2.8.2)\n",
            "Requirement already satisfied: pytz>=2017.2 in /usr/local/lib/python3.7/dist-packages (from pandas>=0.21.1->category_encoders) (2018.9)\n",
            "Requirement already satisfied: six in /usr/local/lib/python3.7/dist-packages (from patsy>=0.5.1->category_encoders) (1.15.0)\n",
            "Requirement already satisfied: joblib>=0.11 in /usr/local/lib/python3.7/dist-packages (from scikit-learn>=0.20.0->category_encoders) (1.0.1)\n"
          ]
        }
      ]
    },
    {
      "cell_type": "code",
      "metadata": {
        "colab": {
          "base_uri": "https://localhost:8080/"
        },
        "id": "Ap5DDfCTCPe_",
        "outputId": "7b8dc7b6-2c01-413b-8d2c-120017b9877d"
      },
      "source": [
        "from xgboost import XGBClassifier\n",
        "from category_encoders import OrdinalEncoder\n",
        "from sklearn.impute import SimpleImputer\n",
        "\n",
        "pipe = make_pipeline(\n",
        "    OrdinalEncoder(),\n",
        "    SimpleImputer(strategy='median'),\n",
        "    XGBClassifier(n_estimators=200\n",
        "                  , random_state=2\n",
        "                  , n_jobs=-1\n",
        "                  , max_depth=7\n",
        "                  , learning_rate=0.2\n",
        "                 )\n",
        ")\n",
        "\n",
        "\n",
        "pipe.fit(X_train, y_train);"
      ],
      "execution_count": 80,
      "outputs": [
        {
          "output_type": "stream",
          "name": "stderr",
          "text": [
            "/usr/local/lib/python3.7/dist-packages/statsmodels/tools/_testing.py:19: FutureWarning: pandas.util.testing is deprecated. Use the functions in the public API at pandas.testing instead.\n",
            "  import pandas.util.testing as tm\n"
          ]
        }
      ]
    },
    {
      "cell_type": "code",
      "metadata": {
        "colab": {
          "base_uri": "https://localhost:8080/"
        },
        "id": "LvXn9H9CCC2L",
        "outputId": "9ef38eea-13b3-43aa-d540-41195aee1293"
      },
      "source": [
        "y_pred = pipe.predict(X_val)\n",
        "print('검증 정확도: ', accuracy_score(y_val, y_pred))\n",
        "\n",
        "print(classification_report(y_pred, y_val))"
      ],
      "execution_count": 81,
      "outputs": [
        {
          "output_type": "stream",
          "name": "stdout",
          "text": [
            "검증 정확도:  0.9517241379310345\n",
            "              precision    recall  f1-score   support\n",
            "\n",
            "           0       0.14      0.50      0.22         2\n",
            "           1       0.99      0.96      0.98       143\n",
            "\n",
            "    accuracy                           0.95       145\n",
            "   macro avg       0.57      0.73      0.60       145\n",
            "weighted avg       0.98      0.95      0.96       145\n",
            "\n"
          ]
        }
      ]
    },
    {
      "cell_type": "code",
      "metadata": {
        "colab": {
          "base_uri": "https://localhost:8080/"
        },
        "id": "c4LEnXNuDHgT",
        "outputId": "997581c5-a349-4662-d53b-897dd4a4690b"
      },
      "source": [
        "y_pred_test = pipe.predict(X_test)\n",
        "print('테스트 정확도: ', accuracy_score(y_test, y_pred_test))\n",
        "\n",
        "print(classification_report(y_pred_test, y_test))"
      ],
      "execution_count": 82,
      "outputs": [
        {
          "output_type": "stream",
          "name": "stdout",
          "text": [
            "테스트 정확도:  0.9793103448275862\n",
            "              precision    recall  f1-score   support\n",
            "\n",
            "           0       0.71      0.83      0.77         6\n",
            "           1       0.99      0.99      0.99       139\n",
            "\n",
            "    accuracy                           0.98       145\n",
            "   macro avg       0.85      0.91      0.88       145\n",
            "weighted avg       0.98      0.98      0.98       145\n",
            "\n"
          ]
        }
      ]
    },
    {
      "cell_type": "code",
      "metadata": {
        "colab": {
          "base_uri": "https://localhost:8080/"
        },
        "id": "ZyfH8szvDMmu",
        "outputId": "3e71537a-be3c-4802-dfe9-0d17962e21c3"
      },
      "source": [
        "# 랜덤포레스트 하이파라미터 최적 찾기\n",
        "\n",
        "from sklearn.ensemble import RandomForestClassifier\n",
        "from sklearn.model_selection import GridSearchCV\n",
        "\n",
        "params = { 'n_estimators' : [10, 100],\n",
        "           'max_depth' : [6, 8, 10, 12],\n",
        "           'min_samples_leaf' : [8, 12, 18],\n",
        "           'min_samples_split' : [8, 16, 20]\n",
        "            }\n",
        "\n",
        "# RandomForestClassifier 객체 생성 후 GridSearchCV 수행\n",
        "rf_clf = RandomForestClassifier(random_state = 0, n_jobs = -1)\n",
        "grid_cv = GridSearchCV(rf_clf, param_grid = params, cv = 3, n_jobs = -1)\n",
        "grid_cv.fit(X_train, y_train)"
      ],
      "execution_count": 83,
      "outputs": [
        {
          "output_type": "execute_result",
          "data": {
            "text/plain": [
              "GridSearchCV(cv=3, error_score=nan,\n",
              "             estimator=RandomForestClassifier(bootstrap=True, ccp_alpha=0.0,\n",
              "                                              class_weight=None,\n",
              "                                              criterion='gini', max_depth=None,\n",
              "                                              max_features='auto',\n",
              "                                              max_leaf_nodes=None,\n",
              "                                              max_samples=None,\n",
              "                                              min_impurity_decrease=0.0,\n",
              "                                              min_impurity_split=None,\n",
              "                                              min_samples_leaf=1,\n",
              "                                              min_samples_split=2,\n",
              "                                              min_weight_fraction_leaf=0.0,\n",
              "                                              n_estimators=100, n_jobs=-1,\n",
              "                                              oob_score=False, random_state=0,\n",
              "                                              verbose=0, warm_start=False),\n",
              "             iid='deprecated', n_jobs=-1,\n",
              "             param_grid={'max_depth': [6, 8, 10, 12],\n",
              "                         'min_samples_leaf': [8, 12, 18],\n",
              "                         'min_samples_split': [8, 16, 20],\n",
              "                         'n_estimators': [10, 100]},\n",
              "             pre_dispatch='2*n_jobs', refit=True, return_train_score=False,\n",
              "             scoring=None, verbose=0)"
            ]
          },
          "metadata": {},
          "execution_count": 83
        }
      ]
    },
    {
      "cell_type": "code",
      "metadata": {
        "colab": {
          "base_uri": "https://localhost:8080/"
        },
        "id": "N7w8OYmNE9Xh",
        "outputId": "6b375779-124e-4756-9543-17d2d4975f7c"
      },
      "source": [
        "print('최적 하이퍼 파라미터: ', grid_cv.best_params_)\n",
        "print('최고 예측 정확도: {:.4f}'.format(grid_cv.best_score_))"
      ],
      "execution_count": 84,
      "outputs": [
        {
          "output_type": "stream",
          "name": "stdout",
          "text": [
            "최적 하이퍼 파라미터:  {'max_depth': 6, 'min_samples_leaf': 8, 'min_samples_split': 8, 'n_estimators': 10}\n",
            "최고 예측 정확도: 0.9323\n"
          ]
        }
      ]
    },
    {
      "cell_type": "code",
      "metadata": {
        "colab": {
          "base_uri": "https://localhost:8080/"
        },
        "id": "sT3r1gKIHSOK",
        "outputId": "be11fe03-3963-463a-934e-29cd506e0468"
      },
      "source": [
        "# 랜덤 포레스트 모델에 적용 \n",
        "rfc1 = make_pipeline(RandomForestClassifier(n_jobs=-1, \n",
        "                                           random_state=2,\n",
        "                                           n_estimators=10,\n",
        "                                           max_depth=6,\n",
        "                                           min_samples_leaf=8,\n",
        "                                           min_samples_split=8))\n",
        "                  \n",
        "rfc1.fit(X_train, y_train)"
      ],
      "execution_count": 85,
      "outputs": [
        {
          "output_type": "execute_result",
          "data": {
            "text/plain": [
              "Pipeline(memory=None,\n",
              "         steps=[('randomforestclassifier',\n",
              "                 RandomForestClassifier(bootstrap=True, ccp_alpha=0.0,\n",
              "                                        class_weight=None, criterion='gini',\n",
              "                                        max_depth=6, max_features='auto',\n",
              "                                        max_leaf_nodes=None, max_samples=None,\n",
              "                                        min_impurity_decrease=0.0,\n",
              "                                        min_impurity_split=None,\n",
              "                                        min_samples_leaf=8, min_samples_split=8,\n",
              "                                        min_weight_fraction_leaf=0.0,\n",
              "                                        n_estimators=10, n_jobs=-1,\n",
              "                                        oob_score=False, random_state=2,\n",
              "                                        verbose=0, warm_start=False))],\n",
              "         verbose=False)"
            ]
          },
          "metadata": {},
          "execution_count": 85
        }
      ]
    },
    {
      "cell_type": "code",
      "metadata": {
        "colab": {
          "base_uri": "https://localhost:8080/"
        },
        "id": "UtSU6spvH3uX",
        "outputId": "6a8d4430-0220-4830-a701-8b4fa03b7079"
      },
      "source": [
        "print('훈련 정확도', rfc1.score(X_train, y_train))\n",
        "print('검증 정확도', rfc1.score(X_val, y_val))"
      ],
      "execution_count": 86,
      "outputs": [
        {
          "output_type": "stream",
          "name": "stdout",
          "text": [
            "훈련 정확도 0.9322916666666666\n",
            "검증 정확도 0.9517241379310345\n"
          ]
        }
      ]
    },
    {
      "cell_type": "code",
      "metadata": {
        "colab": {
          "base_uri": "https://localhost:8080/"
        },
        "id": "fIymbzJWJov9",
        "outputId": "c3ac26f5-671f-4982-f8ec-4ca712091f1f"
      },
      "source": [
        "pred = rfc1.predict(X_test)\n",
        "print('예측 정확도: {:.4f}'.format(accuracy_score(y_test,pred))) # 하이퍼파라미터를 조정한결과 오히려 그전 보다 테스트 정확도가 떨어졌다. 내가 잘못 값을 측정했거나 로지스틱모델이 젤 높은걸로 나왔다."
      ],
      "execution_count": 87,
      "outputs": [
        {
          "output_type": "stream",
          "name": "stdout",
          "text": [
            "예측 정확도: 0.9517\n"
          ]
        }
      ]
    },
    {
      "cell_type": "code",
      "metadata": {
        "colab": {
          "base_uri": "https://localhost:8080/"
        },
        "id": "frja_QX5axRj",
        "outputId": "512836a9-9aba-44ea-fc5b-71e7ef9dfa02"
      },
      "source": [
        "!pip install pdpbox\n",
        "!pip install shap"
      ],
      "execution_count": 89,
      "outputs": [
        {
          "output_type": "stream",
          "name": "stdout",
          "text": [
            "Collecting pdpbox\n",
            "  Using cached PDPbox-0.2.1-py3-none-any.whl\n",
            "Requirement already satisfied: numpy in /usr/local/lib/python3.7/dist-packages (from pdpbox) (1.19.5)\n",
            "Requirement already satisfied: joblib in /usr/local/lib/python3.7/dist-packages (from pdpbox) (1.0.1)\n",
            "Requirement already satisfied: psutil in /usr/local/lib/python3.7/dist-packages (from pdpbox) (5.4.8)\n",
            "Requirement already satisfied: sklearn in /usr/local/lib/python3.7/dist-packages (from pdpbox) (0.0)\n",
            "Requirement already satisfied: scipy in /usr/local/lib/python3.7/dist-packages (from pdpbox) (1.4.1)\n",
            "Requirement already satisfied: matplotlib==3.1.1 in /usr/local/lib/python3.7/dist-packages (from pdpbox) (3.1.1)\n",
            "Requirement already satisfied: pandas in /usr/local/lib/python3.7/dist-packages (from pdpbox) (1.1.5)\n",
            "Requirement already satisfied: kiwisolver>=1.0.1 in /usr/local/lib/python3.7/dist-packages (from matplotlib==3.1.1->pdpbox) (1.3.1)\n",
            "Requirement already satisfied: pyparsing!=2.0.4,!=2.1.2,!=2.1.6,>=2.0.1 in /usr/local/lib/python3.7/dist-packages (from matplotlib==3.1.1->pdpbox) (2.4.7)\n",
            "Requirement already satisfied: python-dateutil>=2.1 in /usr/local/lib/python3.7/dist-packages (from matplotlib==3.1.1->pdpbox) (2.8.2)\n",
            "Requirement already satisfied: cycler>=0.10 in /usr/local/lib/python3.7/dist-packages (from matplotlib==3.1.1->pdpbox) (0.10.0)\n",
            "Requirement already satisfied: six in /usr/local/lib/python3.7/dist-packages (from cycler>=0.10->matplotlib==3.1.1->pdpbox) (1.15.0)\n",
            "Requirement already satisfied: pytz>=2017.2 in /usr/local/lib/python3.7/dist-packages (from pandas->pdpbox) (2018.9)\n",
            "Requirement already satisfied: scikit-learn in /usr/local/lib/python3.7/dist-packages (from sklearn->pdpbox) (0.22.2.post1)\n",
            "Installing collected packages: pdpbox\n",
            "Successfully installed pdpbox-0.2.1\n",
            "Collecting shap\n",
            "  Using cached shap-0.39.0-cp37-cp37m-linux_x86_64.whl\n",
            "Requirement already satisfied: slicer==0.0.7 in /usr/local/lib/python3.7/dist-packages (from shap) (0.0.7)\n",
            "Requirement already satisfied: numpy in /usr/local/lib/python3.7/dist-packages (from shap) (1.19.5)\n",
            "Requirement already satisfied: scipy in /usr/local/lib/python3.7/dist-packages (from shap) (1.4.1)\n",
            "Requirement already satisfied: numba in /usr/local/lib/python3.7/dist-packages (from shap) (0.51.2)\n",
            "Requirement already satisfied: scikit-learn in /usr/local/lib/python3.7/dist-packages (from shap) (0.22.2.post1)\n",
            "Requirement already satisfied: tqdm>4.25.0 in /usr/local/lib/python3.7/dist-packages (from shap) (4.62.0)\n",
            "Requirement already satisfied: pandas in /usr/local/lib/python3.7/dist-packages (from shap) (1.1.5)\n",
            "Requirement already satisfied: cloudpickle in /usr/local/lib/python3.7/dist-packages (from shap) (1.3.0)\n",
            "Requirement already satisfied: setuptools in /usr/local/lib/python3.7/dist-packages (from numba->shap) (57.4.0)\n",
            "Requirement already satisfied: llvmlite<0.35,>=0.34.0.dev0 in /usr/local/lib/python3.7/dist-packages (from numba->shap) (0.34.0)\n",
            "Requirement already satisfied: pytz>=2017.2 in /usr/local/lib/python3.7/dist-packages (from pandas->shap) (2018.9)\n",
            "Requirement already satisfied: python-dateutil>=2.7.3 in /usr/local/lib/python3.7/dist-packages (from pandas->shap) (2.8.2)\n",
            "Requirement already satisfied: six>=1.5 in /usr/local/lib/python3.7/dist-packages (from python-dateutil>=2.7.3->pandas->shap) (1.15.0)\n",
            "Requirement already satisfied: joblib>=0.11 in /usr/local/lib/python3.7/dist-packages (from scikit-learn->shap) (1.0.1)\n",
            "Installing collected packages: shap\n",
            "Successfully installed shap-0.39.0\n"
          ]
        }
      ]
    },
    {
      "cell_type": "code",
      "metadata": {
        "id": "r4_1_nCwKqFU"
      },
      "source": [
        "import matplotlib.pyplot as plt\n",
        "plt.rcParams['figure.dpi'] = 80"
      ],
      "execution_count": 99,
      "outputs": []
    },
    {
      "cell_type": "code",
      "metadata": {
        "id": "njKmTf0NacTo"
      },
      "source": [
        "from pdpbox.pdp import pdp_isolate, pdp_plot\n",
        "\n",
        "import shap\n",
        "\n",
        "feature = 'dragon' "
      ],
      "execution_count": 100,
      "outputs": []
    },
    {
      "cell_type": "code",
      "metadata": {
        "colab": {
          "base_uri": "https://localhost:8080/",
          "height": 396
        },
        "id": "oITWsW3bUevB",
        "outputId": "6a61f86d-7b7f-4908-b477-2dbedf4736ef"
      },
      "source": [
        "isolated = pdp_isolate(\n",
        "    model=rfc, \n",
        "    dataset=X_train, \n",
        "    model_features=X_train.columns, \n",
        "    feature=feature\n",
        ");\n",
        "\n",
        "# 시각화 실패 어떤 방법을 동원해도 안되었다 . 전처리나 훈련 부분에서 잘못한건지 안되었다...오류 고치고 싶어서..늦게제출했다...ㅜㅜ "
      ],
      "execution_count": 101,
      "outputs": [
        {
          "output_type": "error",
          "ename": "ValueError",
          "evalue": "ignored",
          "traceback": [
            "\u001b[0;31m---------------------------------------------------------------------------\u001b[0m",
            "\u001b[0;31mValueError\u001b[0m                                Traceback (most recent call last)",
            "\u001b[0;32m<ipython-input-101-1bf8bb3b01a9>\u001b[0m in \u001b[0;36m<module>\u001b[0;34m()\u001b[0m\n\u001b[1;32m      3\u001b[0m     \u001b[0mdataset\u001b[0m\u001b[0;34m=\u001b[0m\u001b[0mX_train\u001b[0m\u001b[0;34m,\u001b[0m\u001b[0;34m\u001b[0m\u001b[0;34m\u001b[0m\u001b[0m\n\u001b[1;32m      4\u001b[0m     \u001b[0mmodel_features\u001b[0m\u001b[0;34m=\u001b[0m\u001b[0mX_train\u001b[0m\u001b[0;34m.\u001b[0m\u001b[0mcolumns\u001b[0m\u001b[0;34m,\u001b[0m\u001b[0;34m\u001b[0m\u001b[0;34m\u001b[0m\u001b[0m\n\u001b[0;32m----> 5\u001b[0;31m     \u001b[0mfeature\u001b[0m\u001b[0;34m=\u001b[0m\u001b[0mfeature\u001b[0m\u001b[0;34m\u001b[0m\u001b[0;34m\u001b[0m\u001b[0m\n\u001b[0m\u001b[1;32m      6\u001b[0m );\n\u001b[1;32m      7\u001b[0m \u001b[0;34m\u001b[0m\u001b[0m\n",
            "\u001b[0;32m/usr/local/lib/python3.7/dist-packages/pdpbox/pdp.py\u001b[0m in \u001b[0;36mpdp_isolate\u001b[0;34m(model, dataset, model_features, feature, num_grid_points, grid_type, percentile_range, grid_range, cust_grid_points, memory_limit, n_jobs, predict_kwds, data_transformer)\u001b[0m\n\u001b[1;32m    154\u001b[0m             \u001b[0mfeature_grid\u001b[0m\u001b[0;34m,\u001b[0m \u001b[0mdata\u001b[0m\u001b[0;34m=\u001b[0m\u001b[0m_dataset\u001b[0m\u001b[0;34m,\u001b[0m \u001b[0mmodel\u001b[0m\u001b[0;34m=\u001b[0m\u001b[0mmodel\u001b[0m\u001b[0;34m,\u001b[0m \u001b[0mmodel_features\u001b[0m\u001b[0;34m=\u001b[0m\u001b[0mmodel_features\u001b[0m\u001b[0;34m,\u001b[0m \u001b[0mn_classes\u001b[0m\u001b[0;34m=\u001b[0m\u001b[0mn_classes\u001b[0m\u001b[0;34m,\u001b[0m\u001b[0;34m\u001b[0m\u001b[0;34m\u001b[0m\u001b[0m\n\u001b[1;32m    155\u001b[0m             feature=feature, feature_type=feature_type, predict_kwds=predict_kwds, data_transformer=data_transformer)\n\u001b[0;32m--> 156\u001b[0;31m         for feature_grid in feature_grids)\n\u001b[0m\u001b[1;32m    157\u001b[0m \u001b[0;34m\u001b[0m\u001b[0m\n\u001b[1;32m    158\u001b[0m     \u001b[0;32mif\u001b[0m \u001b[0mn_classes\u001b[0m \u001b[0;34m>\u001b[0m \u001b[0;36m2\u001b[0m\u001b[0;34m:\u001b[0m\u001b[0;34m\u001b[0m\u001b[0;34m\u001b[0m\u001b[0m\n",
            "\u001b[0;32m/usr/local/lib/python3.7/dist-packages/joblib/parallel.py\u001b[0m in \u001b[0;36m__call__\u001b[0;34m(self, iterable)\u001b[0m\n\u001b[1;32m   1039\u001b[0m             \u001b[0;31m# remaining jobs.\u001b[0m\u001b[0;34m\u001b[0m\u001b[0;34m\u001b[0m\u001b[0;34m\u001b[0m\u001b[0m\n\u001b[1;32m   1040\u001b[0m             \u001b[0mself\u001b[0m\u001b[0;34m.\u001b[0m\u001b[0m_iterating\u001b[0m \u001b[0;34m=\u001b[0m \u001b[0;32mFalse\u001b[0m\u001b[0;34m\u001b[0m\u001b[0;34m\u001b[0m\u001b[0m\n\u001b[0;32m-> 1041\u001b[0;31m             \u001b[0;32mif\u001b[0m \u001b[0mself\u001b[0m\u001b[0;34m.\u001b[0m\u001b[0mdispatch_one_batch\u001b[0m\u001b[0;34m(\u001b[0m\u001b[0miterator\u001b[0m\u001b[0;34m)\u001b[0m\u001b[0;34m:\u001b[0m\u001b[0;34m\u001b[0m\u001b[0;34m\u001b[0m\u001b[0m\n\u001b[0m\u001b[1;32m   1042\u001b[0m                 \u001b[0mself\u001b[0m\u001b[0;34m.\u001b[0m\u001b[0m_iterating\u001b[0m \u001b[0;34m=\u001b[0m \u001b[0mself\u001b[0m\u001b[0;34m.\u001b[0m\u001b[0m_original_iterator\u001b[0m \u001b[0;32mis\u001b[0m \u001b[0;32mnot\u001b[0m \u001b[0;32mNone\u001b[0m\u001b[0;34m\u001b[0m\u001b[0;34m\u001b[0m\u001b[0m\n\u001b[1;32m   1043\u001b[0m \u001b[0;34m\u001b[0m\u001b[0m\n",
            "\u001b[0;32m/usr/local/lib/python3.7/dist-packages/joblib/parallel.py\u001b[0m in \u001b[0;36mdispatch_one_batch\u001b[0;34m(self, iterator)\u001b[0m\n\u001b[1;32m    857\u001b[0m                 \u001b[0;32mreturn\u001b[0m \u001b[0;32mFalse\u001b[0m\u001b[0;34m\u001b[0m\u001b[0;34m\u001b[0m\u001b[0m\n\u001b[1;32m    858\u001b[0m             \u001b[0;32melse\u001b[0m\u001b[0;34m:\u001b[0m\u001b[0;34m\u001b[0m\u001b[0;34m\u001b[0m\u001b[0m\n\u001b[0;32m--> 859\u001b[0;31m                 \u001b[0mself\u001b[0m\u001b[0;34m.\u001b[0m\u001b[0m_dispatch\u001b[0m\u001b[0;34m(\u001b[0m\u001b[0mtasks\u001b[0m\u001b[0;34m)\u001b[0m\u001b[0;34m\u001b[0m\u001b[0;34m\u001b[0m\u001b[0m\n\u001b[0m\u001b[1;32m    860\u001b[0m                 \u001b[0;32mreturn\u001b[0m \u001b[0;32mTrue\u001b[0m\u001b[0;34m\u001b[0m\u001b[0;34m\u001b[0m\u001b[0m\n\u001b[1;32m    861\u001b[0m \u001b[0;34m\u001b[0m\u001b[0m\n",
            "\u001b[0;32m/usr/local/lib/python3.7/dist-packages/joblib/parallel.py\u001b[0m in \u001b[0;36m_dispatch\u001b[0;34m(self, batch)\u001b[0m\n\u001b[1;32m    775\u001b[0m         \u001b[0;32mwith\u001b[0m \u001b[0mself\u001b[0m\u001b[0;34m.\u001b[0m\u001b[0m_lock\u001b[0m\u001b[0;34m:\u001b[0m\u001b[0;34m\u001b[0m\u001b[0;34m\u001b[0m\u001b[0m\n\u001b[1;32m    776\u001b[0m             \u001b[0mjob_idx\u001b[0m \u001b[0;34m=\u001b[0m \u001b[0mlen\u001b[0m\u001b[0;34m(\u001b[0m\u001b[0mself\u001b[0m\u001b[0;34m.\u001b[0m\u001b[0m_jobs\u001b[0m\u001b[0;34m)\u001b[0m\u001b[0;34m\u001b[0m\u001b[0;34m\u001b[0m\u001b[0m\n\u001b[0;32m--> 777\u001b[0;31m             \u001b[0mjob\u001b[0m \u001b[0;34m=\u001b[0m \u001b[0mself\u001b[0m\u001b[0;34m.\u001b[0m\u001b[0m_backend\u001b[0m\u001b[0;34m.\u001b[0m\u001b[0mapply_async\u001b[0m\u001b[0;34m(\u001b[0m\u001b[0mbatch\u001b[0m\u001b[0;34m,\u001b[0m \u001b[0mcallback\u001b[0m\u001b[0;34m=\u001b[0m\u001b[0mcb\u001b[0m\u001b[0;34m)\u001b[0m\u001b[0;34m\u001b[0m\u001b[0;34m\u001b[0m\u001b[0m\n\u001b[0m\u001b[1;32m    778\u001b[0m             \u001b[0;31m# A job can complete so quickly than its callback is\u001b[0m\u001b[0;34m\u001b[0m\u001b[0;34m\u001b[0m\u001b[0;34m\u001b[0m\u001b[0m\n\u001b[1;32m    779\u001b[0m             \u001b[0;31m# called before we get here, causing self._jobs to\u001b[0m\u001b[0;34m\u001b[0m\u001b[0;34m\u001b[0m\u001b[0;34m\u001b[0m\u001b[0m\n",
            "\u001b[0;32m/usr/local/lib/python3.7/dist-packages/joblib/_parallel_backends.py\u001b[0m in \u001b[0;36mapply_async\u001b[0;34m(self, func, callback)\u001b[0m\n\u001b[1;32m    206\u001b[0m     \u001b[0;32mdef\u001b[0m \u001b[0mapply_async\u001b[0m\u001b[0;34m(\u001b[0m\u001b[0mself\u001b[0m\u001b[0;34m,\u001b[0m \u001b[0mfunc\u001b[0m\u001b[0;34m,\u001b[0m \u001b[0mcallback\u001b[0m\u001b[0;34m=\u001b[0m\u001b[0;32mNone\u001b[0m\u001b[0;34m)\u001b[0m\u001b[0;34m:\u001b[0m\u001b[0;34m\u001b[0m\u001b[0;34m\u001b[0m\u001b[0m\n\u001b[1;32m    207\u001b[0m         \u001b[0;34m\"\"\"Schedule a func to be run\"\"\"\u001b[0m\u001b[0;34m\u001b[0m\u001b[0;34m\u001b[0m\u001b[0m\n\u001b[0;32m--> 208\u001b[0;31m         \u001b[0mresult\u001b[0m \u001b[0;34m=\u001b[0m \u001b[0mImmediateResult\u001b[0m\u001b[0;34m(\u001b[0m\u001b[0mfunc\u001b[0m\u001b[0;34m)\u001b[0m\u001b[0;34m\u001b[0m\u001b[0;34m\u001b[0m\u001b[0m\n\u001b[0m\u001b[1;32m    209\u001b[0m         \u001b[0;32mif\u001b[0m \u001b[0mcallback\u001b[0m\u001b[0;34m:\u001b[0m\u001b[0;34m\u001b[0m\u001b[0;34m\u001b[0m\u001b[0m\n\u001b[1;32m    210\u001b[0m             \u001b[0mcallback\u001b[0m\u001b[0;34m(\u001b[0m\u001b[0mresult\u001b[0m\u001b[0;34m)\u001b[0m\u001b[0;34m\u001b[0m\u001b[0;34m\u001b[0m\u001b[0m\n",
            "\u001b[0;32m/usr/local/lib/python3.7/dist-packages/joblib/_parallel_backends.py\u001b[0m in \u001b[0;36m__init__\u001b[0;34m(self, batch)\u001b[0m\n\u001b[1;32m    570\u001b[0m         \u001b[0;31m# Don't delay the application, to avoid keeping the input\u001b[0m\u001b[0;34m\u001b[0m\u001b[0;34m\u001b[0m\u001b[0;34m\u001b[0m\u001b[0m\n\u001b[1;32m    571\u001b[0m         \u001b[0;31m# arguments in memory\u001b[0m\u001b[0;34m\u001b[0m\u001b[0;34m\u001b[0m\u001b[0;34m\u001b[0m\u001b[0m\n\u001b[0;32m--> 572\u001b[0;31m         \u001b[0mself\u001b[0m\u001b[0;34m.\u001b[0m\u001b[0mresults\u001b[0m \u001b[0;34m=\u001b[0m \u001b[0mbatch\u001b[0m\u001b[0;34m(\u001b[0m\u001b[0;34m)\u001b[0m\u001b[0;34m\u001b[0m\u001b[0;34m\u001b[0m\u001b[0m\n\u001b[0m\u001b[1;32m    573\u001b[0m \u001b[0;34m\u001b[0m\u001b[0m\n\u001b[1;32m    574\u001b[0m     \u001b[0;32mdef\u001b[0m \u001b[0mget\u001b[0m\u001b[0;34m(\u001b[0m\u001b[0mself\u001b[0m\u001b[0;34m)\u001b[0m\u001b[0;34m:\u001b[0m\u001b[0;34m\u001b[0m\u001b[0;34m\u001b[0m\u001b[0m\n",
            "\u001b[0;32m/usr/local/lib/python3.7/dist-packages/joblib/parallel.py\u001b[0m in \u001b[0;36m__call__\u001b[0;34m(self)\u001b[0m\n\u001b[1;32m    261\u001b[0m         \u001b[0;32mwith\u001b[0m \u001b[0mparallel_backend\u001b[0m\u001b[0;34m(\u001b[0m\u001b[0mself\u001b[0m\u001b[0;34m.\u001b[0m\u001b[0m_backend\u001b[0m\u001b[0;34m,\u001b[0m \u001b[0mn_jobs\u001b[0m\u001b[0;34m=\u001b[0m\u001b[0mself\u001b[0m\u001b[0;34m.\u001b[0m\u001b[0m_n_jobs\u001b[0m\u001b[0;34m)\u001b[0m\u001b[0;34m:\u001b[0m\u001b[0;34m\u001b[0m\u001b[0;34m\u001b[0m\u001b[0m\n\u001b[1;32m    262\u001b[0m             return [func(*args, **kwargs)\n\u001b[0;32m--> 263\u001b[0;31m                     for func, args, kwargs in self.items]\n\u001b[0m\u001b[1;32m    264\u001b[0m \u001b[0;34m\u001b[0m\u001b[0m\n\u001b[1;32m    265\u001b[0m     \u001b[0;32mdef\u001b[0m \u001b[0m__reduce__\u001b[0m\u001b[0;34m(\u001b[0m\u001b[0mself\u001b[0m\u001b[0;34m)\u001b[0m\u001b[0;34m:\u001b[0m\u001b[0;34m\u001b[0m\u001b[0;34m\u001b[0m\u001b[0m\n",
            "\u001b[0;32m/usr/local/lib/python3.7/dist-packages/joblib/parallel.py\u001b[0m in \u001b[0;36m<listcomp>\u001b[0;34m(.0)\u001b[0m\n\u001b[1;32m    261\u001b[0m         \u001b[0;32mwith\u001b[0m \u001b[0mparallel_backend\u001b[0m\u001b[0;34m(\u001b[0m\u001b[0mself\u001b[0m\u001b[0;34m.\u001b[0m\u001b[0m_backend\u001b[0m\u001b[0;34m,\u001b[0m \u001b[0mn_jobs\u001b[0m\u001b[0;34m=\u001b[0m\u001b[0mself\u001b[0m\u001b[0;34m.\u001b[0m\u001b[0m_n_jobs\u001b[0m\u001b[0;34m)\u001b[0m\u001b[0;34m:\u001b[0m\u001b[0;34m\u001b[0m\u001b[0;34m\u001b[0m\u001b[0m\n\u001b[1;32m    262\u001b[0m             return [func(*args, **kwargs)\n\u001b[0;32m--> 263\u001b[0;31m                     for func, args, kwargs in self.items]\n\u001b[0m\u001b[1;32m    264\u001b[0m \u001b[0;34m\u001b[0m\u001b[0m\n\u001b[1;32m    265\u001b[0m     \u001b[0;32mdef\u001b[0m \u001b[0m__reduce__\u001b[0m\u001b[0;34m(\u001b[0m\u001b[0mself\u001b[0m\u001b[0;34m)\u001b[0m\u001b[0;34m:\u001b[0m\u001b[0;34m\u001b[0m\u001b[0;34m\u001b[0m\u001b[0m\n",
            "\u001b[0;32m/usr/local/lib/python3.7/dist-packages/pdpbox/pdp_calc_utils.py\u001b[0m in \u001b[0;36m_calc_ice_lines\u001b[0;34m(feature_grid, data, model, model_features, n_classes, feature, feature_type, predict_kwds, data_transformer, unit_test)\u001b[0m\n\u001b[1;32m     42\u001b[0m \u001b[0;34m\u001b[0m\u001b[0m\n\u001b[1;32m     43\u001b[0m     \u001b[0;31m# get predictions for this chunk\u001b[0m\u001b[0;34m\u001b[0m\u001b[0;34m\u001b[0m\u001b[0;34m\u001b[0m\u001b[0m\n\u001b[0;32m---> 44\u001b[0;31m     \u001b[0mpreds\u001b[0m \u001b[0;34m=\u001b[0m \u001b[0mpredict\u001b[0m\u001b[0;34m(\u001b[0m\u001b[0m_data\u001b[0m\u001b[0;34m[\u001b[0m\u001b[0mmodel_features\u001b[0m\u001b[0;34m]\u001b[0m\u001b[0;34m,\u001b[0m \u001b[0;34m**\u001b[0m\u001b[0mpredict_kwds\u001b[0m\u001b[0;34m)\u001b[0m\u001b[0;34m\u001b[0m\u001b[0;34m\u001b[0m\u001b[0m\n\u001b[0m\u001b[1;32m     45\u001b[0m \u001b[0;34m\u001b[0m\u001b[0m\n\u001b[1;32m     46\u001b[0m     \u001b[0;32mif\u001b[0m \u001b[0mn_classes\u001b[0m \u001b[0;34m==\u001b[0m \u001b[0;36m0\u001b[0m\u001b[0;34m:\u001b[0m\u001b[0;34m\u001b[0m\u001b[0;34m\u001b[0m\u001b[0m\n",
            "\u001b[0;32m/usr/local/lib/python3.7/dist-packages/sklearn/utils/metaestimators.py\u001b[0m in \u001b[0;36m<lambda>\u001b[0;34m(*args, **kwargs)\u001b[0m\n\u001b[1;32m    114\u001b[0m \u001b[0;34m\u001b[0m\u001b[0m\n\u001b[1;32m    115\u001b[0m         \u001b[0;31m# lambda, but not partial, allows help() to work with update_wrapper\u001b[0m\u001b[0;34m\u001b[0m\u001b[0;34m\u001b[0m\u001b[0;34m\u001b[0m\u001b[0m\n\u001b[0;32m--> 116\u001b[0;31m         \u001b[0mout\u001b[0m \u001b[0;34m=\u001b[0m \u001b[0;32mlambda\u001b[0m \u001b[0;34m*\u001b[0m\u001b[0margs\u001b[0m\u001b[0;34m,\u001b[0m \u001b[0;34m**\u001b[0m\u001b[0mkwargs\u001b[0m\u001b[0;34m:\u001b[0m \u001b[0mself\u001b[0m\u001b[0;34m.\u001b[0m\u001b[0mfn\u001b[0m\u001b[0;34m(\u001b[0m\u001b[0mobj\u001b[0m\u001b[0;34m,\u001b[0m \u001b[0;34m*\u001b[0m\u001b[0margs\u001b[0m\u001b[0;34m,\u001b[0m \u001b[0;34m**\u001b[0m\u001b[0mkwargs\u001b[0m\u001b[0;34m)\u001b[0m\u001b[0;34m\u001b[0m\u001b[0;34m\u001b[0m\u001b[0m\n\u001b[0m\u001b[1;32m    117\u001b[0m         \u001b[0;31m# update the docstring of the returned function\u001b[0m\u001b[0;34m\u001b[0m\u001b[0;34m\u001b[0m\u001b[0;34m\u001b[0m\u001b[0m\n\u001b[1;32m    118\u001b[0m         \u001b[0mupdate_wrapper\u001b[0m\u001b[0;34m(\u001b[0m\u001b[0mout\u001b[0m\u001b[0;34m,\u001b[0m \u001b[0mself\u001b[0m\u001b[0;34m.\u001b[0m\u001b[0mfn\u001b[0m\u001b[0;34m)\u001b[0m\u001b[0;34m\u001b[0m\u001b[0;34m\u001b[0m\u001b[0m\n",
            "\u001b[0;32m/usr/local/lib/python3.7/dist-packages/sklearn/pipeline.py\u001b[0m in \u001b[0;36mpredict_proba\u001b[0;34m(self, X)\u001b[0m\n\u001b[1;32m    470\u001b[0m         \u001b[0;32mfor\u001b[0m \u001b[0m_\u001b[0m\u001b[0;34m,\u001b[0m \u001b[0mname\u001b[0m\u001b[0;34m,\u001b[0m \u001b[0mtransform\u001b[0m \u001b[0;32min\u001b[0m \u001b[0mself\u001b[0m\u001b[0;34m.\u001b[0m\u001b[0m_iter\u001b[0m\u001b[0;34m(\u001b[0m\u001b[0mwith_final\u001b[0m\u001b[0;34m=\u001b[0m\u001b[0;32mFalse\u001b[0m\u001b[0;34m)\u001b[0m\u001b[0;34m:\u001b[0m\u001b[0;34m\u001b[0m\u001b[0;34m\u001b[0m\u001b[0m\n\u001b[1;32m    471\u001b[0m             \u001b[0mXt\u001b[0m \u001b[0;34m=\u001b[0m \u001b[0mtransform\u001b[0m\u001b[0;34m.\u001b[0m\u001b[0mtransform\u001b[0m\u001b[0;34m(\u001b[0m\u001b[0mXt\u001b[0m\u001b[0;34m)\u001b[0m\u001b[0;34m\u001b[0m\u001b[0;34m\u001b[0m\u001b[0m\n\u001b[0;32m--> 472\u001b[0;31m         \u001b[0;32mreturn\u001b[0m \u001b[0mself\u001b[0m\u001b[0;34m.\u001b[0m\u001b[0msteps\u001b[0m\u001b[0;34m[\u001b[0m\u001b[0;34m-\u001b[0m\u001b[0;36m1\u001b[0m\u001b[0;34m]\u001b[0m\u001b[0;34m[\u001b[0m\u001b[0;34m-\u001b[0m\u001b[0;36m1\u001b[0m\u001b[0;34m]\u001b[0m\u001b[0;34m.\u001b[0m\u001b[0mpredict_proba\u001b[0m\u001b[0;34m(\u001b[0m\u001b[0mXt\u001b[0m\u001b[0;34m)\u001b[0m\u001b[0;34m\u001b[0m\u001b[0;34m\u001b[0m\u001b[0m\n\u001b[0m\u001b[1;32m    473\u001b[0m \u001b[0;34m\u001b[0m\u001b[0m\n\u001b[1;32m    474\u001b[0m     \u001b[0;34m@\u001b[0m\u001b[0mif_delegate_has_method\u001b[0m\u001b[0;34m(\u001b[0m\u001b[0mdelegate\u001b[0m\u001b[0;34m=\u001b[0m\u001b[0;34m'_final_estimator'\u001b[0m\u001b[0;34m)\u001b[0m\u001b[0;34m\u001b[0m\u001b[0;34m\u001b[0m\u001b[0m\n",
            "\u001b[0;32m/usr/local/lib/python3.7/dist-packages/sklearn/ensemble/_forest.py\u001b[0m in \u001b[0;36mpredict_proba\u001b[0;34m(self, X)\u001b[0m\n\u001b[1;32m    654\u001b[0m         \u001b[0mcheck_is_fitted\u001b[0m\u001b[0;34m(\u001b[0m\u001b[0mself\u001b[0m\u001b[0;34m)\u001b[0m\u001b[0;34m\u001b[0m\u001b[0;34m\u001b[0m\u001b[0m\n\u001b[1;32m    655\u001b[0m         \u001b[0;31m# Check data\u001b[0m\u001b[0;34m\u001b[0m\u001b[0;34m\u001b[0m\u001b[0;34m\u001b[0m\u001b[0m\n\u001b[0;32m--> 656\u001b[0;31m         \u001b[0mX\u001b[0m \u001b[0;34m=\u001b[0m \u001b[0mself\u001b[0m\u001b[0;34m.\u001b[0m\u001b[0m_validate_X_predict\u001b[0m\u001b[0;34m(\u001b[0m\u001b[0mX\u001b[0m\u001b[0;34m)\u001b[0m\u001b[0;34m\u001b[0m\u001b[0;34m\u001b[0m\u001b[0m\n\u001b[0m\u001b[1;32m    657\u001b[0m \u001b[0;34m\u001b[0m\u001b[0m\n\u001b[1;32m    658\u001b[0m         \u001b[0;31m# Assign chunk of trees to jobs\u001b[0m\u001b[0;34m\u001b[0m\u001b[0;34m\u001b[0m\u001b[0;34m\u001b[0m\u001b[0m\n",
            "\u001b[0;32m/usr/local/lib/python3.7/dist-packages/sklearn/ensemble/_forest.py\u001b[0m in \u001b[0;36m_validate_X_predict\u001b[0;34m(self, X)\u001b[0m\n\u001b[1;32m    410\u001b[0m         \u001b[0mcheck_is_fitted\u001b[0m\u001b[0;34m(\u001b[0m\u001b[0mself\u001b[0m\u001b[0;34m)\u001b[0m\u001b[0;34m\u001b[0m\u001b[0;34m\u001b[0m\u001b[0m\n\u001b[1;32m    411\u001b[0m \u001b[0;34m\u001b[0m\u001b[0m\n\u001b[0;32m--> 412\u001b[0;31m         \u001b[0;32mreturn\u001b[0m \u001b[0mself\u001b[0m\u001b[0;34m.\u001b[0m\u001b[0mestimators_\u001b[0m\u001b[0;34m[\u001b[0m\u001b[0;36m0\u001b[0m\u001b[0;34m]\u001b[0m\u001b[0;34m.\u001b[0m\u001b[0m_validate_X_predict\u001b[0m\u001b[0;34m(\u001b[0m\u001b[0mX\u001b[0m\u001b[0;34m,\u001b[0m \u001b[0mcheck_input\u001b[0m\u001b[0;34m=\u001b[0m\u001b[0;32mTrue\u001b[0m\u001b[0;34m)\u001b[0m\u001b[0;34m\u001b[0m\u001b[0;34m\u001b[0m\u001b[0m\n\u001b[0m\u001b[1;32m    413\u001b[0m \u001b[0;34m\u001b[0m\u001b[0m\n\u001b[1;32m    414\u001b[0m     \u001b[0;34m@\u001b[0m\u001b[0mproperty\u001b[0m\u001b[0;34m\u001b[0m\u001b[0;34m\u001b[0m\u001b[0m\n",
            "\u001b[0;32m/usr/local/lib/python3.7/dist-packages/sklearn/tree/_classes.py\u001b[0m in \u001b[0;36m_validate_X_predict\u001b[0;34m(self, X, check_input)\u001b[0m\n\u001b[1;32m    389\u001b[0m                              \u001b[0;34m\"match the input. Model n_features is %s and \"\u001b[0m\u001b[0;34m\u001b[0m\u001b[0;34m\u001b[0m\u001b[0m\n\u001b[1;32m    390\u001b[0m                              \u001b[0;34m\"input n_features is %s \"\u001b[0m\u001b[0;34m\u001b[0m\u001b[0;34m\u001b[0m\u001b[0m\n\u001b[0;32m--> 391\u001b[0;31m                              % (self.n_features_, n_features))\n\u001b[0m\u001b[1;32m    392\u001b[0m \u001b[0;34m\u001b[0m\u001b[0m\n\u001b[1;32m    393\u001b[0m         \u001b[0;32mreturn\u001b[0m \u001b[0mX\u001b[0m\u001b[0;34m\u001b[0m\u001b[0;34m\u001b[0m\u001b[0m\n",
            "\u001b[0;31mValueError\u001b[0m: Number of features of the model must match the input. Model n_features is 51 and input n_features is 59 "
          ]
        }
      ]
    }
  ]
}